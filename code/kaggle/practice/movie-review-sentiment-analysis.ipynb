{
 "cells": [
  {
   "cell_type": "markdown",
   "metadata": {},
   "source": [
    "# Cluster and Prediction using RCNN"
   ]
  },
  {
   "cell_type": "markdown",
   "metadata": {
    "_uuid": "47cd5cf983d48325f85dcef9f852c8053cc75cd3"
   },
   "source": [
    "Our task is [Movie Review Sentiment Analysis](https://www.kaggle.com/c/movie-review-sentiment-analysis-kernels-only), where we classify the sentiment of sentences from the Rotten Tomatoes dataset. Data contains the phrases and their associaed sentiment labels. The sentiment labels are: 0 (negative), 1 (somewhat negative), 2 (neutral), 3 (somewhat positive), 4 (positive).\n",
    "\n",
    "Our strategy is to use clustering algorithms before preditive models. When the problem is complex, it would be helpful to split data into several sets. With distanced based similarity, we will group data points before training our deep learning model. Let's see how this process affects the performance of model. "
   ]
  },
  {
   "cell_type": "code",
   "execution_count": 17,
   "metadata": {
    "_uuid": "070863b277f22f05abf960b00a054b9cfbd7d07a",
    "scrolled": true
   },
   "outputs": [],
   "source": [
    "import numpy as np\n",
    "import pandas as pd\n",
    "import matplotlib.pyplot as plt\n",
    "import os, re, string\n",
    "#print(os.listdir(\"../input\"))\n",
    "\n",
    "from nltk.stem import PorterStemmer, WordNetLemmatizer\n",
    "from nltk.corpus import stopwords\n",
    "from nltk import tokenize\n",
    "from keras.preprocessing.text import Tokenizer\n",
    "from keras.preprocessing.sequence import pad_sequences\n",
    "from keras.layers import Dense, Input, LSTM, Embedding, Dropout, Activation, Conv1D, GRU, BatchNormalization\n",
    "from keras.layers import Bidirectional, GlobalMaxPool1D, MaxPooling1D, Add, Flatten\n",
    "from keras.layers import GlobalAveragePooling1D, GlobalMaxPooling1D, concatenate, SpatialDropout1D\n",
    "from keras.models import Model, load_model\n",
    "from keras import initializers, regularizers, constraints, optimizers, layers, callbacks\n",
    "from keras import backend as K\n",
    "from keras.layers import Dense, Input, GlobalMaxPooling1D \n",
    "from keras.layers import Conv1D, MaxPooling1D, Embedding # 1-d operation\n",
    "from keras.models import Model\n",
    "from sklearn.cluster import KMeans\n",
    "from sklearn.metrics import accuracy_score\n",
    "from scipy.spatial.distance import cdist\n",
    "\n",
    "ps = PorterStemmer()\n",
    "lm = WordNetLemmatizer()\n",
    "\n",
    "import pickle\n",
    "def save(data, name):\n",
    "    filehandler = open(name, \"wb\")\n",
    "    pickle.dump(data, filehandler)\n",
    "    filehandler.close()\n",
    "def load(name):\n",
    "    filehandler = open(name, \"rb\")\n",
    "    return pickle.load(filehandler)\n",
    "\n",
    "#train = pd.read_csv('../input/movie-review-sentiment-analysis-kernels-only/train.tsv', sep=\"\\t\")\n",
    "#test = pd.read_csv('../input/movie-review-sentiment-analysis-kernels-only/test.tsv', sep=\"\\t\")\n",
    "#sub = pd.read_csv('../input/movie-review-sentiment-analysis-kernels-only/sampleSubmission.csv', sep=\",\")\n",
    "train = pd.read_csv('train.tsv', sep=\"\\t\")\n",
    "test = pd.read_csv('test.tsv', sep=\"\\t\")\n",
    "sub = pd.read_csv('sampleSubmission.csv', sep=\",\")"
   ]
  },
  {
   "cell_type": "markdown",
   "metadata": {
    "_uuid": "b5a97ec4d7e61d0eebe4bdf3d65b3df5f711571b"
   },
   "source": [
    "# Data Exploration"
   ]
  },
  {
   "cell_type": "markdown",
   "metadata": {
    "_uuid": "94483c801671332e2a8e1c40414635c052fa9f5c"
   },
   "source": [
    "Let's explore our dataset before modeling."
   ]
  },
  {
   "cell_type": "code",
   "execution_count": 18,
   "metadata": {
    "_uuid": "a2f0d3721ab636078ea346444090d5b9124e378f",
    "scrolled": true
   },
   "outputs": [
    {
     "data": {
      "text/html": [
       "<div>\n",
       "<style>\n",
       "    .dataframe thead tr:only-child th {\n",
       "        text-align: right;\n",
       "    }\n",
       "\n",
       "    .dataframe thead th {\n",
       "        text-align: left;\n",
       "    }\n",
       "\n",
       "    .dataframe tbody tr th {\n",
       "        vertical-align: top;\n",
       "    }\n",
       "</style>\n",
       "<table border=\"1\" class=\"dataframe\">\n",
       "  <thead>\n",
       "    <tr style=\"text-align: right;\">\n",
       "      <th></th>\n",
       "      <th>PhraseId</th>\n",
       "      <th>SentenceId</th>\n",
       "      <th>Phrase</th>\n",
       "      <th>Sentiment</th>\n",
       "    </tr>\n",
       "  </thead>\n",
       "  <tbody>\n",
       "    <tr>\n",
       "      <th>0</th>\n",
       "      <td>1</td>\n",
       "      <td>1</td>\n",
       "      <td>A series of escapades demonstrating the adage ...</td>\n",
       "      <td>1</td>\n",
       "    </tr>\n",
       "    <tr>\n",
       "      <th>1</th>\n",
       "      <td>2</td>\n",
       "      <td>1</td>\n",
       "      <td>A series of escapades demonstrating the adage ...</td>\n",
       "      <td>2</td>\n",
       "    </tr>\n",
       "    <tr>\n",
       "      <th>2</th>\n",
       "      <td>3</td>\n",
       "      <td>1</td>\n",
       "      <td>A series</td>\n",
       "      <td>2</td>\n",
       "    </tr>\n",
       "    <tr>\n",
       "      <th>3</th>\n",
       "      <td>4</td>\n",
       "      <td>1</td>\n",
       "      <td>A</td>\n",
       "      <td>2</td>\n",
       "    </tr>\n",
       "    <tr>\n",
       "      <th>4</th>\n",
       "      <td>5</td>\n",
       "      <td>1</td>\n",
       "      <td>series</td>\n",
       "      <td>2</td>\n",
       "    </tr>\n",
       "    <tr>\n",
       "      <th>5</th>\n",
       "      <td>6</td>\n",
       "      <td>1</td>\n",
       "      <td>of escapades demonstrating the adage that what...</td>\n",
       "      <td>2</td>\n",
       "    </tr>\n",
       "    <tr>\n",
       "      <th>6</th>\n",
       "      <td>7</td>\n",
       "      <td>1</td>\n",
       "      <td>of</td>\n",
       "      <td>2</td>\n",
       "    </tr>\n",
       "    <tr>\n",
       "      <th>7</th>\n",
       "      <td>8</td>\n",
       "      <td>1</td>\n",
       "      <td>escapades demonstrating the adage that what is...</td>\n",
       "      <td>2</td>\n",
       "    </tr>\n",
       "    <tr>\n",
       "      <th>8</th>\n",
       "      <td>9</td>\n",
       "      <td>1</td>\n",
       "      <td>escapades</td>\n",
       "      <td>2</td>\n",
       "    </tr>\n",
       "    <tr>\n",
       "      <th>9</th>\n",
       "      <td>10</td>\n",
       "      <td>1</td>\n",
       "      <td>demonstrating the adage that what is good for ...</td>\n",
       "      <td>2</td>\n",
       "    </tr>\n",
       "  </tbody>\n",
       "</table>\n",
       "</div>"
      ],
      "text/plain": [
       "   PhraseId  SentenceId                                             Phrase  \\\n",
       "0         1           1  A series of escapades demonstrating the adage ...   \n",
       "1         2           1  A series of escapades demonstrating the adage ...   \n",
       "2         3           1                                           A series   \n",
       "3         4           1                                                  A   \n",
       "4         5           1                                             series   \n",
       "5         6           1  of escapades demonstrating the adage that what...   \n",
       "6         7           1                                                 of   \n",
       "7         8           1  escapades demonstrating the adage that what is...   \n",
       "8         9           1                                          escapades   \n",
       "9        10           1  demonstrating the adage that what is good for ...   \n",
       "\n",
       "   Sentiment  \n",
       "0          1  \n",
       "1          2  \n",
       "2          2  \n",
       "3          2  \n",
       "4          2  \n",
       "5          2  \n",
       "6          2  \n",
       "7          2  \n",
       "8          2  \n",
       "9          2  "
      ]
     },
     "execution_count": 18,
     "metadata": {},
     "output_type": "execute_result"
    }
   ],
   "source": [
    "train.head(10)"
   ]
  },
  {
   "cell_type": "markdown",
   "metadata": {
    "_uuid": "71f0987f6e7f5c1b2cfc8a3ad10360dfdc41b26b"
   },
   "source": [
    "There are null or all-space strings in Phrase column. To solve this dummy values, we consider such strings as \"DUMMY\"."
   ]
  },
  {
   "cell_type": "code",
   "execution_count": 19,
   "metadata": {
    "_uuid": "9dcb13a5a49ca017a945f7768c27842f4ff3cd2e",
    "collapsed": true
   },
   "outputs": [],
   "source": [
    "train[\"Phrase\"] = train[\"Phrase\"].fillna(\"DUMMY\").values\n",
    "test[\"Phrase\"] = test[\"Phrase\"].fillna(\"DUMMY\").values\n",
    "\n",
    "def space_handling(str_):\n",
    "    if str_.isspace() == True: return 'DUMMY'\n",
    "    else: return str_ \n",
    "    \n",
    "train[\"Phrase\"] = train[\"Phrase\"].apply(space_handling)\n",
    "test[\"Phrase\"] = test[\"Phrase\"].apply(space_handling)"
   ]
  },
  {
   "cell_type": "markdown",
   "metadata": {
    "_uuid": "db67ee9a738d51ff56965d342f3ce15c6f877d99"
   },
   "source": [
    "There is \"DUMMY\" in 2005th row. "
   ]
  },
  {
   "cell_type": "code",
   "execution_count": 20,
   "metadata": {
    "_uuid": "b2d4d6f858bc34af0f08a32bb2c955c0088eccf0"
   },
   "outputs": [
    {
     "data": {
      "text/html": [
       "<div>\n",
       "<style>\n",
       "    .dataframe thead tr:only-child th {\n",
       "        text-align: right;\n",
       "    }\n",
       "\n",
       "    .dataframe thead th {\n",
       "        text-align: left;\n",
       "    }\n",
       "\n",
       "    .dataframe tbody tr th {\n",
       "        vertical-align: top;\n",
       "    }\n",
       "</style>\n",
       "<table border=\"1\" class=\"dataframe\">\n",
       "  <thead>\n",
       "    <tr style=\"text-align: right;\">\n",
       "      <th></th>\n",
       "      <th>PhraseId</th>\n",
       "      <th>SentenceId</th>\n",
       "      <th>Phrase</th>\n",
       "      <th>Sentiment</th>\n",
       "    </tr>\n",
       "  </thead>\n",
       "  <tbody>\n",
       "    <tr>\n",
       "      <th>2005</th>\n",
       "      <td>2006</td>\n",
       "      <td>76</td>\n",
       "      <td>DUMMY</td>\n",
       "      <td>1</td>\n",
       "    </tr>\n",
       "    <tr>\n",
       "      <th>2006</th>\n",
       "      <td>2007</td>\n",
       "      <td>76</td>\n",
       "      <td>Contrived pastiche of caper</td>\n",
       "      <td>2</td>\n",
       "    </tr>\n",
       "    <tr>\n",
       "      <th>2007</th>\n",
       "      <td>2008</td>\n",
       "      <td>76</td>\n",
       "      <td>Contrived pastiche</td>\n",
       "      <td>2</td>\n",
       "    </tr>\n",
       "    <tr>\n",
       "      <th>2008</th>\n",
       "      <td>2009</td>\n",
       "      <td>76</td>\n",
       "      <td>Contrived</td>\n",
       "      <td>1</td>\n",
       "    </tr>\n",
       "    <tr>\n",
       "      <th>2009</th>\n",
       "      <td>2010</td>\n",
       "      <td>76</td>\n",
       "      <td>pastiche</td>\n",
       "      <td>2</td>\n",
       "    </tr>\n",
       "    <tr>\n",
       "      <th>2010</th>\n",
       "      <td>2011</td>\n",
       "      <td>76</td>\n",
       "      <td>of caper</td>\n",
       "      <td>2</td>\n",
       "    </tr>\n",
       "    <tr>\n",
       "      <th>2011</th>\n",
       "      <td>2012</td>\n",
       "      <td>76</td>\n",
       "      <td>caper</td>\n",
       "      <td>2</td>\n",
       "    </tr>\n",
       "  </tbody>\n",
       "</table>\n",
       "</div>"
      ],
      "text/plain": [
       "      PhraseId  SentenceId                       Phrase  Sentiment\n",
       "2005      2006          76                        DUMMY          1\n",
       "2006      2007          76  Contrived pastiche of caper          2\n",
       "2007      2008          76           Contrived pastiche          2\n",
       "2008      2009          76                    Contrived          1\n",
       "2009      2010          76                     pastiche          2\n",
       "2010      2011          76                     of caper          2\n",
       "2011      2012          76                        caper          2"
      ]
     },
     "execution_count": 20,
     "metadata": {},
     "output_type": "execute_result"
    }
   ],
   "source": [
    "train.loc[train.SentenceId == 76]"
   ]
  },
  {
   "cell_type": "markdown",
   "metadata": {
    "_uuid": "f95eecdb79d727c952e073301aadcde1091b6974"
   },
   "source": [
    "It is important to calculate statistics of data. Here are some statistics of our data. (Ref. [Andrew Lukyanenko](https://www.kaggle.com/artgor/movie-review-sentiment-analysis-eda-and-models))"
   ]
  },
  {
   "cell_type": "code",
   "execution_count": 21,
   "metadata": {
    "_uuid": "8c4a81085067ae20e0fdd513b2c7c76908dd51ba"
   },
   "outputs": [
    {
     "name": "stdout",
     "output_type": "stream",
     "text": [
      "Average count of phrases per sentence in train is 18.\n",
      "Average count of phrases per sentence in test is 20.\n",
      "\n",
      "\n",
      "Number of phrases in train: 156060. Number of sentences in train: 8529.\n",
      "Number of phrases in test: 66292. Number of sentences in test: 3310.\n",
      "\n",
      "\n",
      "Average word length of phrases in train is 7.\n",
      "Average word length of phrases in test is 7.\n",
      "\n",
      "\n",
      "Maximum word length of phrases in train is 52.\n",
      "Maximum word length of phrases in test is 56.\n",
      "\n",
      "\n",
      "Minimum word length of phrases in train is 1.\n",
      "Minimum word length of phrases in test is 1.\n",
      "\n",
      "\n"
     ]
    }
   ],
   "source": [
    "print('Average count of phrases per sentence in train is {0:.0f}.'.format(train.groupby('SentenceId')['Phrase'].count().mean()))\n",
    "print('Average count of phrases per sentence in test is {0:.0f}.'.format(test.groupby('SentenceId')['Phrase'].count().mean()))\n",
    "print('\\n')\n",
    "print('Number of phrases in train: {}. Number of sentences in train: {}.'.format(train.shape[0], len(train.SentenceId.unique())))\n",
    "print('Number of phrases in test: {}. Number of sentences in test: {}.'.format(test.shape[0], len(test.SentenceId.unique())))\n",
    "print('\\n')\n",
    "print('Average word length of phrases in train is {0:.0f}.'.format(np.mean(train['Phrase'].apply(lambda x: len(x.split())))))\n",
    "print('Average word length of phrases in test is {0:.0f}.'.format(np.mean(test['Phrase'].apply(lambda x: len(x.split())))))\n",
    "print('\\n')\n",
    "print('Maximum word length of phrases in train is {0:.0f}.'.format(np.max(train['Phrase'].apply(lambda x: len(x.split())))))\n",
    "print('Maximum word length of phrases in test is {0:.0f}.'.format(np.max(test['Phrase'].apply(lambda x: len(x.split())))))\n",
    "print('\\n')\n",
    "print('Minimum word length of phrases in train is {0:.0f}.'.format(np.min(train['Phrase'].apply(lambda x: len(x.split())))))\n",
    "print('Minimum word length of phrases in test is {0:.0f}.'.format(np.min(test['Phrase'].apply(lambda x: len(x.split())))))\n",
    "print('\\n')"
   ]
  },
  {
   "cell_type": "markdown",
   "metadata": {
    "_uuid": "78de580403e54a2364df41d1bb39d2617dc89563"
   },
   "source": [
    "In general, neural network models require fixed input length. To choose the fixed input length, we refer to the maximum word length of phrases in train data. In our case, maximumm word length is 52. We choose **60 fixed input length** for safety margins. If the length of data points in test set over 60, we must trim out. Note that we always keep from considering the statistics of test set because it is cheating. "
   ]
  },
  {
   "cell_type": "code",
   "execution_count": 22,
   "metadata": {
    "_uuid": "9b5d731d4d2d16b31097dacf739a978b3a0525d0",
    "collapsed": true
   },
   "outputs": [],
   "source": [
    "MAX_NUM_WORDS = 60 "
   ]
  },
  {
   "cell_type": "markdown",
   "metadata": {
    "_uuid": "fe91b997442c286e65fd9de1b5147afae1c0893c"
   },
   "source": [
    "It is also worthy to the ratios of phrases and sentences. (Ref. [Vinh Dang](https://www.kaggle.com/dangvinh/word2vec-feature-with-cnn-model))"
   ]
  },
  {
   "cell_type": "code",
   "execution_count": 23,
   "metadata": {
    "_uuid": "0c0cf831c03de8c34b5298fd8a29e037f4bb50a2"
   },
   "outputs": [
    {
     "data": {
      "image/png": "[encoded data removed]",
      "text/plain": [
       "<matplotlib.figure.Figure at 0x18ad00dc1d0>"
      ]
     },
     "metadata": {},
     "output_type": "display_data"
    }
   ],
   "source": [
    "labels = [\"0\", \"1\", \"2\", \"3\", \"4\"]\n",
    "numberPhrase = train.groupby(\"Sentiment\").count().PhraseId\n",
    "plt.pie(list(numberPhrase), labels=labels, autopct='%.2f%%', shadow=True)\n",
    "\n",
    "plt.title('Ratio diagram of Phrase')\n",
    "plt.show()"
   ]
  },
  {
   "cell_type": "code",
   "execution_count": 24,
   "metadata": {
    "_uuid": "755cb6cdb6dba696715c02d5b29e53d1e66ffad2"
   },
   "outputs": [
    {
     "data": {
      "image/png": "[encoded data removed]",
      "text/plain": [
       "<matplotlib.figure.Figure at 0x18ad01f70b8>"
      ]
     },
     "metadata": {},
     "output_type": "display_data"
    }
   ],
   "source": [
    "numberSentence = train.groupby(\"Sentiment\").SentenceId.nunique()\n",
    "plt.pie(list(numberSentence), labels=labels, autopct='%.2f%%', shadow=True)\n",
    "plt.title('Ratio diagram of Sentence')\n",
    "plt.show()"
   ]
  },
  {
   "cell_type": "markdown",
   "metadata": {
    "_uuid": "aa76221dc78003aef30038c725d23f3d347ea6c1"
   },
   "source": [
    "# Data Preprocessing"
   ]
  },
  {
   "cell_type": "markdown",
   "metadata": {
    "_uuid": "3b184985cf3626e1a54585de2c13a5b1c83f1dd3"
   },
   "source": [
    "When we doing text analysis, it is necessary to do preprocessing for resolve sparsity problem. Also, we can make the best use of the power of pre-trained word embedding. We use light version of text preprocessing because some phrases have only a single non-semantic word.\n",
    "\n",
    "* do lowering\n",
    "* do lemmatazing\n",
    "* retain stop-words \n",
    "* retrian puncutations\n",
    "* filter out non-frequent words (thr=3)\n"
   ]
  },
  {
   "cell_type": "markdown",
   "metadata": {
    "_uuid": "9b7a314142208ddc4349b705328eb3221921ca5e"
   },
   "source": [
    "Even non-semantic words such as stop-words and punctuations can be data points. Here is an example. 'This' and 'and' are individually the whole phrases. 'Dot' can have semantic meaning in that 'is worth seeking .' vs. 'is worth seeking'. We assume that the same situations exist in our dataset. "
   ]
  },
  {
   "cell_type": "code",
   "execution_count": 25,
   "metadata": {
    "_uuid": "70e06b4936664d00ae3708ca27a3b3f45e926d4a"
   },
   "outputs": [
    {
     "data": {
      "text/html": [
       "<div>\n",
       "<style>\n",
       "    .dataframe thead tr:only-child th {\n",
       "        text-align: right;\n",
       "    }\n",
       "\n",
       "    .dataframe thead th {\n",
       "        text-align: left;\n",
       "    }\n",
       "\n",
       "    .dataframe tbody tr th {\n",
       "        vertical-align: top;\n",
       "    }\n",
       "</style>\n",
       "<table border=\"1\" class=\"dataframe\">\n",
       "  <thead>\n",
       "    <tr style=\"text-align: right;\">\n",
       "      <th></th>\n",
       "      <th>PhraseId</th>\n",
       "      <th>SentenceId</th>\n",
       "      <th>Phrase</th>\n",
       "      <th>Sentiment</th>\n",
       "    </tr>\n",
       "  </thead>\n",
       "  <tbody>\n",
       "    <tr>\n",
       "      <th>63</th>\n",
       "      <td>64</td>\n",
       "      <td>2</td>\n",
       "      <td>This quiet , introspective and entertaining in...</td>\n",
       "      <td>4</td>\n",
       "    </tr>\n",
       "    <tr>\n",
       "      <th>64</th>\n",
       "      <td>65</td>\n",
       "      <td>2</td>\n",
       "      <td>This quiet , introspective and entertaining in...</td>\n",
       "      <td>3</td>\n",
       "    </tr>\n",
       "    <tr>\n",
       "      <th>65</th>\n",
       "      <td>66</td>\n",
       "      <td>2</td>\n",
       "      <td>This</td>\n",
       "      <td>2</td>\n",
       "    </tr>\n",
       "    <tr>\n",
       "      <th>66</th>\n",
       "      <td>67</td>\n",
       "      <td>2</td>\n",
       "      <td>quiet , introspective and entertaining indepen...</td>\n",
       "      <td>4</td>\n",
       "    </tr>\n",
       "    <tr>\n",
       "      <th>67</th>\n",
       "      <td>68</td>\n",
       "      <td>2</td>\n",
       "      <td>quiet , introspective and entertaining</td>\n",
       "      <td>3</td>\n",
       "    </tr>\n",
       "    <tr>\n",
       "      <th>68</th>\n",
       "      <td>69</td>\n",
       "      <td>2</td>\n",
       "      <td>quiet</td>\n",
       "      <td>2</td>\n",
       "    </tr>\n",
       "    <tr>\n",
       "      <th>69</th>\n",
       "      <td>70</td>\n",
       "      <td>2</td>\n",
       "      <td>, introspective and entertaining</td>\n",
       "      <td>3</td>\n",
       "    </tr>\n",
       "    <tr>\n",
       "      <th>70</th>\n",
       "      <td>71</td>\n",
       "      <td>2</td>\n",
       "      <td>introspective and entertaining</td>\n",
       "      <td>3</td>\n",
       "    </tr>\n",
       "    <tr>\n",
       "      <th>71</th>\n",
       "      <td>72</td>\n",
       "      <td>2</td>\n",
       "      <td>introspective and</td>\n",
       "      <td>3</td>\n",
       "    </tr>\n",
       "    <tr>\n",
       "      <th>72</th>\n",
       "      <td>73</td>\n",
       "      <td>2</td>\n",
       "      <td>introspective</td>\n",
       "      <td>2</td>\n",
       "    </tr>\n",
       "    <tr>\n",
       "      <th>73</th>\n",
       "      <td>74</td>\n",
       "      <td>2</td>\n",
       "      <td>and</td>\n",
       "      <td>2</td>\n",
       "    </tr>\n",
       "    <tr>\n",
       "      <th>74</th>\n",
       "      <td>75</td>\n",
       "      <td>2</td>\n",
       "      <td>entertaining</td>\n",
       "      <td>4</td>\n",
       "    </tr>\n",
       "    <tr>\n",
       "      <th>75</th>\n",
       "      <td>76</td>\n",
       "      <td>2</td>\n",
       "      <td>independent</td>\n",
       "      <td>2</td>\n",
       "    </tr>\n",
       "    <tr>\n",
       "      <th>76</th>\n",
       "      <td>77</td>\n",
       "      <td>2</td>\n",
       "      <td>is worth seeking .</td>\n",
       "      <td>3</td>\n",
       "    </tr>\n",
       "    <tr>\n",
       "      <th>77</th>\n",
       "      <td>78</td>\n",
       "      <td>2</td>\n",
       "      <td>is worth seeking</td>\n",
       "      <td>4</td>\n",
       "    </tr>\n",
       "    <tr>\n",
       "      <th>78</th>\n",
       "      <td>79</td>\n",
       "      <td>2</td>\n",
       "      <td>is worth</td>\n",
       "      <td>2</td>\n",
       "    </tr>\n",
       "    <tr>\n",
       "      <th>79</th>\n",
       "      <td>80</td>\n",
       "      <td>2</td>\n",
       "      <td>worth</td>\n",
       "      <td>2</td>\n",
       "    </tr>\n",
       "    <tr>\n",
       "      <th>80</th>\n",
       "      <td>81</td>\n",
       "      <td>2</td>\n",
       "      <td>seeking</td>\n",
       "      <td>2</td>\n",
       "    </tr>\n",
       "  </tbody>\n",
       "</table>\n",
       "</div>"
      ],
      "text/plain": [
       "    PhraseId  SentenceId                                             Phrase  \\\n",
       "63        64           2  This quiet , introspective and entertaining in...   \n",
       "64        65           2  This quiet , introspective and entertaining in...   \n",
       "65        66           2                                               This   \n",
       "66        67           2  quiet , introspective and entertaining indepen...   \n",
       "67        68           2             quiet , introspective and entertaining   \n",
       "68        69           2                                              quiet   \n",
       "69        70           2                   , introspective and entertaining   \n",
       "70        71           2                     introspective and entertaining   \n",
       "71        72           2                                  introspective and   \n",
       "72        73           2                                      introspective   \n",
       "73        74           2                                                and   \n",
       "74        75           2                                       entertaining   \n",
       "75        76           2                                        independent   \n",
       "76        77           2                                 is worth seeking .   \n",
       "77        78           2                                   is worth seeking   \n",
       "78        79           2                                           is worth   \n",
       "79        80           2                                              worth   \n",
       "80        81           2                                            seeking   \n",
       "\n",
       "    Sentiment  \n",
       "63          4  \n",
       "64          3  \n",
       "65          2  \n",
       "66          4  \n",
       "67          3  \n",
       "68          2  \n",
       "69          3  \n",
       "70          3  \n",
       "71          3  \n",
       "72          2  \n",
       "73          2  \n",
       "74          4  \n",
       "75          2  \n",
       "76          3  \n",
       "77          4  \n",
       "78          2  \n",
       "79          2  \n",
       "80          2  "
      ]
     },
     "execution_count": 25,
     "metadata": {},
     "output_type": "execute_result"
    }
   ],
   "source": [
    "train.loc[train.SentenceId == 2]"
   ]
  },
  {
   "cell_type": "code",
   "execution_count": 26,
   "metadata": {
    "_uuid": "abacac735fb3596b312903459c381927f6048207",
    "collapsed": true
   },
   "outputs": [],
   "source": [
    "def gen_prep(doc): # general preprocessing\n",
    "    \n",
    "    # recover\n",
    "    doc = re.sub(r\"\\'s\", \" is\", doc) \n",
    "    doc = re.sub(r\"\\'ve\", \" have\", doc) \n",
    "    doc = re.sub(r\"n\\'t\", \" not\", doc) \n",
    "    doc = re.sub(r\"\\'re\", \" are\", doc) \n",
    "    doc = re.sub(r\"\\'d\", \" would\", doc) \n",
    "    doc = re.sub(r\"\\'ll\", \" will\", doc)     \n",
    "    \n",
    "    # DEFAULT\n",
    "    tokens = doc.split() # split by whitespace\n",
    "    \n",
    "    ##############################\n",
    "    \"\"\" Deformation  \"\"\"\n",
    "    ##############################\n",
    "    ### Lowerring\n",
    "    tokens = [word.lower() for word in tokens] # lower\n",
    "    ### Normalization\n",
    "    #tokens = [ps.stem(word) for word in tokens] # stemming\n",
    "    tokens = [lm.lemmatize(word) for word in tokens] # lemmatizing\n",
    "    ### Remove Punctuation & Tokenization\n",
    "    #re_punc = re.compile('[%s]' % re.escape(string.punctuation)) # except for '.'\n",
    "    #tokens = [re_punc.sub(' ', w) for w in tokens] # Removing Punctuation   \n",
    "    #temp=[]\n",
    "    #for each in tokens:\n",
    "    #    temp += each.split()\n",
    "    #tokens = temp[:]\n",
    "    \n",
    "    ##############################\n",
    "    \"\"\" Deletion  \"\"\"\n",
    "    ##############################\n",
    "    # remove non-alphabetic tokens\n",
    "    #SLMP_N_tokens = [word for word in SLMP_tokens if word.isalpha()] \n",
    "    # remove stop-words\n",
    "    #stop_words = set(stopwords.words('english')) \n",
    "    #SLMP_T_tokens = [word for word in SLMP_tokens if not word in stop_words]\n",
    "    # remove non-freq words (limit to document-level)\n",
    "    #SLMP_TF_tokens = [word for word in SLMP_T_tokens if len(word) > 2]  \n",
    "    return ' '.join(tokens)\n",
    "\n",
    "def filter_prep(doc, vocab):\n",
    "    doc_li = doc.split()\n",
    "    tokens_li = [w for w in doc_li if w in vocab]\n",
    "    return ' '.join(tokens_li)\n",
    "\n",
    "# Do preprocessing both train and test set\n",
    "train['Phrase'] = train['Phrase'].apply(gen_prep)\n",
    "test['Phrase'] = test['Phrase'].apply(gen_prep)"
   ]
  },
  {
   "cell_type": "markdown",
   "metadata": {
    "_uuid": "b8c305db988d5320b05d70858e9d1138868dd37a"
   },
   "source": [
    "We build a vocabulary for fitering out non-frequent words."
   ]
  },
  {
   "cell_type": "code",
   "execution_count": 27,
   "metadata": {
    "_uuid": "9a3e36d49c9bc1314ba74066d713465ae4f5a948"
   },
   "outputs": [
    {
     "name": "stdout",
     "output_type": "stream",
     "text": [
      "Size of vocab:  14893\n"
     ]
    }
   ],
   "source": [
    "### Build vocabuary using only train data\n",
    "from collections import Counter\n",
    "vocab = Counter()\n",
    "for i, each in train.iterrows():\n",
    "    vocab.update(each['Phrase'].split()) # arg: ['word1', 'word2', 'word3', ...]\n",
    "min_occurane = 3 # 0: do not filter\n",
    "vocab = [k for k,c in vocab.items() if c > min_occurane]    \n",
    "\n",
    "train['Phrase'] = train['Phrase'].apply(lambda x: filter_prep(x, vocab))\n",
    "test['Phrase'] = test['Phrase'].apply(lambda x: filter_prep(x, vocab))\n",
    "\n",
    "VOCAB_SIZE = len(vocab) + 1 # add UNK\n",
    "print('Size of vocab: ', VOCAB_SIZE)"
   ]
  },
  {
   "cell_type": "markdown",
   "metadata": {
    "_uuid": "ded80a1872b217d28634fab1ca58d4978a9979b1"
   },
   "source": [
    "# Data Vectorization"
   ]
  },
  {
   "cell_type": "markdown",
   "metadata": {
    "_uuid": "a1f8d690e72262f7878c5e9f292db275e54e2c63"
   },
   "source": [
    "In order for computers understand data, we transform each data point to numerial vector form. We will use word embedding for including syntactic and sematic information."
   ]
  },
  {
   "cell_type": "markdown",
   "metadata": {
    "_uuid": "a60a5a8b6ac2756a3e76be152cc9132d8a983ed9"
   },
   "source": [
    "First step, we transform data point into vocabulary index by using `Tokenizer` and add zero padding using `pad_sequences`."
   ]
  },
  {
   "cell_type": "code",
   "execution_count": 28,
   "metadata": {
    "_uuid": "af9631e2d9af23f953d50faced081dbcda95b479"
   },
   "outputs": [
    {
     "name": "stdout",
     "output_type": "stream",
     "text": [
      "Unique tokens:  14892\n",
      "Shape of train tensor:  (156060, 60)\n",
      "Shape of test tensor:  (66292, 60)\n"
     ]
    }
   ],
   "source": [
    "tokenizer = Tokenizer(num_words=VOCAB_SIZE,\n",
    "                      filters = '', \n",
    "                      lower = False) # 두 가지 일을 함: (1) 토큰으로 쪼갬 (2) 토큰을 숫자로 변경\n",
    "\n",
    "phrases = train[\"Phrase\"].values\n",
    "tokenizer.fit_on_texts(phrases)\n",
    "word2idx = tokenizer.word_index \n",
    "print('Unique tokens: ', len(word2idx)) # it is the same as vocab size\n",
    "\n",
    "# for train data\n",
    "phrases = tokenizer.texts_to_sequences(phrases)\n",
    "train_ = pad_sequences(phrases, maxlen = MAX_NUM_WORDS)\n",
    "print('Shape of train tensor: ', train_.shape)\n",
    "\n",
    "# for test data\n",
    "test_phrases = test[\"Phrase\"].values\n",
    "test_phrases = tokenizer.texts_to_sequences(test_phrases)\n",
    "test_ = pad_sequences(test_phrases, maxlen = MAX_NUM_WORDS)\n",
    "print('Shape of test tensor: ', test_.shape)"
   ]
  },
  {
   "cell_type": "markdown",
   "metadata": {
    "_uuid": "26200571b2e2133fbbd2bd7829e5f0a01e0231f8"
   },
   "source": [
    "There are many different pretrained word embedding in online: skip-gram, GloVe, fastText. Among them, We will use GloVe pretrained word embedding. (Ref. [Stanford NLP Group: GloVe](https://nlp.stanford.edu/projects/glove/)). We save it as pickle for accessibility."
   ]
  },
  {
   "cell_type": "code",
   "execution_count": 29,
   "metadata": {
    "_uuid": "1dbf1fefae515ef71c813cfd2e326416058b3021"
   },
   "outputs": [],
   "source": [
    "# # Loading Word Vectors\n",
    "# print('Loading word vectors...')\n",
    "# word2vec = {}\n",
    "# with open(os.path.join('glove.42B.300d.txt'), encoding='UTF8') as f:\n",
    "#     # is just a space-separated text file in the format:\n",
    "#     # word vec[0] vec[1] vec[2] ...\n",
    "#     for line in f:\n",
    "#         values = line.split()\n",
    "#         word = values[0]\n",
    "#         vec = np.asarray(values[1:], dtype='float32')\n",
    "#         word2vec[word] = vec\n",
    "# print('Found %s word vectors.' % len(word2vec))\n",
    "\n",
    "# save(word2vec, 'glove_42B_300d')\n",
    "#word2vec = load('../input/glove-42b-300d-pickle/glove_42B_300d')\n",
    "word2vec = load('glove_42B_300d')\n",
    "EMBEDDING_DIM = 300\n",
    "\n",
    "# embedding matrix\n",
    "#num_words = min(VOCAB_SIZE, len(word2idx) + 1)\n",
    "embedding_matrix = np.zeros((VOCAB_SIZE, EMBEDDING_DIM))\n",
    "for word, i in word2idx.items():\n",
    "    if i < VOCAB_SIZE:\n",
    "        embedding_vector = word2vec.get(word) # get function: if null, print None (not exception)\n",
    "        if embedding_vector is not None:\n",
    "            # words not found in embedding index will be all zeros. \n",
    "            embedding_matrix[i] = embedding_vector"
   ]
  },
  {
   "cell_type": "markdown",
   "metadata": {
    "_uuid": "c1c48600defce38b64f16796d32ebb85fc525dcb"
   },
   "source": [
    "# Document Representation"
   ]
  },
  {
   "cell_type": "markdown",
   "metadata": {
    "_uuid": "0101b7427737101092932d2a57305f4f823a585b"
   },
   "source": [
    "In order to using clustering algorithms, we need a single vector for each point (not multiple vectors). A simple way to combine multiple vectors is to average them. That is, we element-wisely average word vectors for building document vector."
   ]
  },
  {
   "cell_type": "code",
   "execution_count": 30,
   "metadata": {
    "_uuid": "af07840c20b2dcb08475cbf0ed9e862d3ec45684",
    "scrolled": true
   },
   "outputs": [
    {
     "name": "stdout",
     "output_type": "stream",
     "text": [
      "Shape of train tensor:  (156060, 60)\n"
     ]
    }
   ],
   "source": [
    "print('Shape of train tensor: ', train_.shape)"
   ]
  },
  {
   "cell_type": "code",
   "execution_count": 31,
   "metadata": {
    "_uuid": "2ac35600e15f30885da7138ee9669465064bbded"
   },
   "outputs": [
    {
     "name": "stdout",
     "output_type": "stream",
     "text": [
      "Length of train document:  156060\n",
      "Length of train document:  66292\n"
     ]
    }
   ],
   "source": [
    "train_doc = []\n",
    "for i, word in enumerate(train_):\n",
    "    sum_emb = np.zeros(EMBEDDING_DIM)\n",
    "    for j, _ in enumerate(word):\n",
    "        sum_emb += embedding_matrix[train_[i][j]] # sum\n",
    "    train_doc.append(sum_emb / MAX_NUM_WORDS) # average\n",
    "print('Length of train document: ', len(train_doc))\n",
    "\n",
    "test_doc = []\n",
    "for i, word in enumerate(test_):\n",
    "    sum_emb = np.zeros(EMBEDDING_DIM)\n",
    "    for j, _ in enumerate(word):\n",
    "        sum_emb += embedding_matrix[test_[i][j]] # sum\n",
    "    test_doc.append(sum_emb / MAX_NUM_WORDS) # average\n",
    "print('Length of train document: ', len(test_doc))"
   ]
  },
  {
   "cell_type": "markdown",
   "metadata": {
    "_uuid": "cf50993353c7710cc567158c57f9912b974ae6b2"
   },
   "source": [
    "# Clustering"
   ]
  },
  {
   "cell_type": "markdown",
   "metadata": {
    "_uuid": "5037bd0dbbecff27f998befb971b3619d9905aa0"
   },
   "source": [
    "We will use K-means algorithm for clustering. K-means needs the optimal number of clusters. For that, we use Elbow method. "
   ]
  },
  {
   "cell_type": "code",
   "execution_count": 32,
   "metadata": {
    "_uuid": "b3f0a2fc75c53566b828f5988b2c0d4919c00b25"
   },
   "outputs": [
    {
     "data": {
      "image/png": "[encoded data removed]",
      "text/plain": [
       "<matplotlib.figure.Figure at 0x18ae0321630>"
      ]
     },
     "metadata": {},
     "output_type": "display_data"
    }
   ],
   "source": [
    "##############################################\n",
    "\"\"\" Find the optimal k using Elbow Method \"\"\"\n",
    "##############################################\n",
    "\n",
    "# k means determine k\n",
    "costs = []\n",
    "K = range(1,10)\n",
    "for k in K:\n",
    "    kmeanModel = KMeans(n_clusters=k).fit(train_doc)\n",
    "    kmeanModel.fit(train_doc)\n",
    "    costs.append(sum(np.min(cdist(train_doc, kmeanModel.cluster_centers_, 'euclidean'), axis=1)) / len(train_doc))\n",
    "    \n",
    "# Plot the elbow\n",
    "plt.plot(K, costs, 'bx-')\n",
    "plt.xlabel('k')\n",
    "plt.ylabel('Cost')\n",
    "plt.title('Elbow Method showing the optimal k')\n",
    "plt.show()"
   ]
  },
  {
   "cell_type": "markdown",
   "metadata": {
    "_uuid": "1f456490dd1b07f5acce18dd87ca162103852825"
   },
   "source": [
    "As you see the above plot, k=3 seems the Elbow point because the trend is saturated starting from it."
   ]
  },
  {
   "cell_type": "code",
   "execution_count": 33,
   "metadata": {
    "_uuid": "406e0cbf38e095243659053c5109722db75f9aa5"
   },
   "outputs": [
    {
     "name": "stdout",
     "output_type": "stream",
     "text": [
      "Shape of centroids from K-means:  (3, 300)\n"
     ]
    }
   ],
   "source": [
    "NUM_CLUSTERS = 3\n",
    "kmeans = KMeans(n_clusters=NUM_CLUSTERS)\n",
    "kmeans.fit(train_doc)\n",
    "print('Shape of centroids from K-means: ', kmeans.cluster_centers_.shape)"
   ]
  },
  {
   "cell_type": "markdown",
   "metadata": {
    "_uuid": "7f1d2909a463854f35e3b55c8fbf93631e8792db"
   },
   "source": [
    "# Train & Test Predictive Models"
   ]
  },
  {
   "cell_type": "markdown",
   "metadata": {
    "_uuid": "01dfa624d7faaa12c4177dd5a6d86cd5ee0e8abb"
   },
   "source": [
    "In this part, we define a neural network model and train and test it. Remember, we will use multiple models according to the results of clustering."
   ]
  },
  {
   "cell_type": "markdown",
   "metadata": {
    "_uuid": "735cf37cfc263d6c65857c5a68cf15e40a2a3751"
   },
   "source": [
    "We divide the whole data into several subsets based on the euclidean distance with learned centroids. "
   ]
  },
  {
   "cell_type": "code",
   "execution_count": 34,
   "metadata": {
    "_uuid": "94c86c4440c18b1ab1dad7e897892d7974c03b33",
    "collapsed": true
   },
   "outputs": [],
   "source": [
    "# for train\n",
    "train_doc_dist = cdist(train_doc, kmeans.cluster_centers_, 'euclidean')\n",
    "train_index = [x.tolist().index(min(x)) for x in train_doc_dist]\n",
    "\n",
    "# for test\n",
    "test_doc_dist = cdist(test_doc, kmeans.cluster_centers_, 'euclidean')\n",
    "test_index = [x.tolist().index(min(x)) for x in test_doc_dist]\n",
    "\n",
    "def subset_train(X, y, idx_, clusterID):\n",
    "    subX = []\n",
    "    suby = []\n",
    "    phraseID = []\n",
    "    for i, _ in enumerate(X):\n",
    "        if idx_[i] == clusterID:\n",
    "            subX.append(X[i])\n",
    "            suby.append(y[i])\n",
    "    assert(len(subX) == len(suby))\n",
    "    return np.array(subX), np.array(suby)\n",
    "\n",
    "def subset_test(X, idx_, PhraseId, clusterID):\n",
    "    subX = []\n",
    "    phraseId = []\n",
    "    for i, _ in enumerate(X):\n",
    "        if idx_[i] == clusterID:\n",
    "            subX.append(X[i])\n",
    "            phraseId.append(PhraseId[i])\n",
    "    return np.array(subX), np.array(phraseId)"
   ]
  },
  {
   "cell_type": "markdown",
   "metadata": {
    "_uuid": "c9435ec76af74bec8875c2e812dae49209f90888"
   },
   "source": [
    "Neural networks models have good performance for text predictive problems. The representative neural models are convolutional and recurrent models. Convolutional models captures short temporal dependencies with sparse connections. Recurrent models recognizes long temporal correlations with recurrent structures. These days, there are many researches to combine both models. It leads to get benefits from both side.\n",
    "\n",
    "From this apsect, we build a recurrent convolutional neural network (RCNN) for our task. We have 5-depth RCNN modules, where at each depth, the united representation in temporal-size is drwan by global max pooling and the final representation is made by concatinating them. (Model Design inspired by [Andrew Lukyanenko](https://www.kaggle.com/artgor/movie-review-sentiment-analysis-eda-and-models)) "
   ]
  },
  {
   "cell_type": "code",
   "execution_count": 42,
   "metadata": {
    "_uuid": "73f254b258cd2aceb7433a522a6131e723ff8111",
    "collapsed": true
   },
   "outputs": [],
   "source": [
    "def define_RCNN_model():\n",
    "    \n",
    "    input_ = Input(shape = (MAX_NUM_WORDS,))\n",
    "    x = Embedding(VOCAB_SIZE, \n",
    "                  EMBEDDING_DIM, \n",
    "                  weights = [embedding_matrix], \n",
    "                  trainable = True # notice this: True\n",
    "                 )(input_)\n",
    "    x = SpatialDropout1D(0.5)(x)\n",
    "    \n",
    "    x1 = Bidirectional(GRU(128, return_sequences = True))(x)\n",
    "    x1 = Conv1D(64, kernel_size=3, padding='valid', kernel_initializer='he_uniform')(x1)\n",
    "    max_x1 = GlobalMaxPooling1D()(x1)\n",
    "        \n",
    "    x2 = Bidirectional(GRU(128, return_sequences = True))(x1)\n",
    "    x2 = Conv1D(64, kernel_size=3, padding='valid', kernel_initializer='he_uniform')(x2)\n",
    "    max_x2 = GlobalMaxPooling1D()(x2)\n",
    "    \n",
    "    x3 = Bidirectional(GRU(128, return_sequences = True))(x2)\n",
    "    x3 = Conv1D(64, kernel_size=3, padding='valid', kernel_initializer='he_uniform')(x3)\n",
    "    max_x3 = GlobalMaxPooling1D()(x3)\n",
    "    \n",
    "    x = concatenate([max_x1, max_x2, max_x3])\n",
    "    x = Dense(128, activation = \"tanh\")(x)\n",
    "    x = Dropout(0.5)(x)\n",
    "    \n",
    "    output = Dense(5, activation = \"softmax\")(x)\n",
    "    \n",
    "    model = Model(inputs = input_, outputs = output)\n",
    "    model.compile(loss = \"categorical_crossentropy\", \n",
    "                  optimizer = 'rmsprop', \n",
    "                  metrics = [\"accuracy\"])\n",
    "    \n",
    "    return model"
   ]
  },
  {
   "cell_type": "code",
   "execution_count": 43,
   "metadata": {},
   "outputs": [
    {
     "name": "stdout",
     "output_type": "stream",
     "text": [
      "__________________________________________________________________________________________________\n",
      "Layer (type)                    Output Shape         Param #     Connected to                     \n",
      "==================================================================================================\n",
      "input_8 (InputLayer)            (None, 60)           0                                            \n",
      "__________________________________________________________________________________________________\n",
      "embedding_8 (Embedding)         (None, 60, 300)      4467900     input_8[0][0]                    \n",
      "__________________________________________________________________________________________________\n",
      "spatial_dropout1d_8 (SpatialDro (None, 60, 300)      0           embedding_8[0][0]                \n",
      "__________________________________________________________________________________________________\n",
      "bidirectional_36 (Bidirectional (None, 60, 256)      329472      spatial_dropout1d_8[0][0]        \n",
      "__________________________________________________________________________________________________\n",
      "conv1d_36 (Conv1D)              (None, 58, 64)       49216       bidirectional_36[0][0]           \n",
      "__________________________________________________________________________________________________\n",
      "bidirectional_37 (Bidirectional (None, 58, 256)      148224      conv1d_36[0][0]                  \n",
      "__________________________________________________________________________________________________\n",
      "conv1d_37 (Conv1D)              (None, 56, 64)       49216       bidirectional_37[0][0]           \n",
      "__________________________________________________________________________________________________\n",
      "bidirectional_38 (Bidirectional (None, 56, 256)      148224      conv1d_37[0][0]                  \n",
      "__________________________________________________________________________________________________\n",
      "conv1d_38 (Conv1D)              (None, 54, 64)       49216       bidirectional_38[0][0]           \n",
      "__________________________________________________________________________________________________\n",
      "global_max_pooling1d_36 (Global (None, 64)           0           conv1d_36[0][0]                  \n",
      "__________________________________________________________________________________________________\n",
      "global_max_pooling1d_37 (Global (None, 64)           0           conv1d_37[0][0]                  \n",
      "__________________________________________________________________________________________________\n",
      "global_max_pooling1d_38 (Global (None, 64)           0           conv1d_38[0][0]                  \n",
      "__________________________________________________________________________________________________\n",
      "concatenate_8 (Concatenate)     (None, 192)          0           global_max_pooling1d_36[0][0]    \n",
      "                                                                 global_max_pooling1d_37[0][0]    \n",
      "                                                                 global_max_pooling1d_38[0][0]    \n",
      "__________________________________________________________________________________________________\n",
      "dense_15 (Dense)                (None, 128)          24704       concatenate_8[0][0]              \n",
      "__________________________________________________________________________________________________\n",
      "dropout_8 (Dropout)             (None, 128)          0           dense_15[0][0]                   \n",
      "__________________________________________________________________________________________________\n",
      "dense_16 (Dense)                (None, 5)            645         dropout_8[0][0]                  \n",
      "==================================================================================================\n",
      "Total params: 5,266,817\n",
      "Trainable params: 5,266,817\n",
      "Non-trainable params: 0\n",
      "__________________________________________________________________________________________________\n"
     ]
    }
   ],
   "source": [
    "define_RCNN_model().summary()"
   ]
  },
  {
   "cell_type": "markdown",
   "metadata": {
    "_uuid": "2fe87b089d6ef2a14b2c9ef941a46fc7dcb3d8c3"
   },
   "source": [
    "Since we need to use multiple neural models, the new process is as follows:"
   ]
  },
  {
   "cell_type": "code",
   "execution_count": 45,
   "metadata": {
    "_uuid": "ac0c40b6140801e65304c9e72c27ad6df5f190fc",
    "scrolled": false
   },
   "outputs": [
    {
     "name": "stdout",
     "output_type": "stream",
     "text": [
      "Cluster ID:  0\n",
      "Cluster ID:  1\n",
      "Cluster ID:  2\n"
     ]
    }
   ],
   "source": [
    "sorted_pred = [-1] * len(test)\n",
    "models = []\n",
    "acc = []\n",
    "for cluster_ID in range(0, NUM_CLUSTERS):\n",
    "\n",
    "    print('Cluster ID: ', cluster_ID)\n",
    "    X_train, y_train = subset_train(train_, \n",
    "                                    train['Sentiment'].values, \n",
    "                                    train_index, \n",
    "                                    cluster_ID)\n",
    "    \n",
    "    model = define_RCNN_model()\n",
    "    model.fit(X_train,\n",
    "              pd.get_dummies(y_train).values,\n",
    "              epochs = 20,\n",
    "              batch_size = 128,\n",
    "              verbose=0)\n",
    "    \n",
    "    \n",
    "    X_test, test_pId = subset_test(test_, \n",
    "                                    test_index, \n",
    "                                    test['PhraseId'].values,\n",
    "                                    cluster_ID)  \n",
    "    \n",
    "    pred = model.predict(X_test)\n",
    "    \n",
    "    #pred = model.evaluate(X_test,\n",
    "    #                     pd.get_dummies(y_train).values)\n",
    "    argmax_pred = np.argmax(pred, axis=1)\n",
    "    \n",
    "    for i, _ in enumerate(test_pId):\n",
    "        sorted_pred[ test_pId[i] - 156061 ] = argmax_pred[i]\n",
    "        \n",
    "# save the results\n",
    "sub['Sentiment'] = sorted_pred\n",
    "sub.to_csv(\"n_clusters.csv\", index=False)"
   ]
  },
  {
   "cell_type": "markdown",
   "metadata": {
    "_uuid": "e876f92ab3602fa9e8da0418ad8ebb31ab362dcc"
   },
   "source": [
    "To see benefits of clustering process, we need to check the performance when we do not use clustering algorithm. Here is ordinary process:"
   ]
  },
  {
   "cell_type": "code",
   "execution_count": 46,
   "metadata": {
    "_uuid": "a1d727c870807685388c7d2586580d584bbb7188"
   },
   "outputs": [],
   "source": [
    "model2 = define_RCNN_model()\n",
    "model2.fit(train_,\n",
    "          pd.get_dummies(train['Sentiment'].values).values,\n",
    "          epochs = 20,\n",
    "          batch_size = 128,\n",
    "          verbose=0)\n",
    "    \n",
    "pred = model2.predict(test_)\n",
    "#pred = model.evaluate(X_test,\n",
    "#                     pd.get_dummies(y_train).values)\n",
    "argmax_pred = np.argmax(pred, axis=1)\n",
    "\n",
    "# save the results\n",
    "sub['Sentiment'] = argmax_pred\n",
    "sub.to_csv(\"1_clusters.csv\", index=False)"
   ]
  },
  {
   "cell_type": "markdown",
   "metadata": {
    "_uuid": "25ae01b8fd9329661c99bd94f14a53d20e9b6a8d"
   },
   "source": [
    "# Comparison of clustering"
   ]
  },
  {
   "cell_type": "markdown",
   "metadata": {
    "_uuid": "d92663ea680b6bd8133dbbd8935c63b1097001b3",
    "collapsed": true
   },
   "source": [
    "Results are:\n",
    "* 1-cluster (without clustering):\n",
    "* 3-cluster (with clsutering): \n",
    "\n"
   ]
  },
  {
   "cell_type": "markdown",
   "metadata": {
    "_uuid": "f9c5b90c95f3045cb00073d57f43c0a8192fb50d"
   },
   "source": [
    "# Conclusion"
   ]
  },
  {
   "cell_type": "markdown",
   "metadata": {
    "_uuid": "12500bdfb2b2d3263781bd066b8286eb9b913156",
    "collapsed": true
   },
   "source": [
    "Our problem is to predict sentiment scores using review dataset and machine learning models. The strategy we are trying to do is to cluster data points before using predictive models. It is called 'cluster and predict'. We expect that such clustering process could reduce the complexity of data patterns. \n",
    "\n",
    "However, the performance when we use clustering algorithms is less than not use. The main reason why clustering not work is because word and document representations are not suitable. We need to design better ones. Also, we describe what we do next in Further Study. \n",
    "\n",
    "We expect that when we have better word and document representations, 'cluster and predict' method will be working.\n",
    "<br>\n",
    "(Since kernel system in Kaggle is abnormal, we did not upload this notebook) "
   ]
  },
  {
   "cell_type": "markdown",
   "metadata": {
    "_uuid": "5b6760a2ba89abb8d04c62885480bbe7c21df62d"
   },
   "source": [
    "# Further Study\n",
    "\n",
    "If we increase the performance of models, we need to do:\n",
    "\n",
    "* design bettern word representation\n",
    "   * tfidf\n",
    "   * n-gram\n",
    "* optimize hyper-parameters of models\n",
    "   * epoch size, batch size, hidden size, ...\n",
    "* design better document representation (averaging is very simple)\n",
    "   * (maybe) we can use the final layer of traied neural models\n",
    "* use better clustering algorithms\n",
    "   * capture non-linearity\n",
    "   * select the optimal number of clusters\n",
    "* collect more training data\n",
    "* apply ensemble methods\n",
    "* apply various regularization techniques"
   ]
  }
 ],
 "metadata": {
  "kernelspec": {
   "display_name": "Python 3",
   "language": "python",
   "name": "python3"
  },
  "language_info": {
   "codemirror_mode": {
    "name": "ipython",
    "version": 3
   },
   "file_extension": ".py",
   "mimetype": "text/x-python",
   "name": "python",
   "nbconvert_exporter": "python",
   "pygments_lexer": "ipython3",
   "version": "3.6.5"
  }
 },
 "nbformat": 4,
 "nbformat_minor": 1
}
