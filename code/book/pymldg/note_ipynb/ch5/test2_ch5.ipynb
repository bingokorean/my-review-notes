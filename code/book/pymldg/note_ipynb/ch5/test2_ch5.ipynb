{
 "cells": [
  {
   "cell_type": "markdown",
   "metadata": {},
   "source": [
    "# 5장. 회귀\n",
    "\n",
    "* 5.1. 회귀 소개\n",
    "* 5.2. 단순 선형 회귀를 통한 회귀 이해\n",
    "* 5.3. 비용 최소화하기 - 경사 하강법 소개\n",
    "* 5.4. 사이킷런 LinearRegression을 이용한 보스턴 주택 가격 예측\n",
    "* 5.5. 다항 회귀와 과(대)적합/과소적합 이해\n",
    "* 5.6. 규제 선형 모델 - 릿지, 라쏘, 엘라스틱넷\n",
    "* 5.7. 로지스틱 회귀\n",
    "* 5.8. 회귀 트리\n",
    "* 5.9. 회귀 실습 - 자전거 대여 수요 예측\n",
    "* 5.10. 회귀 실습 - 주택 가격: 고급 회귀 기법"
   ]
  },
  {
   "cell_type": "markdown",
   "metadata": {},
   "source": [
    "<div id='5.1.'/>\n",
    "\n",
    "## 5.1. 회귀 소개\n",
    "\n",
    "* 회귀(regression)는 현대 통계학을 떠받치고 있는 주요 기둥 중 하나이다.\n",
    "* 회귀 분석은 유전적 특성을 연구하던 영국의 통계학자 갈톤(Galton)이 수행한 연구에서 유래했다는 것이 일반론이다.\n",
    "   * 부모와 자식 간의 키의 상관관계를 분석했던 갈톤은 사람의 키는 평균 키로 회귀하려는 경향을 가진다는 자연의 법칙이 있다는 것을 이해했다.\n",
    "* 회귀 분석은 이처럼 데이터 값이 평균과 같은 일정한 값으로 돌아가려는 경향을 이용한 통계학 기법이다.\n",
    "\n",
    "\n",
    "* 회귀는 여러 개의 독립변수와 한 개의 종속변수 간의 상관관계를 모델링하는 기법을 통칭한다.\n",
    "   * 머신러닝 관점에서 보면 독립변수는 피처에 해당되고 종속변수는 결정값이다.\n",
    "* 머신러닝 회귀 예측의 핵심은 주어진 피처와 결정 값 데이터 기반에서 학습을 통해 최적의 회귀 계수를 찾아내는 것이다.\n",
    "\n",
    "\n",
    "* 여러 가지 회귀 중에서 션형 회귀가 가장 많이 사용된다.\n",
    "   * 선형 회귀는 실제 값과 예측값의 차이(오류의 제곱 값)를 최소화하는 직선형 회귀선을 최적화하는 방식이다.\n",
    "   * 선형 회귀 모델은 규제(regularization) 방법에 따라 다시 별도의 유형으로 나뉠 수 있다.\n",
    "   \n",
    "  \n",
    "* 대표적인 선형 회귀 모델\n",
    "   * 일반 선형 회귀: 예측값과 실제값의 RSS(Residual Sum of Squares)를 최소화하는 회귀 계수를 찾음\n",
    "   * 릿지(Ridge): 선형 회귀 + L2 규제\n",
    "   * 라쏘(Lasso): 선형 회귀 + L1 규제(피처 선택 기능)\n",
    "   * 엘라스틱넷(ElasticNet): 선형 회귀 + (L1과 L2를 모두 결합)\n",
    "   * 로지스틱 회귀: 회귀이지만 분류에서 사용되는 선형 모델. 희소 영역 분류를 잘함(ex. text data)"
   ]
  },
  {
   "cell_type": "markdown",
   "metadata": {},
   "source": [
    "<div id='5.2.'/>\n",
    "\n",
    "## 5.2. 단순 선형 회귀를 통한 회귀 이해\n",
    "\n",
    "* 실제값과 회귀 모델의 차이에 따른 오류값을 남은 오류, 즉 잔차라고 부른다.\n",
    "* 최적의 회귀 모델을 만든다는 것은 바로 전체 데이터의 잔차(오류 값) 합이 최소가 되는 모델을 만든다는 의미이다.\n",
    "\n",
    "\n",
    "* 오류의 합 계산\n",
    "   * MAE(Mean Absolute Error) 절댓값을 취해서 더함.\n",
    "   * RSS(Residual Sum of Square) 제곱을 구해서 더함.\n",
    "* 일반적으로 미분 등의 계산을 편리하게 하기 위해서 RSS 방식으로 오류 합을 구한다.\n",
    "\n",
    "<img src=\"./images/pic_5_1.png\" width=\"60%\" height=\"60%\">\n",
    "\n",
    "* 회귀에서 이 RSS는 비용(Cost)이며 w 변수(회귀 계수)로 구성되는 RSS를 비용 함수라고 한다.\n",
    "* 머신러닝 회귀 알고리즘은 데이터를 계속 학습하면서 이 비용 함수가 반환하는 값(즉, 오류값)을 지속해서 감소시키고 최종적으로는 더 이상 감소하지 않는 최소의 오류 값을 구하는 것이다. (비용 함수를 손실(loss) 함수라고도 한다)"
   ]
  },
  {
   "cell_type": "markdown",
   "metadata": {},
   "source": [
    "<div id='5.3.'/>\n",
    "\n",
    "## 5.3. 비용 최소화하기 - 경사 하강법 소개\n",
    "\n",
    "* 어떻게 비용 함수가 최소가 되는 W 파라미터를 구할 수 있을까?\n",
    "* W 파라미터 개수가 적다면 방정식으로 비용 함수가 최소가 되는 W 파라미터를 도출할 수 있다.\n",
    "* W 파라미터 개수가 많다면? (고차원 방정식이라면?)\n",
    "* 경사 하강법은 이러한 고차원 방정식에 대해서도 비용 함수 RSS를 최소화하는 방법을 제공한다.\n",
    "* 경사 하강법은 '데이터를 기반으로 알고리즘이 스스로 학습한다'는 머신러닝의 개념을 가능하게 만들어준 핵심 기법 중 하나이다.\n",
    "* 비용 함수에 미분을 적용한 뒤 이 미분 값이 계속 감소하는 방향으로 순차적으로 w를 업데이트하면 된다.\n",
    "   * 미분할 때 편미분을 적용해야 한다. 각각의 파라미터는 독립이기 때문이다."
   ]
  },
  {
   "cell_type": "code",
   "execution_count": 1,
   "metadata": {},
   "outputs": [
    {
     "data": {
      "text/plain": [
       "<matplotlib.collections.PathCollection at 0x7ff1a8626390>"
      ]
     },
     "execution_count": 1,
     "metadata": {},
     "output_type": "execute_result"
    },
    {
     "data": {
      "image/png": "[encoded data removed]",
      "text/plain": [
       "<Figure size 432x288 with 1 Axes>"
      ]
     },
     "metadata": {
      "needs_background": "light"
     },
     "output_type": "display_data"
    }
   ],
   "source": [
    "import numpy as np\n",
    "import matplotlib.pyplot as plt\n",
    "%matplotlib inline\n",
    "\n",
    "np.random.seed(0)\n",
    "# y = 4X + 6 식을 근사(w1=4, w0=6). random 값은 Noise를 위해 만듬\n",
    "X = 2 * np.random.rand(100,1)\n",
    "y = 6 +4 * X+np.random.randn(100,1)\n",
    "\n",
    "# X, y 데이터 셋 scatter plot으로 시각화\n",
    "plt.scatter(X, y)"
   ]
  },
  {
   "cell_type": "code",
   "execution_count": null,
   "metadata": {},
   "outputs": [],
   "source": []
  },
  {
   "cell_type": "code",
   "execution_count": null,
   "metadata": {},
   "outputs": [],
   "source": []
  },
  {
   "cell_type": "code",
   "execution_count": null,
   "metadata": {},
   "outputs": [],
   "source": []
  }
 ],
 "metadata": {
  "kernelspec": {
   "display_name": "Python 3",
   "language": "python",
   "name": "python3"
  },
  "language_info": {
   "codemirror_mode": {
    "name": "ipython",
    "version": 3
   },
   "file_extension": ".py",
   "mimetype": "text/x-python",
   "name": "python",
   "nbconvert_exporter": "python",
   "pygments_lexer": "ipython3",
   "version": "3.7.7"
  }
 },
 "nbformat": 4,
 "nbformat_minor": 4
}
