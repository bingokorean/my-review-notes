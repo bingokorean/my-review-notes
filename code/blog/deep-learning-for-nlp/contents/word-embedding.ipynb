{
 "cells": [
  {
   "cell_type": "markdown",
   "metadata": {},
   "source": [
    "# Develop Word Embedding"
   ]
  },
  {
   "cell_type": "markdown",
   "metadata": {},
   "source": [
    "### skip-gram or CBOW"
   ]
  },
  {
   "cell_type": "code",
   "execution_count": 337,
   "metadata": {
    "collapsed": false
   },
   "outputs": [],
   "source": [
    "from gensim.models import Word2Vec"
   ]
  },
  {
   "cell_type": "code",
   "execution_count": 338,
   "metadata": {
    "collapsed": true
   },
   "outputs": [],
   "source": [
    "# 보통 word embedding을 제대로 학습하기 위해서 wikipedia와 같이 대용량의 text data가 필요하지만\n",
    "# 여기서는 예시를 보여주기 위해서 다음과 같이 심플한 5개의 문장이 있다고 보자\n",
    "sentences = [\n",
    "    ['this', 'is', 'the', 'first', 'sentence', 'for', 'word2vec'], \n",
    "    ['this', 'is', 'the', 'second', 'sentence'], \n",
    "    ['yet', 'another', 'sentence'], \n",
    "    ['one', 'more', 'sentence'], \n",
    "    ['and', 'the', 'final', 'sentence']\n",
    "] "
   ]
  },
  {
   "cell_type": "code",
   "execution_count": 339,
   "metadata": {
    "collapsed": true
   },
   "outputs": [],
   "source": [
    "# train model\n",
    "model = Word2Vec(sentences, min_count=1)\n",
    "# Word2Vec parameters\n",
    "## 'size': embedding size (default=100)\n",
    "## 'window': max distance between a target word and words around the target word (default=5)\n",
    "## 'min_count': words with an occurrence less than this cound will be ignored (default=5)\n",
    "## 'workers': number of threads to use while training (default=3)\n",
    "## 'sg': training algorithm, either CBOW (0) or skip-gram (1) (default=0)"
   ]
  },
  {
   "cell_type": "code",
   "execution_count": 340,
   "metadata": {
    "collapsed": false
   },
   "outputs": [
    {
     "name": "stdout",
     "output_type": "stream",
     "text": [
      "Word2Vec(vocab=14, size=100, alpha=0.025)\n"
     ]
    }
   ],
   "source": [
    "print(model)"
   ]
  },
  {
   "cell_type": "code",
   "execution_count": 344,
   "metadata": {
    "collapsed": false
   },
   "outputs": [
    {
     "name": "stdout",
     "output_type": "stream",
     "text": [
      "['one', 'the', 'final', 'more', 'word2vec', 'first', 'sentence', 'for', 'another', 'is', 'second', 'yet', 'this', 'and']\n"
     ]
    }
   ],
   "source": [
    "words = list(model.wv.vocab)\n",
    "print(words)"
   ]
  },
  {
   "cell_type": "code",
   "execution_count": 342,
   "metadata": {
    "collapsed": false
   },
   "outputs": [
    {
     "name": "stdout",
     "output_type": "stream",
     "text": [
      "[-4.7617238e-03  1.0605805e-03 -2.0988398e-04 -3.7528912e-04\n",
      "  2.8274732e-03  6.2122155e-04 -1.1531118e-03  1.4342816e-03\n",
      "  3.7432481e-03  1.7210514e-03 -7.9876729e-05  1.5629297e-03\n",
      " -1.2871065e-03  2.7467965e-04  2.0636425e-03 -4.5601297e-03\n",
      "  3.9652120e-03 -2.9331169e-03 -1.8880070e-03  4.6796701e-03\n",
      "  1.4486251e-03 -2.5772892e-03  4.3025729e-03 -5.0590053e-04\n",
      " -2.4542275e-03  3.5555761e-03  3.7802297e-03 -4.6180235e-03\n",
      " -3.7300338e-03  2.8473588e-03  1.0023122e-03  1.9468506e-03\n",
      " -3.6813221e-03 -5.1347434e-04  1.5104476e-03 -2.3562103e-03\n",
      " -2.5260227e-03 -3.7263622e-04  2.2300396e-03 -3.7128122e-03\n",
      "  3.1496545e-03  1.7994926e-03  1.5103258e-05  1.4841573e-03\n",
      " -4.2985701e-03 -1.6919130e-03  1.0811340e-03  7.1579823e-05\n",
      " -3.4799266e-03 -2.8678270e-03 -4.8044124e-03 -2.7128924e-03\n",
      " -2.7919502e-03  3.0875376e-03 -3.9313314e-04  4.5946226e-03\n",
      " -3.1617694e-04  7.8360108e-04  1.4538454e-03  1.2328685e-04\n",
      " -3.9790189e-03 -4.5942920e-03 -3.7886002e-03 -2.2480169e-03\n",
      "  3.5430889e-03  4.0952954e-03  1.2357951e-03 -4.1786185e-03\n",
      " -3.9161048e-03 -1.0527617e-03 -4.8267967e-03  4.0740957e-03\n",
      " -3.1886960e-03  1.8239655e-03 -1.7370861e-03 -4.4430126e-03\n",
      "  4.2013815e-03 -2.3302045e-03 -2.2979660e-03 -4.1624467e-04\n",
      "  3.7068194e-03 -4.5358040e-03 -2.6011448e-03  3.5586781e-03\n",
      " -4.4464245e-03 -6.8477495e-04 -3.7516777e-03  1.3869066e-03\n",
      "  4.1125254e-03  9.1039133e-04 -1.6195867e-03 -2.1144028e-03\n",
      " -1.3753886e-03  1.2476750e-03 -4.9765524e-04  2.4875633e-03\n",
      "  2.8021222e-03 -5.8536255e-04  2.2905720e-03 -3.2062675e-03]\n"
     ]
    },
    {
     "name": "stderr",
     "output_type": "stream",
     "text": [
      "C:\\Users\\Office\\Anaconda3\\lib\\site-packages\\ipykernel\\__main__.py:1: DeprecationWarning: Call to deprecated `__getitem__` (Method will be removed in 4.0.0, use self.wv.__getitem__() instead).\n",
      "  if __name__ == '__main__':\n"
     ]
    }
   ],
   "source": [
    "print(model['final'])"
   ]
  },
  {
   "cell_type": "code",
   "execution_count": 329,
   "metadata": {
    "collapsed": false
   },
   "outputs": [
    {
     "name": "stdout",
     "output_type": "stream",
     "text": [
      "Word2Vec(vocab=14, size=100, alpha=0.025)\n"
     ]
    }
   ],
   "source": [
    "# save model\n",
    "model.save('model.bin')\n",
    "# load model\n",
    "new_model = Word2Vec.load('model.bin')\n",
    "print(new_model)"
   ]
  },
  {
   "cell_type": "markdown",
   "metadata": {},
   "source": [
    "### FastText"
   ]
  },
  {
   "cell_type": "code",
   "execution_count": 330,
   "metadata": {
    "collapsed": true
   },
   "outputs": [],
   "source": [
    "from gensim.models import FastText"
   ]
  },
  {
   "cell_type": "code",
   "execution_count": 331,
   "metadata": {
    "collapsed": false
   },
   "outputs": [
    {
     "name": "stdout",
     "output_type": "stream",
     "text": [
      "[-3.9291871e-03 -1.7269456e-03 -3.5076961e-03  3.2327470e-04\n",
      " -1.2068441e-03  8.3012541e-04  2.1524611e-03  2.0293896e-03\n",
      " -5.4699281e-04 -3.5989453e-04 -1.6143150e-04 -1.9035041e-03\n",
      "  2.3031913e-04  2.2447722e-04 -1.6691722e-03 -1.2383858e-03\n",
      " -3.7276992e-03 -2.4930183e-03 -7.7501190e-04 -1.5095053e-03\n",
      " -3.3354387e-04  1.2458062e-03  1.6827900e-03 -5.6715694e-04\n",
      "  2.6305721e-03  4.0183156e-03 -5.9779006e-04  2.2052322e-03\n",
      "  2.1123777e-03 -6.8216253e-04 -7.7493332e-04 -6.8108644e-04\n",
      " -1.5416326e-03  4.9624167e-04  1.6930876e-03 -2.9600055e-03\n",
      "  3.4842561e-03  2.2112185e-03 -1.3749835e-03  1.1489397e-03\n",
      "  1.7689958e-03  1.3979396e-03 -1.1940356e-03  2.3194158e-03\n",
      "  6.5552030e-04  3.9296048e-03 -1.3395561e-03  6.1118085e-04\n",
      "  2.0706183e-03 -3.6087185e-03 -7.0685853e-04  3.2876541e-03\n",
      "  7.3098624e-04  1.6444632e-03 -1.4109640e-04 -8.6012774e-04\n",
      "  1.5310904e-03 -1.4578218e-03  3.7367381e-03  5.9374433e-04\n",
      " -9.4307039e-04 -2.1053867e-03 -3.5606478e-03  2.2637050e-03\n",
      "  3.1897335e-03  1.8161308e-03  2.2341145e-04  1.1151963e-03\n",
      "  3.3000575e-03 -1.9924250e-05 -1.5390215e-03 -3.9449101e-03\n",
      " -2.4509672e-03 -8.5300941e-04 -2.4477111e-03  1.8793547e-03\n",
      "  8.2429033e-04 -5.9667270e-04  2.8496836e-03  2.1648605e-03\n",
      "  1.3535289e-03 -3.7322056e-03 -3.4852920e-03  3.8861591e-04\n",
      "  1.6883527e-03  1.3298939e-03 -1.2428937e-03  1.7851293e-03\n",
      "  1.4839700e-03  2.5660102e-03 -8.0990756e-04  3.8168902e-04\n",
      " -8.7478380e-05  1.4403375e-03  2.3653538e-03  2.7104288e-03\n",
      "  1.0780641e-03  1.5320722e-04  1.0272198e-03  4.0219710e-03]\n"
     ]
    },
    {
     "name": "stderr",
     "output_type": "stream",
     "text": [
      "C:\\Users\\Office\\Anaconda3\\lib\\site-packages\\ipykernel\\__main__.py:3: DeprecationWarning: Call to deprecated `__getitem__` (Method will be removed in 4.0.0, use self.wv.__getitem__() instead).\n",
      "  app.launch_new_instance()\n"
     ]
    }
   ],
   "source": [
    "sentences = [[\"cat\", \"say\", \"meow\"], [\"dog\", \"say\", \"woof\"]]\n",
    "model = FastText(sentences, min_count=0)\n",
    "print(model['say'])"
   ]
  },
  {
   "cell_type": "markdown",
   "metadata": {},
   "source": [
    "# Visualize Word Embedding"
   ]
  },
  {
   "cell_type": "code",
   "execution_count": 345,
   "metadata": {
    "collapsed": true
   },
   "outputs": [],
   "source": [
    "from sklearn.decomposition import PCA\n",
    "#from matplotlib import pyplot"
   ]
  },
  {
   "cell_type": "code",
   "execution_count": 346,
   "metadata": {
    "collapsed": false
   },
   "outputs": [
    {
     "name": "stderr",
     "output_type": "stream",
     "text": [
      "C:\\Users\\Office\\Anaconda3\\lib\\site-packages\\ipykernel\\__main__.py:1: DeprecationWarning: Call to deprecated `__getitem__` (Method will be removed in 4.0.0, use self.wv.__getitem__() instead).\n",
      "  if __name__ == '__main__':\n"
     ]
    }
   ],
   "source": [
    "X = model[model.wv.vocab]"
   ]
  },
  {
   "cell_type": "code",
   "execution_count": 347,
   "metadata": {
    "collapsed": true
   },
   "outputs": [],
   "source": [
    "pca = PCA(n_components=2) \n",
    "result = pca.fit_transform(X)"
   ]
  },
  {
   "cell_type": "code",
   "execution_count": 348,
   "metadata": {
    "collapsed": false
   },
   "outputs": [
    {
     "data": {
      "image/png": "[encoded data removed]",
      "text/plain": [
       "<matplotlib.figure.Figure at 0x26b1cf378d0>"
      ]
     },
     "metadata": {},
     "output_type": "display_data"
    }
   ],
   "source": [
    "pyplot.scatter(result[:, 0], result[:, 1])\n",
    "words = list(model.wv.vocab)\n",
    "\n",
    "for i, word in enumerate(words):\n",
    "    pyplot.annotate(word, xy=(result[i, 0], result[i, 1])) \n",
    "pyplot.show()    "
   ]
  },
  {
   "cell_type": "markdown",
   "metadata": {},
   "source": [
    "# Load Word Embedding"
   ]
  },
  {
   "cell_type": "markdown",
   "metadata": {},
   "source": [
    "### skip-gram"
   ]
  },
  {
   "cell_type": "markdown",
   "metadata": {},
   "source": [
    "GoogleNews-vectors-negative300.bin.gz <br>\n",
    "https://drive.google.com/file/d/0B7XkCwpI5KDYNlNUTTlSS21pQmM/edit?usp=sharing"
   ]
  },
  {
   "cell_type": "code",
   "execution_count": 350,
   "metadata": {
    "collapsed": false
   },
   "outputs": [],
   "source": [
    "from gensim.models import KeyedVectors\n",
    "filename = 'GoogleNews-vectors-negative300.bin' \n",
    "model = KeyedVectors.load_word2vec_format(filename, binary=True)"
   ]
  },
  {
   "cell_type": "code",
   "execution_count": 352,
   "metadata": {
    "collapsed": false
   },
   "outputs": [
    {
     "name": "stdout",
     "output_type": "stream",
     "text": [
      "3000000\n"
     ]
    }
   ],
   "source": [
    "words = list(model.vocab)\n",
    "print(len(words))"
   ]
  },
  {
   "cell_type": "code",
   "execution_count": 353,
   "metadata": {
    "collapsed": false
   },
   "outputs": [
    {
     "data": {
      "text/plain": [
       "['Fonterra_milk_powder',\n",
       " 'Lynne_Munson',\n",
       " 'GUZMÁN',\n",
       " \"Sauze_D'_Oulx\",\n",
       " 'jackboot',\n",
       " 'beef_tenderloins',\n",
       " 'visit_www.gocheckers.com',\n",
       " 'Sension',\n",
       " 'neglected_clearcut',\n",
       " 'Bernhard_Jens']"
      ]
     },
     "execution_count": 353,
     "metadata": {},
     "output_type": "execute_result"
    }
   ],
   "source": [
    "words[:10]"
   ]
  },
  {
   "cell_type": "code",
   "execution_count": 354,
   "metadata": {
    "collapsed": false
   },
   "outputs": [
    {
     "data": {
      "text/plain": [
       "array([-0.06445312, -0.16015625, -0.01208496,  0.13476562, -0.22949219,\n",
       "        0.16210938,  0.3046875 , -0.1796875 , -0.12109375,  0.25390625,\n",
       "       -0.01428223, -0.06396484, -0.08056641, -0.05688477, -0.19628906,\n",
       "        0.2890625 , -0.05151367,  0.14257812, -0.10498047, -0.04736328,\n",
       "       -0.34765625,  0.35742188,  0.265625  ,  0.00188446, -0.01586914,\n",
       "        0.00195312, -0.35546875,  0.22167969,  0.05761719,  0.15917969,\n",
       "        0.08691406, -0.0267334 , -0.04785156,  0.23925781, -0.05981445,\n",
       "        0.0378418 ,  0.17382812, -0.41796875,  0.2890625 ,  0.32617188,\n",
       "        0.02429199, -0.01647949, -0.06494141, -0.08886719,  0.07666016,\n",
       "       -0.15136719,  0.05249023, -0.04199219, -0.05419922,  0.00108337,\n",
       "       -0.20117188,  0.12304688,  0.09228516,  0.10449219, -0.00408936,\n",
       "       -0.04199219,  0.01409912, -0.02111816, -0.13476562, -0.24316406,\n",
       "        0.16015625, -0.06689453, -0.08984375, -0.07177734, -0.00595093,\n",
       "       -0.00482178, -0.00089264, -0.30664062, -0.0625    ,  0.07958984,\n",
       "       -0.00909424, -0.04492188,  0.09960938, -0.33398438, -0.3984375 ,\n",
       "        0.05541992, -0.06689453, -0.04467773,  0.11767578, -0.13964844,\n",
       "       -0.26367188,  0.17480469, -0.17382812, -0.40625   , -0.06738281,\n",
       "       -0.07617188,  0.09423828,  0.20996094, -0.16308594, -0.08691406,\n",
       "       -0.0534668 , -0.10351562, -0.07617188, -0.11083984, -0.03515625,\n",
       "       -0.14941406,  0.0378418 ,  0.38671875,  0.14160156, -0.2890625 ,\n",
       "       -0.16894531, -0.140625  , -0.04174805,  0.22753906,  0.24023438,\n",
       "       -0.01599121, -0.06787109,  0.21875   , -0.42382812, -0.5625    ,\n",
       "       -0.49414062, -0.3359375 ,  0.13378906,  0.01141357,  0.13671875,\n",
       "        0.0324707 ,  0.06835938, -0.27539062, -0.15917969,  0.00121307,\n",
       "        0.01208496, -0.0039978 ,  0.00442505, -0.04541016,  0.08642578,\n",
       "        0.09960938, -0.04296875, -0.11328125,  0.13867188,  0.41796875,\n",
       "       -0.28320312, -0.07373047, -0.11425781,  0.08691406, -0.02148438,\n",
       "        0.328125  , -0.07373047, -0.01348877,  0.17773438, -0.02624512,\n",
       "        0.13378906, -0.11132812, -0.12792969, -0.12792969,  0.18945312,\n",
       "       -0.13867188,  0.29882812, -0.07714844, -0.37695312, -0.10351562,\n",
       "        0.16992188, -0.10742188, -0.29882812,  0.00866699, -0.27734375,\n",
       "       -0.20996094, -0.1796875 , -0.19628906, -0.22167969,  0.08886719,\n",
       "       -0.27734375, -0.13964844,  0.15917969,  0.03637695,  0.03320312,\n",
       "       -0.08105469,  0.25390625, -0.08691406, -0.21289062, -0.18945312,\n",
       "       -0.22363281,  0.06542969, -0.16601562,  0.08837891, -0.359375  ,\n",
       "       -0.09863281,  0.35546875, -0.00741577,  0.19042969,  0.16992188,\n",
       "       -0.06005859, -0.20605469,  0.08105469,  0.12988281, -0.01135254,\n",
       "        0.33203125, -0.08691406,  0.27539062, -0.03271484,  0.12011719,\n",
       "       -0.0625    ,  0.1953125 , -0.10986328, -0.11767578,  0.20996094,\n",
       "        0.19921875,  0.02954102, -0.16015625,  0.00276184, -0.01367188,\n",
       "        0.03442383, -0.19335938,  0.00352478, -0.06542969, -0.05566406,\n",
       "        0.09423828,  0.29296875,  0.04052734, -0.09326172, -0.10107422,\n",
       "       -0.27539062,  0.04394531, -0.07275391,  0.13867188,  0.02380371,\n",
       "        0.13085938,  0.00236511, -0.2265625 ,  0.34765625,  0.13574219,\n",
       "        0.05224609,  0.18164062,  0.0402832 ,  0.23730469, -0.16992188,\n",
       "        0.10058594,  0.03833008,  0.10839844, -0.05615234, -0.00946045,\n",
       "        0.14550781, -0.30078125, -0.32226562,  0.18847656, -0.40234375,\n",
       "       -0.3125    , -0.08007812, -0.26757812,  0.16699219,  0.07324219,\n",
       "        0.06347656,  0.06591797,  0.17285156, -0.17773438,  0.00276184,\n",
       "       -0.05761719, -0.2265625 , -0.19628906,  0.09667969,  0.13769531,\n",
       "       -0.49414062, -0.27929688,  0.12304688, -0.30078125,  0.01293945,\n",
       "       -0.1875    , -0.20898438, -0.1796875 , -0.16015625, -0.03295898,\n",
       "        0.00976562,  0.25390625, -0.25195312,  0.00210571,  0.04296875,\n",
       "        0.01184082, -0.20605469,  0.24804688, -0.203125  , -0.17773438,\n",
       "        0.07275391,  0.04541016,  0.21679688, -0.2109375 ,  0.14550781,\n",
       "       -0.16210938,  0.20410156, -0.19628906, -0.35742188,  0.35742188,\n",
       "       -0.11962891,  0.35742188,  0.10351562,  0.07080078, -0.24707031,\n",
       "       -0.10449219, -0.19238281,  0.1484375 ,  0.00057983,  0.296875  ,\n",
       "       -0.12695312, -0.03979492,  0.13183594, -0.16601562,  0.125     ,\n",
       "        0.05126953, -0.14941406,  0.13671875, -0.02075195,  0.34375   ],\n",
       "      dtype=float32)"
      ]
     },
     "execution_count": 354,
     "metadata": {},
     "output_type": "execute_result"
    }
   ],
   "source": [
    "model['apple']"
   ]
  },
  {
   "cell_type": "markdown",
   "metadata": {},
   "source": [
    "### Stanford's GloVe"
   ]
  },
  {
   "cell_type": "code",
   "execution_count": 356,
   "metadata": {
    "collapsed": false
   },
   "outputs": [],
   "source": [
    "from gensim.models import KeyedVectors \n",
    "from gensim.scripts.glove2word2vec import glove2word2vec"
   ]
  },
  {
   "cell_type": "code",
   "execution_count": 357,
   "metadata": {
    "collapsed": false
   },
   "outputs": [
    {
     "data": {
      "text/plain": [
       "(400000, 50)"
      ]
     },
     "execution_count": 357,
     "metadata": {},
     "output_type": "execute_result"
    }
   ],
   "source": [
    "glove_input_file = 'glove.6B.50d.txt'\n",
    "word2vec_output_file = 'glove.6B.50d.txt.word2vec' \n",
    "\n",
    "# text 형태의 glove embedding을 gensim 형태의 embedding으로 바꿔준다\n",
    "glove2word2vec(glove_input_file, word2vec_output_file)"
   ]
  },
  {
   "cell_type": "code",
   "execution_count": 358,
   "metadata": {
    "collapsed": false
   },
   "outputs": [
    {
     "name": "stdout",
     "output_type": "stream",
     "text": [
      "3000000\n"
     ]
    }
   ],
   "source": [
    "words = list(model.vocab)\n",
    "print(len(words))"
   ]
  },
  {
   "cell_type": "code",
   "execution_count": 359,
   "metadata": {
    "collapsed": false
   },
   "outputs": [
    {
     "data": {
      "text/plain": [
       "['Fonterra_milk_powder',\n",
       " 'Lynne_Munson',\n",
       " 'GUZMÁN',\n",
       " \"Sauze_D'_Oulx\",\n",
       " 'jackboot',\n",
       " 'beef_tenderloins',\n",
       " 'visit_www.gocheckers.com',\n",
       " 'Sension',\n",
       " 'neglected_clearcut',\n",
       " 'Bernhard_Jens']"
      ]
     },
     "execution_count": 359,
     "metadata": {},
     "output_type": "execute_result"
    }
   ],
   "source": [
    "words[:10]"
   ]
  },
  {
   "cell_type": "markdown",
   "metadata": {},
   "source": [
    "# Example of using pre-trained GloVe Embedding"
   ]
  },
  {
   "cell_type": "code",
   "execution_count": 228,
   "metadata": {
    "collapsed": false
   },
   "outputs": [],
   "source": [
    "from numpy import asarray \n",
    "from numpy import zeros \n",
    "from keras.preprocessing.text import Tokenizer\n",
    "from keras.preprocessing.sequence import pad_sequences\n",
    "from keras.models import Sequential \n",
    "from keras.layers import Dense \n",
    "from keras.layers import Flatten\n",
    "from keras.layers import Embedding \n",
    "from nltk.stem import PorterStemmer\n",
    "ps = PorterStemmer()\n",
    "import re\n",
    "import string"
   ]
  },
  {
   "cell_type": "code",
   "execution_count": 229,
   "metadata": {
    "collapsed": true
   },
   "outputs": [],
   "source": [
    "def voca_clean(doc): \n",
    "    tokens = doc.split()\n",
    "    ### (1) Preprocessing for changing form/shape of tokens\n",
    "    #########################################################\n",
    "    #tokens = [word.lower() for word in tokens] # lower\n",
    "    tokens = [ps.stem(word) for word in tokens] # stemming    \n",
    "    re_punc = re.compile('[%s]' % re.escape(string.punctuation)) # remove punctuations\n",
    "    tokens = [re_punc.sub('', w) for w in tokens] # remove punctuations\n",
    "    ### (2) Preprocessing for filetering vocabulary size\n",
    "    #########################################################    \n",
    "    # remove tokens not in vocab\n",
    "    #tokens = [w for w in tokens if w in VOCA_gensim]\n",
    "    tokens = ' '.join(tokens)\n",
    "    return tokens "
   ]
  },
  {
   "cell_type": "code",
   "execution_count": 246,
   "metadata": {
    "collapsed": false
   },
   "outputs": [],
   "source": [
    "# training data\n",
    "docs = [\n",
    "    'We$$ll done!', 'Good wor*king', 'Great ef%fort***', \n",
    "    'nice work', 'Exce#llent!', 'We^ak', 'Poo>r effort!', \n",
    "    'not good', 'poor work', 'Could h/ave done better.'] \n",
    "#docs = [\n",
    "#    'We$$ll done!']\n",
    "labels = [1,1,1,1,1,0,0,0,0,0] \n",
    "#labels = [1]"
   ]
  },
  {
   "cell_type": "code",
   "execution_count": 247,
   "metadata": {
    "collapsed": false
   },
   "outputs": [],
   "source": [
    "for i, data in enumerate(docs):\n",
    "    docs[i] = voca_clean(data)"
   ]
  },
  {
   "cell_type": "code",
   "execution_count": 248,
   "metadata": {
    "collapsed": false,
    "scrolled": false
   },
   "outputs": [
    {
     "data": {
      "text/plain": [
       "['well done',\n",
       " 'good work',\n",
       " 'great effort',\n",
       " 'nice work',\n",
       " 'excellent',\n",
       " 'weak',\n",
       " 'poor effort',\n",
       " 'not good',\n",
       " 'poor work',\n",
       " 'could have done better']"
      ]
     },
     "execution_count": 248,
     "metadata": {},
     "output_type": "execute_result"
    }
   ],
   "source": [
    "docs"
   ]
  },
  {
   "cell_type": "code",
   "execution_count": 371,
   "metadata": {
    "collapsed": false
   },
   "outputs": [
    {
     "name": "stdout",
     "output_type": "stream",
     "text": [
      "[[6, 2], [3, 1], [7, 4], [8, 1], [9], [10], [5, 4], [11, 3], [5, 1], [12, 13, 2, 14]]\n"
     ]
    }
   ],
   "source": [
    "t = Tokenizer(lower=False, filters='')\n",
    "t.fit_on_texts(docs)\n",
    "vocab_size = len(t.word_index) + 1\n",
    "#vocab_size = len(t.word_index)\n",
    "encoded_docs = t.texts_to_sequences(docs) \n",
    "print(encoded_docs)"
   ]
  },
  {
   "cell_type": "code",
   "execution_count": 372,
   "metadata": {
    "collapsed": false
   },
   "outputs": [
    {
     "data": {
      "text/plain": [
       "{'better': 14,\n",
       " 'could': 12,\n",
       " 'done': 2,\n",
       " 'effort': 4,\n",
       " 'excellent': 9,\n",
       " 'good': 3,\n",
       " 'great': 7,\n",
       " 'have': 13,\n",
       " 'nice': 8,\n",
       " 'not': 11,\n",
       " 'poor': 5,\n",
       " 'weak': 10,\n",
       " 'well': 6,\n",
       " 'work': 1}"
      ]
     },
     "execution_count": 372,
     "metadata": {},
     "output_type": "execute_result"
    }
   ],
   "source": [
    "t.word_index"
   ]
  },
  {
   "cell_type": "code",
   "execution_count": 251,
   "metadata": {
    "collapsed": false,
    "scrolled": true
   },
   "outputs": [
    {
     "name": "stdout",
     "output_type": "stream",
     "text": [
      "[[ 6  2  0  0]\n",
      " [ 3  1  0  0]\n",
      " [ 7  4  0  0]\n",
      " [ 8  1  0  0]\n",
      " [ 9  0  0  0]\n",
      " [10  0  0  0]\n",
      " [ 5  4  0  0]\n",
      " [11  3  0  0]\n",
      " [ 5  1  0  0]\n",
      " [12 13  2 14]]\n"
     ]
    }
   ],
   "source": [
    "max_length = 4\n",
    "padded_docs = pad_sequences(encoded_docs, maxlen=max_length, padding='post') \n",
    "print(padded_docs) "
   ]
  },
  {
   "cell_type": "code",
   "execution_count": 252,
   "metadata": {
    "collapsed": false
   },
   "outputs": [
    {
     "name": "stdout",
     "output_type": "stream",
     "text": [
      "Loaded 400000 word vectors.\n"
     ]
    }
   ],
   "source": [
    "embeddings_index = dict() \n",
    "f = open('glove.6B.50d.txt', mode='rt', encoding='utf-8') \n",
    "for line in f: \n",
    "    values = line.split() \n",
    "    word = values[0] \n",
    "    coefs = asarray(values[1:], dtype='float32') \n",
    "    embeddings_index[word] = coefs \n",
    "f.close()\n",
    "print('Loaded %s word vectors.' % len(embeddings_index)) "
   ]
  },
  {
   "cell_type": "code",
   "execution_count": 253,
   "metadata": {
    "collapsed": true
   },
   "outputs": [],
   "source": [
    "# embeddings_index\n",
    "\n",
    "# {'lizzy': array([-0.79070002, -0.61404997, -0.92101997, -0.22125   , -0.021547  ,\n",
    "#          0.81677002, -0.11177   ,  0.048288  ,  0.085268  , -0.35027999,\n",
    "#          0.66773999,  0.69564003,  0.44817001,  0.81716001, -0.27305001,\n",
    "#          1.11619997,  0.43704   , -0.77135003,  0.61758   ,  0.044872  ,\n",
    "#          0.0050564 ,  0.52307999,  1.43900001, -0.52416003, -0.51321   ,\n",
    "#          1.26289999, -0.78562999,  0.69389999, -0.57454997,  0.07963   ,\n",
    "#         -0.23846   , -0.73266   ,  0.57902998,  0.57037002, -0.19961999,\n",
    "#          0.22589999,  0.22013   , -0.049087  ,  0.65182   , -1.04729998,\n",
    "#         -0.2192    , -0.10218   , -0.94753999, -0.4939    , -0.073669  ,\n",
    "#         -0.68831003,  0.20039999, -1.32519996, -0.57612002,  0.67565   ], dtype=float32),\n",
    "\n",
    "# 이런식으로 dic 형태로 word와 embedding이 저장되어 있다"
   ]
  },
  {
   "cell_type": "code",
   "execution_count": 360,
   "metadata": {
    "collapsed": false,
    "scrolled": false
   },
   "outputs": [
    {
     "data": {
      "text/plain": [
       "15"
      ]
     },
     "execution_count": 360,
     "metadata": {},
     "output_type": "execute_result"
    }
   ],
   "source": [
    "vocab_size"
   ]
  },
  {
   "cell_type": "code",
   "execution_count": 361,
   "metadata": {
    "collapsed": false
   },
   "outputs": [
    {
     "data": {
      "text/plain": [
       "14"
      ]
     },
     "execution_count": 361,
     "metadata": {},
     "output_type": "execute_result"
    }
   ],
   "source": [
    "len(t.word_index)"
   ]
  },
  {
   "cell_type": "code",
   "execution_count": 364,
   "metadata": {
    "collapsed": false
   },
   "outputs": [
    {
     "name": "stdout",
     "output_type": "stream",
     "text": [
      "have 13\n",
      "work 1\n",
      "great 7\n",
      "poor 5\n",
      "better 14\n",
      "weak 10\n",
      "good 3\n",
      "excellent 9\n",
      "done 2\n",
      "effort 4\n",
      "nice 8\n",
      "could 12\n",
      "well 6\n",
      "not 11\n"
     ]
    }
   ],
   "source": [
    "import numpy as np\n",
    "# create a weight matrix for words in training docs \n",
    "embedding_matrix = zeros((vocab_size, 50)) # embedidng_dim = 50\n",
    "#embedding_matrix = np.random.random((vocab_size, 50))\n",
    "for word, i in t.word_index.items(): \n",
    "    print(word, i)\n",
    "    embedding_vector = embeddings_index.get(word)\n",
    "    if embedding_vector is not None: \n",
    "        embedding_matrix[i] = embedding_vector \n",
    "        # words not found in embedding index will be all-zeros        "
   ]
  },
  {
   "cell_type": "code",
   "execution_count": 365,
   "metadata": {
    "collapsed": false
   },
   "outputs": [
    {
     "data": {
      "text/plain": [
       "array([0., 0., 0., 0., 0., 0., 0., 0., 0., 0., 0., 0., 0., 0., 0., 0., 0.,\n",
       "       0., 0., 0., 0., 0., 0., 0., 0., 0., 0., 0., 0., 0., 0., 0., 0., 0.,\n",
       "       0., 0., 0., 0., 0., 0., 0., 0., 0., 0., 0., 0., 0., 0., 0., 0.])"
      ]
     },
     "execution_count": 365,
     "metadata": {},
     "output_type": "execute_result"
    }
   ],
   "source": [
    "embedding_matrix[0]"
   ]
  },
  {
   "cell_type": "code",
   "execution_count": 366,
   "metadata": {
    "collapsed": false
   },
   "outputs": [
    {
     "name": "stdout",
     "output_type": "stream",
     "text": [
      "_________________________________________________________________\n",
      "Layer (type)                 Output Shape              Param #   \n",
      "=================================================================\n",
      "embedding_16 (Embedding)     (None, 4, 50)             750       \n",
      "_________________________________________________________________\n",
      "flatten_14 (Flatten)         (None, 200)               0         \n",
      "_________________________________________________________________\n",
      "dense_12 (Dense)             (None, 1)                 201       \n",
      "=================================================================\n",
      "Total params: 951\n",
      "Trainable params: 201\n",
      "Non-trainable params: 750\n",
      "_________________________________________________________________\n"
     ]
    }
   ],
   "source": [
    "# define model \n",
    "model = Sequential()\n",
    "e = Embedding(vocab_size, 50, weights=[embedding_matrix], input_length=4, trainable=False) \n",
    "model.add(e) \n",
    "model.add(Flatten())\n",
    "model.add(Dense(1, activation='sigmoid'))\n",
    "model.compile(optimizer='adam', loss='binary_crossentropy', metrics=['acc']) \n",
    "model.summary()"
   ]
  },
  {
   "cell_type": "code",
   "execution_count": 369,
   "metadata": {
    "collapsed": false,
    "scrolled": true
   },
   "outputs": [
    {
     "name": "stdout",
     "output_type": "stream",
     "text": [
      "Epoch 1/10\n",
      "10/10 [==============================] - 0s 100us/step - loss: 0.7325 - acc: 0.4000\n",
      "Epoch 2/10\n",
      "10/10 [==============================] - 0s 100us/step - loss: 0.7241 - acc: 0.4000\n",
      "Epoch 3/10\n",
      "10/10 [==============================] - 0s 100us/step - loss: 0.7158 - acc: 0.4000\n",
      "Epoch 4/10\n",
      "10/10 [==============================] - 0s 200us/step - loss: 0.7077 - acc: 0.4000\n",
      "Epoch 5/10\n",
      "10/10 [==============================] - 0s 200us/step - loss: 0.6997 - acc: 0.4000\n",
      "Epoch 6/10\n",
      "10/10 [==============================] - 0s 200us/step - loss: 0.6918 - acc: 0.4000\n",
      "Epoch 7/10\n",
      "10/10 [==============================] - 0s 100us/step - loss: 0.6841 - acc: 0.4000\n",
      "Epoch 8/10\n",
      "10/10 [==============================] - 0s 100us/step - loss: 0.6765 - acc: 0.4000\n",
      "Epoch 9/10\n",
      "10/10 [==============================] - 0s 200us/step - loss: 0.6691 - acc: 0.4000\n",
      "Epoch 10/10\n",
      "10/10 [==============================] - 0s 100us/step - loss: 0.6618 - acc: 0.4000\n"
     ]
    },
    {
     "data": {
      "text/plain": [
       "<keras.callbacks.History at 0x26c5bd6e898>"
      ]
     },
     "execution_count": 369,
     "metadata": {},
     "output_type": "execute_result"
    }
   ],
   "source": [
    "model.fit(padded_docs, labels, epochs=10, verbose=1) "
   ]
  },
  {
   "cell_type": "code",
   "execution_count": 370,
   "metadata": {
    "collapsed": false,
    "scrolled": true
   },
   "outputs": [
    {
     "name": "stdout",
     "output_type": "stream",
     "text": [
      "Accuracy: 40.000001\n"
     ]
    }
   ],
   "source": [
    "loss, accuracy = model.evaluate(padded_docs, labels, verbose=0) \n",
    "print('Accuracy: %f' % (accuracy*100))"
   ]
  },
  {
   "cell_type": "markdown",
   "metadata": {},
   "source": [
    "word embedding과 text cleaning과의 관계성이 있다. Tomas Mikolov는 word embedding을 학습하기 전에 very minimal text cleaning을 요구한다. 예를 들어, stemming과 punctuation을 삭제하는 일은 최소환으로 하길 요구한다."
   ]
  },
  {
   "cell_type": "markdown",
   "metadata": {},
   "source": [
    "# Keras Layer Output\n",
    "\n",
    "https://stackoverflow.com/questions/41711190/keras-how-to-get-the-output-of-each-layer"
   ]
  },
  {
   "cell_type": "code",
   "execution_count": 294,
   "metadata": {
    "collapsed": false
   },
   "outputs": [],
   "source": [
    "from keras import backend as K\n",
    "\n",
    "inp = model.input                                           # input placeholder\n",
    "outputs = [layer.output for layer in model.layers]\n",
    "functors = [K.function([inp], [out]) for out in outputs]    # evaluation functions\n",
    "\n",
    "# Testing\n",
    "#test = np.random.random(input_shape)[np.newaxis,...]\n",
    "layer_outs = [func([padded_docs]) for func in functors]\n",
    "a = (layer_outs)"
   ]
  },
  {
   "cell_type": "code",
   "execution_count": 305,
   "metadata": {
    "collapsed": false
   },
   "outputs": [
    {
     "data": {
      "text/plain": [
       "10"
      ]
     },
     "execution_count": 305,
     "metadata": {},
     "output_type": "execute_result"
    }
   ],
   "source": [
    "len(a[0][0])"
   ]
  },
  {
   "cell_type": "code",
   "execution_count": 308,
   "metadata": {
    "collapsed": false
   },
   "outputs": [
    {
     "data": {
      "text/plain": [
       "array([[[ 2.7691e-01,  2.8745e-01, -2.9935e-01, ..., -9.4820e-02,\n",
       "         -2.1250e-01,  2.2074e-02],\n",
       "        [ 3.3076e-01, -4.3870e-01, -3.2163e-01, ...,  3.3312e-01,\n",
       "         -2.2252e-01,  7.4457e-01],\n",
       "        [ 0.0000e+00,  0.0000e+00,  0.0000e+00, ...,  0.0000e+00,\n",
       "          0.0000e+00,  0.0000e+00],\n",
       "        [ 0.0000e+00,  0.0000e+00,  0.0000e+00, ...,  0.0000e+00,\n",
       "          0.0000e+00,  0.0000e+00]],\n",
       "\n",
       "       [[-3.5586e-01,  5.2130e-01, -6.1070e-01, ...,  2.7207e-01,\n",
       "          3.1305e-01,  9.2771e-01],\n",
       "        [ 5.1359e-01,  1.9695e-01, -5.1944e-01, ...,  4.6842e-02,\n",
       "         -6.2897e-01,  3.5726e-01],\n",
       "        [ 0.0000e+00,  0.0000e+00,  0.0000e+00, ...,  0.0000e+00,\n",
       "          0.0000e+00,  0.0000e+00],\n",
       "        [ 0.0000e+00,  0.0000e+00,  0.0000e+00, ...,  0.0000e+00,\n",
       "          0.0000e+00,  0.0000e+00]],\n",
       "\n",
       "       [[-2.6567e-02,  1.3357e+00, -1.0280e+00, ..., -4.9658e-01,\n",
       "         -4.1618e-01, -2.5490e-01],\n",
       "        [ 7.0902e-01, -6.0861e-01,  2.6447e-01, ...,  6.2921e-01,\n",
       "         -2.3875e-01,  1.7260e-01],\n",
       "        [ 0.0000e+00,  0.0000e+00,  0.0000e+00, ...,  0.0000e+00,\n",
       "          0.0000e+00,  0.0000e+00],\n",
       "        [ 0.0000e+00,  0.0000e+00,  0.0000e+00, ...,  0.0000e+00,\n",
       "          0.0000e+00,  0.0000e+00]],\n",
       "\n",
       "       ...,\n",
       "\n",
       "       [[ 5.5025e-01, -2.4942e-01, -9.3860e-04, ...,  3.3763e-01,\n",
       "          5.0139e-02,  3.3465e-01],\n",
       "        [-3.5586e-01,  5.2130e-01, -6.1070e-01, ...,  2.7207e-01,\n",
       "          3.1305e-01,  9.2771e-01],\n",
       "        [ 0.0000e+00,  0.0000e+00,  0.0000e+00, ...,  0.0000e+00,\n",
       "          0.0000e+00,  0.0000e+00],\n",
       "        [ 0.0000e+00,  0.0000e+00,  0.0000e+00, ...,  0.0000e+00,\n",
       "          0.0000e+00,  0.0000e+00]],\n",
       "\n",
       "       [[-5.3819e-01, -4.0788e-01, -1.9630e-01, ...,  5.2180e-02,\n",
       "          1.0731e+00,  3.5629e-02],\n",
       "        [ 5.1359e-01,  1.9695e-01, -5.1944e-01, ...,  4.6842e-02,\n",
       "         -6.2897e-01,  3.5726e-01],\n",
       "        [ 0.0000e+00,  0.0000e+00,  0.0000e+00, ...,  0.0000e+00,\n",
       "          0.0000e+00,  0.0000e+00],\n",
       "        [ 0.0000e+00,  0.0000e+00,  0.0000e+00, ...,  0.0000e+00,\n",
       "          0.0000e+00,  0.0000e+00]],\n",
       "\n",
       "       [[ 9.0754e-01, -3.8322e-01,  6.7648e-01, ...,  2.0672e-01,\n",
       "         -1.8440e-01,  7.1147e-02],\n",
       "        [ 9.4911e-01, -3.4968e-01,  4.8125e-01, ...,  3.6233e-01,\n",
       "         -7.2512e-01, -6.0890e-01],\n",
       "        [ 3.3076e-01, -4.3870e-01, -3.2163e-01, ...,  3.3312e-01,\n",
       "         -2.2252e-01,  7.4457e-01],\n",
       "        [-1.2090e-01, -1.6821e-01,  2.4099e-01, ...,  1.2755e-01,\n",
       "          6.6461e-02,  1.1163e+00]]], dtype=float32)"
      ]
     },
     "execution_count": 308,
     "metadata": {},
     "output_type": "execute_result"
    }
   ],
   "source": [
    "a[0][0]"
   ]
  },
  {
   "cell_type": "code",
   "execution_count": 296,
   "metadata": {
    "collapsed": false
   },
   "outputs": [
    {
     "data": {
      "text/plain": [
       "[array([[[ 2.7691e-01,  2.8745e-01, -2.9935e-01, ..., -9.4820e-02,\n",
       "          -2.1250e-01,  2.2074e-02],\n",
       "         [ 3.3076e-01, -4.3870e-01, -3.2163e-01, ...,  3.3312e-01,\n",
       "          -2.2252e-01,  7.4457e-01],\n",
       "         [ 0.0000e+00,  0.0000e+00,  0.0000e+00, ...,  0.0000e+00,\n",
       "           0.0000e+00,  0.0000e+00],\n",
       "         [ 0.0000e+00,  0.0000e+00,  0.0000e+00, ...,  0.0000e+00,\n",
       "           0.0000e+00,  0.0000e+00]],\n",
       " \n",
       "        [[-3.5586e-01,  5.2130e-01, -6.1070e-01, ...,  2.7207e-01,\n",
       "           3.1305e-01,  9.2771e-01],\n",
       "         [ 5.1359e-01,  1.9695e-01, -5.1944e-01, ...,  4.6842e-02,\n",
       "          -6.2897e-01,  3.5726e-01],\n",
       "         [ 0.0000e+00,  0.0000e+00,  0.0000e+00, ...,  0.0000e+00,\n",
       "           0.0000e+00,  0.0000e+00],\n",
       "         [ 0.0000e+00,  0.0000e+00,  0.0000e+00, ...,  0.0000e+00,\n",
       "           0.0000e+00,  0.0000e+00]],\n",
       " \n",
       "        [[-2.6567e-02,  1.3357e+00, -1.0280e+00, ..., -4.9658e-01,\n",
       "          -4.1618e-01, -2.5490e-01],\n",
       "         [ 7.0902e-01, -6.0861e-01,  2.6447e-01, ...,  6.2921e-01,\n",
       "          -2.3875e-01,  1.7260e-01],\n",
       "         [ 0.0000e+00,  0.0000e+00,  0.0000e+00, ...,  0.0000e+00,\n",
       "           0.0000e+00,  0.0000e+00],\n",
       "         [ 0.0000e+00,  0.0000e+00,  0.0000e+00, ...,  0.0000e+00,\n",
       "           0.0000e+00,  0.0000e+00]],\n",
       " \n",
       "        ...,\n",
       " \n",
       "        [[ 5.5025e-01, -2.4942e-01, -9.3860e-04, ...,  3.3763e-01,\n",
       "           5.0139e-02,  3.3465e-01],\n",
       "         [-3.5586e-01,  5.2130e-01, -6.1070e-01, ...,  2.7207e-01,\n",
       "           3.1305e-01,  9.2771e-01],\n",
       "         [ 0.0000e+00,  0.0000e+00,  0.0000e+00, ...,  0.0000e+00,\n",
       "           0.0000e+00,  0.0000e+00],\n",
       "         [ 0.0000e+00,  0.0000e+00,  0.0000e+00, ...,  0.0000e+00,\n",
       "           0.0000e+00,  0.0000e+00]],\n",
       " \n",
       "        [[-5.3819e-01, -4.0788e-01, -1.9630e-01, ...,  5.2180e-02,\n",
       "           1.0731e+00,  3.5629e-02],\n",
       "         [ 5.1359e-01,  1.9695e-01, -5.1944e-01, ...,  4.6842e-02,\n",
       "          -6.2897e-01,  3.5726e-01],\n",
       "         [ 0.0000e+00,  0.0000e+00,  0.0000e+00, ...,  0.0000e+00,\n",
       "           0.0000e+00,  0.0000e+00],\n",
       "         [ 0.0000e+00,  0.0000e+00,  0.0000e+00, ...,  0.0000e+00,\n",
       "           0.0000e+00,  0.0000e+00]],\n",
       " \n",
       "        [[ 9.0754e-01, -3.8322e-01,  6.7648e-01, ...,  2.0672e-01,\n",
       "          -1.8440e-01,  7.1147e-02],\n",
       "         [ 9.4911e-01, -3.4968e-01,  4.8125e-01, ...,  3.6233e-01,\n",
       "          -7.2512e-01, -6.0890e-01],\n",
       "         [ 3.3076e-01, -4.3870e-01, -3.2163e-01, ...,  3.3312e-01,\n",
       "          -2.2252e-01,  7.4457e-01],\n",
       "         [-1.2090e-01, -1.6821e-01,  2.4099e-01, ...,  1.2755e-01,\n",
       "           6.6461e-02,  1.1163e+00]]], dtype=float32)]"
      ]
     },
     "execution_count": 296,
     "metadata": {},
     "output_type": "execute_result"
    }
   ],
   "source": [
    "a[0]"
   ]
  },
  {
   "cell_type": "code",
   "execution_count": null,
   "metadata": {
    "collapsed": true
   },
   "outputs": [],
   "source": [
    "3,1,10,4,50"
   ]
  },
  {
   "cell_type": "code",
   "execution_count": null,
   "metadata": {
    "collapsed": true
   },
   "outputs": [],
   "source": []
  }
 ],
 "metadata": {
  "anaconda-cloud": {},
  "kernelspec": {
   "display_name": "Python [default]",
   "language": "python",
   "name": "python3"
  },
  "language_info": {
   "codemirror_mode": {
    "name": "ipython",
    "version": 3
   },
   "file_extension": ".py",
   "mimetype": "text/x-python",
   "name": "python",
   "nbconvert_exporter": "python",
   "pygments_lexer": "ipython3",
   "version": "3.5.2"
  }
 },
 "nbformat": 4,
 "nbformat_minor": 2
}
