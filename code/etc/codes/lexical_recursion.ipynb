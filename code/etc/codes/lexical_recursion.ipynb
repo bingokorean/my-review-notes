{
 "cells": [
  {
   "cell_type": "markdown",
   "metadata": {},
   "source": [
    "# Korean Lexical analyzer with Recursion"
   ]
  },
  {
   "cell_type": "markdown",
   "metadata": {},
   "source": [
    "Reference:\n",
    "* [1] [한국어 형태소 분석기와 품사 태거 구현](https://github.com/gritmind/morph_and_pos_analyzer_korean)\n",
    "* [2] [자연어처리 - 2. Morphological Analysis (Korean)](https://github.com/gritmind/review-media/blob/master/class/natural-language-processing-chungnam/README.md)"
   ]
  },
  {
   "cell_type": "code",
   "execution_count": 1,
   "metadata": {},
   "outputs": [],
   "source": [
    "####################################################################################\n",
    "\"\"\" Load Vocabuary \"\"\"\n",
    "####################################################################################\n",
    "vocab = [\n",
    "    '고전',\n",
    "    '고전주의',\n",
    "    '신고',\n",
    "    '신',\n",
    "    '전주',\n",
    "    '주의',\n",
    "    '의정',\n",
    "    '정신',\n",
    "    '을'\n",
    "    \n",
    "]"
   ]
  },
  {
   "cell_type": "code",
   "execution_count": 2,
   "metadata": {},
   "outputs": [],
   "source": [
    "import sys, os\n",
    "\n",
    "## Global Variable\n",
    "hit_set = [] # 2d-array, 모든 종류의 단어조합(=thread)를 저장하기 위해.\n",
    "n_thr = -1 # unique thread index\n",
    "\n",
    "def recurs(sub_list, thread, depth):\n",
    "    ## search strategy - recursive function\n",
    "    global n_thr \n",
    "    global hit_set\n",
    "    depth += 1 # `recurs` 함수가 불린 횟수 (=tree depth level)\n",
    "    cur_depth = depth # 현재 depth 레벨 저장 - 가지치기용.\n",
    "    temp_str = ''\n",
    "    tnk = False # 기존 것과 새로운 thread를 구분하기 위한 토큰.\n",
    "    #print(idx, length)\n",
    "    #print(n_thr)\n",
    "\n",
    "    for i, x in enumerate(sub_list):\n",
    "        temp_str += x\n",
    "        if temp_str in vocab:\n",
    "            #thread.append(temp_str)\n",
    "            #print(thread)\n",
    "            if tnk == False: # 기존의 thread를 계속 이어감.\n",
    "                #print('---',temp_str)\n",
    "                #print('cur_depth:', cur_depth)\n",
    "                thread.append(temp_str)\n",
    "                hit_set[n_thr].append(temp_str)\n",
    "                \n",
    "            elif tnk == True: # 새로운 thread를 생성함.\n",
    "                n_thr += 1\n",
    "                #print('===>',temp_str)\n",
    "                #print('cur_depth:', cur_depth)\n",
    "                thread = thread[:cur_depth] # 새로운 thread 생성 - 현재 depth 정보를 참고하여 기존 thread에서 가지치기 실시. \n",
    "                thread.append(temp_str)\n",
    "                temp_thread = thread[:] # 주소 공유를 방지하기 위해 값을 할당.\n",
    "                hit_set.insert(n_thr, temp_thread)\n",
    "            \n",
    "            ## Continue searching recursively\n",
    "            recurs(sub_list[i+1:], thread, depth)\n",
    "            tnk = True # 지금 현재의 `recurs` 함수는 이제 새로운 thread이다."
   ]
  },
  {
   "cell_type": "code",
   "execution_count": 3,
   "metadata": {},
   "outputs": [],
   "source": [
    "def main(input_):\n",
    "    global n_thr\n",
    "    global hit_set\n",
    "\n",
    "    ###################################\n",
    "    \"\"\" Main Thread \"\"\"\n",
    "    ###################################\n",
    "    temp_str = ''\n",
    "    thread = []\n",
    "    depth = 0\n",
    "    input_list = list(input_)\n",
    "    length = len(input_list)\n",
    "    \n",
    "    for i, x in enumerate(input_list):\n",
    "        temp_str += x\n",
    "        if temp_str in vocab: # 여기서는 항상 새로운 thread가 생성된다.\n",
    "            n_thr += 1\n",
    "            #print(temp_str)\n",
    "            #thread.append(temp_str)\n",
    "            hit_set.insert(n_thr, [temp_str])\n",
    "            ##################################\n",
    "            \"\"\" Recursion Start \"\"\"\n",
    "            recurs(input_list[i+1:], [temp_str], depth)\t\n",
    "\n",
    "    for each in hit_set:\n",
    "        sum_len = sum([len(list(x)) for x in each])\n",
    "        if length == sum_len:\n",
    "            print('+'.join(each))\t"
   ]
  },
  {
   "cell_type": "code",
   "execution_count": 4,
   "metadata": {},
   "outputs": [
    {
     "name": "stdout",
     "output_type": "stream",
     "text": [
      "신+고전+주의+정신+을\n",
      "신+고전주의+정신+을\n",
      "신고+전주+의정+신+을\n"
     ]
    }
   ],
   "source": [
    "main(\"신고전주의정신을\")"
   ]
  },
  {
   "cell_type": "markdown",
   "metadata": {},
   "source": [
    "Above result is the same as [2]."
   ]
  },
  {
   "cell_type": "markdown",
   "metadata": {},
   "source": [
    "<요약>\n",
    "* 복합 명사를 음절 단위로 분할하여 리스트로 저장합니다.\n",
    "* 오른쪽 방향으로 음절을 하나씩 병합해가면서 사전 단어들과 매칭을 확인합니다. \n",
    "* 재귀 함수를 통해서 연이은 단어 매칭을 실시하고 가능한 단어 조합을 모두 저장합니다.\n",
    "* 찾아낸 모든 단어 조합 중에서 입력 음절 개수를 기준으로 정답을 선택합니다."
   ]
  },
  {
   "cell_type": "code",
   "execution_count": null,
   "metadata": {},
   "outputs": [],
   "source": []
  }
 ],
 "metadata": {
  "kernelspec": {
   "display_name": "Python 3",
   "language": "python",
   "name": "python3"
  },
  "language_info": {
   "codemirror_mode": {
    "name": "ipython",
    "version": 3
   },
   "file_extension": ".py",
   "mimetype": "text/x-python",
   "name": "python",
   "nbconvert_exporter": "python",
   "pygments_lexer": "ipython3",
   "version": "3.6.5"
  }
 },
 "nbformat": 4,
 "nbformat_minor": 2
}
