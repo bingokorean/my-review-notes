{
 "cells": [
  {
   "cell_type": "markdown",
   "metadata": {},
   "source": [
    "# Overlapping Strings"
   ]
  },
  {
   "cell_type": "markdown",
   "metadata": {},
   "source": [
    "s1과 s2를 붙여서 새로운 문자열을 만듭니다. 여기서 겹치는 부분은 한 번만 적습니다. 붙이는 순서는 상관없고 가능한 짧은 길이를 원합니다."
   ]
  },
  {
   "cell_type": "code",
   "execution_count": 4,
   "metadata": {},
   "outputs": [],
   "source": [
    "def overlapping_strings(s1, s2):\n",
    "    \n",
    "    min_len = min(len(s1), len(s2)) # 겹치는 길이가 가장 큰 경우는... 짧은 string의 길이일 것이다.\n",
    "    \n",
    "    # 순방향으로 붙일때가 겹치는 부분이 많을지, 역방향일 때가 많을지는 모른다. 모두 해봐야 한다.\n",
    "    \n",
    "    forward_min = 0 # 순방향으로 붙일 경우..\n",
    "    for i in range(min_len, 0, -1):\n",
    "        if s1[::-1][:i][::-1] == s2[:i]: # reverse를 활용해서 비교한다.\n",
    "            forward_min = i\n",
    "            break\n",
    "    \n",
    "    backward_min = 0 # 역방향으로 붙일 경우..\n",
    "    for i in range(min_len, 0, -1):\n",
    "        if s2[::-1][:i][::-1] == s1[:i]: # reverse를 활용해서 비교한다.\n",
    "            backward_min = i\n",
    "            break        \n",
    "    \n",
    "    max_overlap = max(forward_min, backward_min)\n",
    "    return len(s1) + len(s2) - max_overlap # 가장 짧은 새로운 문자열의 길이를 출력"
   ]
  },
  {
   "cell_type": "code",
   "execution_count": 5,
   "metadata": {
    "scrolled": true
   },
   "outputs": [
    {
     "data": {
      "text/plain": [
       "8"
      ]
     },
     "execution_count": 5,
     "metadata": {},
     "output_type": "execute_result"
    }
   ],
   "source": [
    "overlapping_strings(\"ababc\", \"abcdab\")"
   ]
  },
  {
   "cell_type": "code",
   "execution_count": 6,
   "metadata": {
    "scrolled": true
   },
   "outputs": [
    {
     "data": {
      "text/plain": [
       "16"
      ]
     },
     "execution_count": 6,
     "metadata": {},
     "output_type": "execute_result"
    }
   ],
   "source": [
    "overlapping_strings(\"abcdefg\", \"hijklmnop\") # 겹치는 게 한 개도 없음."
   ]
  },
  {
   "cell_type": "code",
   "execution_count": 7,
   "metadata": {
    "scrolled": true
   },
   "outputs": [
    {
     "data": {
      "text/plain": [
       "6"
      ]
     },
     "execution_count": 7,
     "metadata": {},
     "output_type": "execute_result"
    }
   ],
   "source": [
    "overlapping_strings(\"abcdef\", \"abcdef\") # 모두 겹침."
   ]
  },
  {
   "cell_type": "code",
   "execution_count": null,
   "metadata": {},
   "outputs": [],
   "source": []
  }
 ],
 "metadata": {
  "kernelspec": {
   "display_name": "Python 3",
   "language": "python",
   "name": "python3"
  },
  "language_info": {
   "codemirror_mode": {
    "name": "ipython",
    "version": 3
   },
   "file_extension": ".py",
   "mimetype": "text/x-python",
   "name": "python",
   "nbconvert_exporter": "python",
   "pygments_lexer": "ipython3",
   "version": "3.6.5"
  }
 },
 "nbformat": 4,
 "nbformat_minor": 2
}
