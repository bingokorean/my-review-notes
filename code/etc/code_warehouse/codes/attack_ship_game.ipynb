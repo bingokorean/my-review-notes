{
 "cells": [
  {
   "cell_type": "markdown",
   "metadata": {},
   "source": [
    "# Attack Ship Game\n",
    "\n",
    "---\n",
    "\n",
    "* x축은 1~26, y축은 A~Z 인 좌표계를 사용한다\n",
    "* 함선의 크기는 항상 '2 x 2', '1 x n', 또는 'n x 1'로 표현된다 \n",
    "* 함선은 항상 2개의 point로 위치 좌표를 나타낸다 ('2 x 2'의 경우 대각선 꼭지점들로 표현함)\n",
    "* 미사일은 '1 x 1'로 표현되고, 좌표만 다르면 여러 개의 미사일을 때릴 수 있다\n",
    "* 함선에 해당하는 모든 좌표에 미사일을 맞아야 해당 함선은 침몰한다\n",
    "\n",
    "---\n",
    "\n",
    "* 입력 S는 여러 개의 함선들의 좌표이다\n",
    "* 입력 T는 여러 개의 미사일들의 좌표이다\n",
    "* 출력은 (침몰된 함선 개수, 적어도 1대라도 맞은 함선 개수) 이다"
   ]
  },
  {
   "cell_type": "code",
   "execution_count": 2,
   "metadata": {},
   "outputs": [],
   "source": [
    "def generate(a, b):\n",
    "    all_cases = []\n",
    "    dict_pair = {'A': 1, 'B': 2, 'C': 3, 'D': 4, 'E': 5, 'F': 6, 'G': 7, 'H': 8,\n",
    "            'I': 9, 'J': 10, 'K': 11, 'L': 12, 'M': 13, 'N': 14, 'O': 15, 'P': 16,\n",
    "            'Q': 17, 'R': 18, 'S': 19, 'T': 20, 'U': 21, 'V': 22, 'W': 23, 'X': 24,\n",
    "            'Y': 25, 'Z': 26}\n",
    "    rev_dict = {v: k for k, v in dict_pair.items()}\n",
    "    \n",
    "    # alphabet same\n",
    "    if a[-1] == b[-1]:\n",
    "        for i in range(int(a[:-1]), int(b[:-1])+1):\n",
    "            all_cases.append(str(i) + a[-1])\n",
    "            \n",
    "    elif a[:-1] == b[:-1]:\n",
    "        for i in range(dict_pair[a[-1]], dict_pair[b[-1]]+1):\n",
    "            all_cases.append(str(a[:-1]) + rev_dict[i])\n",
    "            \n",
    "    # alphabet not same\n",
    "    else:\n",
    "        all_cases.append(a)\n",
    "        all_cases.append(b)\n",
    "        all_cases.append(a[:-1] + b[-1])\n",
    "        all_cases.append(b[:-1] + a[-1])    \n",
    "    return (all_cases)\n",
    "\n",
    "def solution(S, T):\n",
    "    \n",
    "    # ship-cord generation\n",
    "    cord_S = []\n",
    "    list_S = S.split(',')\n",
    "    for ship in list_S:\n",
    "        cords = ship.split()\n",
    "        print(generate(cords[0], cords[1]))\n",
    "        cord_S.append(generate(cords[0], cords[1]))\n",
    "    \n",
    "    print(cord_S)\n",
    "    # hit : remove ship-cord\n",
    "    for i, sub in enumerate(cord_S):\n",
    "        for j, _ in enumerate(sub):\n",
    "            if cord_S[i][j] in T.split():\n",
    "                cord_S[i][j] = -1\n",
    "    \n",
    "    sink_n = 0\n",
    "    hit_n = 0\n",
    "\n",
    "    print(cord_S)\n",
    "    # count \n",
    "    for sub in cord_S:\n",
    "        if -1 in sub:\n",
    "            hit_n += 1\n",
    "            \n",
    "        if len(set(sub))==1:\n",
    "            #if len(sub) != len(set(sub)):\n",
    "            if sub[0] == -1:\n",
    "                sink_n += 1\n",
    "                \n",
    "    return sink_n , hit_n-sink_n"
   ]
  },
  {
   "cell_type": "code",
   "execution_count": 3,
   "metadata": {},
   "outputs": [
    {
     "name": "stdout",
     "output_type": "stream",
     "text": [
      "['1A', '1B']\n",
      "['2C']\n",
      "[['1A', '1B'], ['2C']]\n",
      "[['1A', -1], ['2C']]\n"
     ]
    },
    {
     "data": {
      "text/plain": [
       "(0, 1)"
      ]
     },
     "execution_count": 3,
     "metadata": {},
     "output_type": "execute_result"
    }
   ],
   "source": [
    "S =  \"1A 1B, 2C 2C\"\n",
    "T =  \"1B\"\n",
    "solution(S, T)"
   ]
  },
  {
   "cell_type": "code",
   "execution_count": 6,
   "metadata": {
    "scrolled": true
   },
   "outputs": [
    {
     "name": "stdout",
     "output_type": "stream",
     "text": [
      "['1D', '2D', '3D', '4D', '5D', '6D', '7D']\n",
      "['1C', '2C']\n",
      "['3C']\n",
      "[['1D', '2D', '3D', '4D', '5D', '6D', '7D'], ['1C', '2C'], ['3C']]\n",
      "[['1D', '2D', '3D', '4D', '5D', '6D', '7D'], [-1, -1], ['3C']]\n"
     ]
    },
    {
     "data": {
      "text/plain": [
       "(1, 0)"
      ]
     },
     "execution_count": 6,
     "metadata": {},
     "output_type": "execute_result"
    }
   ],
   "source": [
    "S =  \"1D 7D, 1C 2C, 3C 3C\"\n",
    "T =  \"1B 1C 2C\"\n",
    "solution(S, T)"
   ]
  },
  {
   "cell_type": "code",
   "execution_count": 14,
   "metadata": {},
   "outputs": [
    {
     "name": "stdout",
     "output_type": "stream",
     "text": [
      "['1B', '2A', '1A', '2B']\n",
      "['3A', '3B']\n",
      "['4C', '5C']\n",
      "[['1B', '2A', '1A', '2B'], ['3A', '3B'], ['4C', '5C']]\n",
      "[[-1, -1, -1, -1], [-1, '3B'], [-1, -1]]\n"
     ]
    },
    {
     "data": {
      "text/plain": [
       "(2, 1)"
      ]
     },
     "execution_count": 14,
     "metadata": {},
     "output_type": "execute_result"
    }
   ],
   "source": [
    "S =  \"1B 2A, 3A 3B, 4C 5C\"\n",
    "T =  \"1A 2A 1B 2B 4C 5C 3A\"\n",
    "solution(S, T)"
   ]
  },
  {
   "cell_type": "code",
   "execution_count": null,
   "metadata": {},
   "outputs": [],
   "source": []
  }
 ],
 "metadata": {
  "kernelspec": {
   "display_name": "Python 3",
   "language": "python",
   "name": "python3"
  },
  "language_info": {
   "codemirror_mode": {
    "name": "ipython",
    "version": 3
   },
   "file_extension": ".py",
   "mimetype": "text/x-python",
   "name": "python",
   "nbconvert_exporter": "python",
   "pygments_lexer": "ipython3",
   "version": "3.6.5"
  }
 },
 "nbformat": 4,
 "nbformat_minor": 2
}
