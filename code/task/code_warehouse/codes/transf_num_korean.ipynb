{
 "cells": [
  {
   "cell_type": "markdown",
   "metadata": {},
   "source": [
    "# 숫자-한글 변환 알고리즘\n",
    "\n",
    "* 조건) 출력단위(1~4)를 파라미터로 입력받아 출력단위에 맞게 반올림 한다. \n",
    "* 조건) 입력되는 정수의 범위는 -2^54 ~ 2^54 이다.\n",
    "* 예) 출력단위가 1이고 입력정수가 99995000 이라면, 1억 이라고 출력한다. "
   ]
  },
  {
   "cell_type": "code",
   "execution_count": 1,
   "metadata": {},
   "outputs": [],
   "source": [
    "import sys, os\n",
    "import time"
   ]
  },
  {
   "cell_type": "code",
   "execution_count": 2,
   "metadata": {},
   "outputs": [],
   "source": [
    "def kor_num(input_, m):\n",
    "    input_ = int(input_)\n",
    "    m = int(m)\n",
    "\n",
    "    ## 음수 처리를 위한 토큰.\n",
    "    if input_ < 0:\n",
    "        neg_tkn = True\n",
    "        input_ = -1 * input_\n",
    "    else: neg_tkn = False\n",
    "\n",
    "    ## 맨 앞을 0으로 추가하면서 길이를 4의 배수에 딱 맞춤.\n",
    "    inp_length = len(str(input_))\n",
    "    if inp_length % 4 != 0: # (ex. 입력이 -9999999995000일 경우 -> 0009999999995000 으로 변환)\n",
    "        input_ = '0' * (4-(inp_length % 4)) + str(input_)\n",
    "\n",
    "    ## 4단위로 쪼개어 리스트형태로 저장. (ex. [9, 9999, 9999, 5000] )\n",
    "    inp_length = len(str(input_)) # length 재설정.\n",
    "    split_int = []\n",
    "    for i in range(0, inp_length+1, 4):\n",
    "        if i==0: continue\n",
    "        split_int.append(int(str(input_)[i-4:i]))\t\t\n",
    "        \n",
    "    ## 반올림 처리를 위한 로직\n",
    "    rev_split_int = split_int[::-1]\n",
    "    pivot = len(split_int) - (m)\n",
    "\n",
    "    if pivot !=0: # pivot이 0이면, 반올림 처리를 할 필요 없다.\n",
    "        for i, _ in enumerate(rev_split_int): # 반전이유: 뒤에서부터 반올림하기 위해.\n",
    "            if i < pivot: # m 자리수부터 반올림을 고려하자. (이제 시작)\n",
    "                continue\n",
    "            # pivot부터 시작.\n",
    "            if rev_split_int[i-1] >= 5000:\n",
    "                rev_split_int[i] += 1\n",
    "            if i== pivot: # m 자리까지 (이제 그만)\n",
    "                break\n",
    "\n",
    "        if rev_split_int[-1] == 10000:\n",
    "            rev_split_int.append(1)\n",
    "        # 10000 -> 0000\n",
    "        rev_split_int = [0 if x==10000 else x for x in rev_split_int]\n",
    "        split_int = rev_split_int[::-1] # 원상 복구.\t\n",
    "    # 예) m=3일 때 [9, 9999, 9999, 5000] 반올림 결과 -> [10, 0, 0, 5000]\n",
    "\n",
    "    ## 한글단위와 병합\n",
    "    kor_unit = ['경', '조', '억', '만', '']\n",
    "    merge = []\n",
    "    for i, _ in enumerate(split_int[::-1]): # reversed를 주목.\n",
    "        #if split_int[i] == 0: # ex. 0억은 제외한다.\n",
    "        #    continue\n",
    "        merge.append(str(split_int[::-1][i]) + kor_unit[::-1][i]) # reversed를 주목.\t\n",
    "    # 예) merge = ['5000', '0만', '0억', '10조']\n",
    "        \n",
    "    ## 입력받은 m을 반영 & 0값을 삭제 & 음수 반영\n",
    "    merge = [x for x in merge[::-1][:m] if list(x)[0] != '0']\n",
    "    if neg_tkn == True:\n",
    "        result = '-' + ''.join(merge)\n",
    "    else:\n",
    "        result = ''.join(merge)\t\n",
    "    return result\n",
    "\n",
    "def main(m):\n",
    "    #try:\n",
    "        #while True:\n",
    "    for i in range(0, 3):\n",
    "        output_ = kor_num(input('Enter natural number: '), m)\n",
    "        print('-> Korean style : {}'.format(output_))\n",
    "    #except KeyboardInterrupt:\n",
    "    #pass"
   ]
  },
  {
   "cell_type": "code",
   "execution_count": 3,
   "metadata": {},
   "outputs": [
    {
     "name": "stdout",
     "output_type": "stream",
     "text": [
      "Enter natural number: 1234567890\n",
      "-> Korean style : 12억\n",
      "Enter natural number: 999950000000\n",
      "-> Korean style : 1조\n",
      "Enter natural number: 1000050000000\n",
      "-> Korean style : 1조\n"
     ]
    }
   ],
   "source": [
    "main(1) # 출력단위 2를 인자로 받음."
   ]
  },
  {
   "cell_type": "code",
   "execution_count": 4,
   "metadata": {
    "scrolled": true
   },
   "outputs": [
    {
     "name": "stdout",
     "output_type": "stream",
     "text": [
      "Enter natural number: 1234567890\n",
      "-> Korean style : 12억3457만\n",
      "Enter natural number: 999950000000\n",
      "-> Korean style : 9999억5000만\n",
      "Enter natural number: 1000050000000\n",
      "-> Korean style : 1조1억\n"
     ]
    }
   ],
   "source": [
    "main(2) # 출력단위 3을 인자로 받음."
   ]
  },
  {
   "cell_type": "markdown",
   "metadata": {},
   "source": [
    "<요약>\n",
    "* 낮은 자리에서부터 숫자 4개를 하나의 묶음으로 리스트에 저장합니다.\n",
    "* 출력단위를 참고하여 규칙 기반의 반올림을 실시합니다.\n",
    "* 0값제거, 음수처리와 출력단위를 반영하여 숫자와 한글 단위 병합을 실시합니다."
   ]
  },
  {
   "cell_type": "code",
   "execution_count": null,
   "metadata": {},
   "outputs": [],
   "source": []
  }
 ],
 "metadata": {
  "kernelspec": {
   "display_name": "Python 3",
   "language": "python",
   "name": "python3"
  },
  "language_info": {
   "codemirror_mode": {
    "name": "ipython",
    "version": 3
   },
   "file_extension": ".py",
   "mimetype": "text/x-python",
   "name": "python",
   "nbconvert_exporter": "python",
   "pygments_lexer": "ipython3",
   "version": "3.6.5"
  }
 },
 "nbformat": 4,
 "nbformat_minor": 2
}
