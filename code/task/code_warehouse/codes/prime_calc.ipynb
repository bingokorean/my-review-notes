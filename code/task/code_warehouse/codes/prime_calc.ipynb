{
 "cells": [
  {
   "cell_type": "markdown",
   "metadata": {},
   "source": [
    "# 효율적인 소수 찾기 알고리즘"
   ]
  },
  {
   "cell_type": "markdown",
   "metadata": {},
   "source": [
    "Reference:\n",
    "* [1]. [Why do we check up to the square root of a prime number to determine if it is prime?](https://stackoverflow.com/questions/5811151/why-do-we-check-up-to-the-square-root-of-a-prime-number-to-determine-if-it-is-pr)\n",
    "* [2]. [(파이썬) 소수 판별하기](http://53perc.tistory.com/entry/%ED%8C%8C%EC%9D%B4%EC%8D%AC-%EC%86%8C%EC%88%98-%ED%8C%90%EB%B3%84%ED%95%98%EA%B8%B0)"
   ]
  },
  {
   "cell_type": "markdown",
   "metadata": {},
   "source": [
    "<요약>\n",
    "* 짝수와 제곱근을 활용하여 약수를 찾는 숫자의 범위를 줄여 소수 감별기의 속도를 높였습니다.\n",
    "* 첫 번째 자리수부터 소수 감별을 실시하고, 아닐 경우 해당 자리의 수의 숫자를 1 감소합니다.\n",
    "* 낮은 자리가 아닌 높은 자리에서의 수를 우선적으로 감소시킴으로써 검색 범위를 대폭 축소할 수 있습니다. "
   ]
  },
  {
   "cell_type": "markdown",
   "metadata": {},
   "source": [
    "## 1. 입력된 자연수가 소수인지 판별하시오."
   ]
  },
  {
   "cell_type": "code",
   "execution_count": 6,
   "metadata": {},
   "outputs": [],
   "source": [
    "import sys, os\n",
    "import time"
   ]
  },
  {
   "cell_type": "code",
   "execution_count": 1,
   "metadata": {},
   "outputs": [],
   "source": [
    "def check_prime(nat_num):    \n",
    "    if nat_num == 1: # 1은 소수가 아님.\n",
    "        return False\n",
    "    elif nat_num == 2: # 2는 가장 작은 소수임.\n",
    "        return True\n",
    "    \n",
    "    if nat_num % 2 == 0: # 2를 제외한 모든 짝수는 2로 나눠지므로 소수가 아니다\n",
    "        return False\n",
    "    \n",
    "    ### 효율적인 소수 찾기 아이디어\n",
    "    # 만약 n이 소수가 아니라면, n = a*b로 표현된다 (여기서 a와 b는 1 또는 자기자신이 아님)\n",
    "    # (우리는 a만 고려해서) a가 1 또는 자기자신이 아닌 것만 찾으면 된다 (소수가 아닌 조건)\n",
    "    # 다시 말해, 일반적으로 n이하의 모든 숫자들을 \"나머지0\" 인지 체크하는 것이 아닌,\n",
    "    # 가능한 a의 숫자들만 \"나머지0\" 인지 체크해보자 (체크 경우의 수를 훨씬 더 줄일 수 있다)\n",
    "    # 여기서 중요한 점이 모든 경우의 a는 루트n 범위 내에 있을 수 밖에 없다. (n이 고정되어 있으므로)\n",
    "    # 따라서, 루트n까지의 검색 범위만 가지면 된다.\t\n",
    "\n",
    "    ## 시간 복잡도가 높은 부분. 최소한으로 search 범위를 좁혀야 한다.\n",
    "    # 모든 짝수는 제외: range(3, x, 2) - O(N/2)로 여전히 O(N)\n",
    "    # nat_num의 제곱근까지만 search 하면 된다 : O(sqrt(N))\n",
    "    reduc_num = round(nat_num ** 0.5)\n",
    "    for i in range(3, reduc_num+1, 2):\n",
    "        if nat_num % i is 0:\n",
    "            return False   \n",
    "    return True"
   ]
  },
  {
   "cell_type": "code",
   "execution_count": 27,
   "metadata": {},
   "outputs": [
    {
     "name": "stdout",
     "output_type": "stream",
     "text": [
      "False\n",
      "True\n",
      "True\n"
     ]
    }
   ],
   "source": [
    "print(check_prime(8))\n",
    "print(check_prime(19))\n",
    "print(check_prime((2 ** 31)-1))"
   ]
  },
  {
   "cell_type": "markdown",
   "metadata": {},
   "source": [
    "## 2. (조건) 우측 끝에서 임의의 개수의 숫자를 제거한 결과도 소수인 수를 구하시오.\n",
    "\n",
    "예) 자연수 5939333 는 593933, 59393, 5939, 593, 59, 5 모두 소수이다."
   ]
  },
  {
   "cell_type": "markdown",
   "metadata": {},
   "source": [
    "### 2.1. 입력된 자연수보다 적으면서 위의 조건을 만족하는 가장 큰 자연수를 구하시오."
   ]
  },
  {
   "cell_type": "code",
   "execution_count": 20,
   "metadata": {},
   "outputs": [],
   "source": [
    "def find_prime_condition(org_input):\n",
    "    input_ = org_input\n",
    "    \n",
    "    while input_: # 입력이 감소하여 0이 되면 break\n",
    "        str_input = str(input_) \n",
    "        tkn = False # sub_set 모두 소수일 경우 true. (ex. [2, 29, 293, 2939, 29399])\n",
    "        \n",
    "        # 맨 앞자리가 1 또는 2이면 무조건 소수가 된다.\n",
    "        #if str_input[0] == '1' or str_input[0] == '2': # 이 연산이 오히려 시간 복잡도를 매우 늘림.\n",
    "        #    input_ -= 1\n",
    "        #    continue\n",
    "        \n",
    "        sub_set = [int(str_input[:i+1]) for i, _ in enumerate(str_input)] # 현재 입력에 대한 sub_set을 생성.\n",
    "        #print(sub_set)\n",
    "        \n",
    "        for i, each in enumerate(sub_set): # sub_set의 작은 수부터 iteration되도록.(큰 단위로 감소시키기 위해 - search space가 매우 줄어듦.)\n",
    "            if check_prime(each)==False:\n",
    "                each -= 1 # 현재 레벨이 소수가 아니므로, 현재 레벨에서 1을 감소시킴\n",
    "                input_ = int(str(each) + '9'*len(str(str_input[i+1:])) ) # 1을 감소시킨 값을 입력에 반영. 주의: 뒷부분은 모두 9로 이어줘야 함.\n",
    "                break\n",
    "                \n",
    "            if i==len(sub_set)-1: # sub_set의 마지막 elemt까지 소수가 true일 경우.\n",
    "                tkn = True\n",
    "        \n",
    "        # inner while을 모두 통과하면 모든 조건을 만족하는 소수이므로 해당 값을 리텀함.\n",
    "        if tkn == True:\n",
    "            return input_\n",
    "        \n",
    "def main(nat_num):\n",
    "    print(find_prime_condition(nat_num))"
   ]
  },
  {
   "cell_type": "code",
   "execution_count": 26,
   "metadata": {},
   "outputs": [
    {
     "name": "stdout",
     "output_type": "stream",
     "text": [
      "73939133\n",
      "5939333\n",
      "37397\n",
      " 0.031145095825195312 seconds \n"
     ]
    }
   ],
   "source": [
    "start_t = time.time()\n",
    "main((2 ** 31)-1)\n",
    "main(7000000)\n",
    "main(46764)\n",
    "print(\" %s seconds \" % (time.time() - start_t))"
   ]
  },
  {
   "cell_type": "markdown",
   "metadata": {},
   "source": [
    "### 2.2. 입력된 자연수보다 작은 수 중에서 위의 조건을 만족하는 자연수를 모두 구하시오."
   ]
  },
  {
   "cell_type": "code",
   "execution_count": 28,
   "metadata": {},
   "outputs": [],
   "source": [
    "def find_prime_condition2(org_input):\n",
    "    input_ = org_input\n",
    "    all_prime = []\n",
    "    \n",
    "    while input_: # 입력이 감소하여 0이 되면 break\n",
    "        \n",
    "        str_input = str(input_)\n",
    "        tkn = False # sub_set 모두 소수일 경우 true. (ex. [2, 29, 293, 2939, 29399])\n",
    "        \n",
    "        # 맨 앞자리가 1 또는 2이면 무조건 소수가 된다.\n",
    "        #if str_input[0] == '1' or str_input[0] == '2':\n",
    "        #    input_ -= 1\n",
    "        #    continue\n",
    "        \n",
    "        sub_set = [int(str_input[:i+1]) for i, _ in enumerate(str_input)]\n",
    "        \n",
    "        #print(sub_set)\n",
    "        \n",
    "        for i, each in enumerate(sub_set):\n",
    "            if check_prime(each)==False:\n",
    "                each -= 1\n",
    "                input_ = int(str(each) + '9'*len(str(str_input[i+1:])) )\n",
    "                break\n",
    "                \n",
    "            if i==len(sub_set)-1:\n",
    "                tkn = True\n",
    "        \n",
    "        # inner while을 모두 통과하면 모든 조건을 만족하는 소수이므로 해당 값을 리텀함.\n",
    "        if tkn == True:\n",
    "            all_prime.append(input_)\n",
    "            input_ -= 1 ### problem3_2를 위한 추가.\n",
    "            \n",
    "        #input_ -= 1\n",
    "    return all_prime\n",
    "\n",
    "def main(nat_num):\n",
    "    print(find_prime_condition2(nat_num))"
   ]
  },
  {
   "cell_type": "code",
   "execution_count": 29,
   "metadata": {},
   "outputs": [
    {
     "name": "stdout",
     "output_type": "stream",
     "text": [
      "[73939133, 59393339, 37337999, 29399999, 23399339, 7393933, 7393931, 7393913, 5939333, 3733799, 2939999, 2399333, 2339933, 739399, 739397, 739393, 739391, 719333, 593993, 593933, 373393, 373379, 293999, 239933, 233993, 73939, 73331, 71933, 59399, 59393, 37397, 37339, 37337, 31379, 31193, 29399, 23993, 23399, 23339, 23333, 7393, 7333, 7331, 7193, 5939, 3797, 3793, 3739, 3733, 3137, 3119, 2939, 2399, 2393, 2339, 2333, 797, 739, 733, 719, 599, 593, 379, 373, 317, 313, 311, 293, 239, 233, 79, 73, 71, 59, 53, 37, 31, 29, 23, 7, 5, 3, 2]\n"
     ]
    }
   ],
   "source": [
    "main((2 ** 31)-1)"
   ]
  },
  {
   "cell_type": "code",
   "execution_count": null,
   "metadata": {},
   "outputs": [],
   "source": []
  }
 ],
 "metadata": {
  "kernelspec": {
   "display_name": "Python 3",
   "language": "python",
   "name": "python3"
  },
  "language_info": {
   "codemirror_mode": {
    "name": "ipython",
    "version": 3
   },
   "file_extension": ".py",
   "mimetype": "text/x-python",
   "name": "python",
   "nbconvert_exporter": "python",
   "pygments_lexer": "ipython3",
   "version": "3.6.5"
  }
 },
 "nbformat": 4,
 "nbformat_minor": 2
}
