{
 "cells": [
  {
   "cell_type": "markdown",
   "metadata": {},
   "source": [
    "# Team Allocation Algorithm"
   ]
  },
  {
   "cell_type": "markdown",
   "metadata": {},
   "source": [
    "게임에 입장한 순서와 플레이어의 등급에 따라 팀을 자동으로 편성해주는 알고리즘을 짜자. 팀을 편성하는 기준은 다음과 같다.\n",
    "\n",
    "* 들어온 순서대로 팀을 배정한다 (리스트에서 왼쪽부터 오른쪽 순서)\n",
    "* 새로운 플레이어는 새 팀에 배정하거나, 혹은 모든 팀원의 등급이 해당 플레이어의 등급보다 낮은 팀에만 배정할 수 있다.\n",
    "* 한 번 정해진 팀은 바꿀 수 없다.\n",
    "* 팀은 적을수록 좋다 (중요!)\n",
    "* 모든 플레이어의 등급은 서로 다르다 (조건)"
   ]
  },
  {
   "cell_type": "code",
   "execution_count": 9,
   "metadata": {},
   "outputs": [],
   "source": [
    "def team_alloc(players):\n",
    "    team_list = []\n",
    "    team_max_list = []\n",
    "    \n",
    "    for i, p in enumerate(players):\n",
    "        if i==0:\n",
    "            # create new team; 0번째이므로 무조건 팀을 만든다.\n",
    "            team_list.append( [p] ) # 리스트형으로 만들어준다.\n",
    "            team_max_list.append(p)\n",
    "            print(p, '\\t', team_list)\n",
    "            continue\n",
    "            \n",
    "        # 현재 배정된 팀 중에서 가장 점수가 낮은 팀을 선택한다 (왜?내가 들어갈 수 있는지 판단하기 위해)\n",
    "        min_among_team = min(team_max_list)\n",
    "        \n",
    "        if p > min_among_team:\n",
    "            print('\\t', team_max_list)\n",
    "            # 추가로 섬세한 기준이 더 필요하다.\n",
    "            # 현재 p보다 점수가 낮은 팀들 중에서.. 제일 높은 팀을 또 선택해야 한다 (중요!!!)\n",
    "            # 그래야 효율적으로 팀 배정을 할 수 있다. \n",
    "            # 만약 그냥 제일 낮은 팀에 배정하면 다음 타자가 선택할 수 있는 폭이 그만큼 줄어든다.\n",
    "            new_std = [(value, i) for i, value in enumerate(team_max_list) if value < p]\n",
    "            new_std_max = max(new_std, key=lambda x: x[0])\n",
    "            idx = new_std_max[1]\n",
    "            \n",
    "            team_list[idx].append(p)\n",
    "            team_max_list[idx] = max(team_list[idx])\n",
    "            \n",
    "        elif p < min_among_team:\n",
    "            # create new team\n",
    "            team_list.append( [p] )\n",
    "            team_max_list.append(p)\n",
    "            \n",
    "        print(p, '\\t', team_list)\n",
    "            \n",
    "    return len(team_list)"
   ]
  },
  {
   "cell_type": "code",
   "execution_count": 2,
   "metadata": {},
   "outputs": [
    {
     "data": {
      "text/plain": [
       "4"
      ]
     },
     "execution_count": 2,
     "metadata": {},
     "output_type": "execute_result"
    }
   ],
   "source": [
    "team_alloc([5,3,4,6,2,1])"
   ]
  },
  {
   "cell_type": "code",
   "execution_count": 6,
   "metadata": {},
   "outputs": [
    {
     "data": {
      "text/plain": [
       "1"
      ]
     },
     "execution_count": 6,
     "metadata": {},
     "output_type": "execute_result"
    }
   ],
   "source": [
    "team_alloc([1,2,3,4,5,6,7,8,9])"
   ]
  },
  {
   "cell_type": "code",
   "execution_count": 7,
   "metadata": {},
   "outputs": [
    {
     "data": {
      "text/plain": [
       "9"
      ]
     },
     "execution_count": 7,
     "metadata": {},
     "output_type": "execute_result"
    }
   ],
   "source": [
    "team_alloc([9,8,7,6,5,4,3,2,1])"
   ]
  },
  {
   "cell_type": "code",
   "execution_count": 8,
   "metadata": {},
   "outputs": [
    {
     "data": {
      "text/plain": [
       "3"
      ]
     },
     "execution_count": 8,
     "metadata": {},
     "output_type": "execute_result"
    }
   ],
   "source": [
    "team_alloc([1,5,3,2,6,4,3,9,11,15,34,16,7,99])"
   ]
  },
  {
   "cell_type": "code",
   "execution_count": 11,
   "metadata": {},
   "outputs": [
    {
     "name": "stdout",
     "output_type": "stream",
     "text": [
      "15 \t [[15]]\n",
      "\t [15]\n",
      "18 \t [[15, 18]]\n",
      "17 \t [[15, 18], [17]]\n",
      "\t [18, 17]\n",
      "21 \t [[15, 18, 21], [17]]\n",
      "\t [21, 17]\n",
      "334 \t [[15, 18, 21, 334], [17]]\n",
      "2 \t [[15, 18, 21, 334], [17], [2]]\n",
      "\t [334, 17, 2]\n",
      "6 \t [[15, 18, 21, 334], [17], [2, 6]]\n",
      "\t [334, 17, 6]\n",
      "7 \t [[15, 18, 21, 334], [17], [2, 6, 7]]\n",
      "\t [334, 17, 7]\n",
      "9099 \t [[15, 18, 21, 334, 9099], [17], [2, 6, 7]]\n",
      "\t [9099, 17, 7]\n",
      "65 \t [[15, 18, 21, 334, 9099], [17, 65], [2, 6, 7]]\n",
      "3 \t [[15, 18, 21, 334, 9099], [17, 65], [2, 6, 7], [3]]\n",
      "\t [9099, 65, 7, 3]\n",
      "9 \t [[15, 18, 21, 334, 9099], [17, 65], [2, 6, 7, 9], [3]]\n",
      "\t [9099, 65, 9, 3]\n",
      "1533 \t [[15, 18, 21, 334, 9099], [17, 65, 1533], [2, 6, 7, 9], [3]]\n"
     ]
    },
    {
     "data": {
      "text/plain": [
       "4"
      ]
     },
     "execution_count": 11,
     "metadata": {},
     "output_type": "execute_result"
    }
   ],
   "source": [
    "team_alloc([15,18,17,21,334,2,6,7,9099,65,3,9,1533])"
   ]
  },
  {
   "cell_type": "markdown",
   "metadata": {},
   "source": [
    "334 가 어떤 팀으로 할당되는지 주목하자 ( new_std 기준으로 효율적으로 팀 배정이 완료된다 )"
   ]
  },
  {
   "cell_type": "code",
   "execution_count": null,
   "metadata": {},
   "outputs": [],
   "source": []
  }
 ],
 "metadata": {
  "kernelspec": {
   "display_name": "Python 3",
   "language": "python",
   "name": "python3"
  },
  "language_info": {
   "codemirror_mode": {
    "name": "ipython",
    "version": 3
   },
   "file_extension": ".py",
   "mimetype": "text/x-python",
   "name": "python",
   "nbconvert_exporter": "python",
   "pygments_lexer": "ipython3",
   "version": "3.6.5"
  }
 },
 "nbformat": 4,
 "nbformat_minor": 2
}
