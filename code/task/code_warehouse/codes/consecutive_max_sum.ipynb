{
 "cells": [
  {
   "cell_type": "markdown",
   "metadata": {},
   "source": [
    "# 연이은 숫자들의 최대합"
   ]
  },
  {
   "cell_type": "markdown",
   "metadata": {},
   "source": [
    "숫자가 들어있는 리스트에서 k 길이만큼 연속된 숫자들의 최대합을 구하시오."
   ]
  },
  {
   "cell_type": "code",
   "execution_count": 1,
   "metadata": {},
   "outputs": [],
   "source": [
    "def consecutive_max_sum(num_list, k):\n",
    "    \n",
    "    # 초기화\n",
    "    temp = []\n",
    "    cur_sum = sum(num_list[:k]) # 첫 시작점은 이렇게 그냥 따로 계산해버림.\n",
    "    temp.append(cur_sum)\n",
    "    \n",
    "    # 그냥 모든 경우의 k 조합들을 일일이 sum해서 temp에 저장할 수도 있지만.. \n",
    "    # time complexity가 커지므로 다음과 같이 조금 더 효율성있는 전략을 택한다 (한 번 계산한 것은 또 다시 계산하지 않는다)\n",
    "    \n",
    "    if len(num_list) != k: # 이렇게 예외처리 잘해야 함.\n",
    "        \n",
    "        for i, _ in enumerate(num_list):\n",
    "            \n",
    "            if i==0:\n",
    "                continue\n",
    "            \n",
    "            cur_sum = cur_sum - num_list[i-1] + num_list[i+k-1] # 한 칸씩 전진하면서 이전의 첫 번째를 빼고, 현재를 더한다.\n",
    "            temp.append(cur_sum)\n",
    "            \n",
    "            if i==len(num_list)-k:\n",
    "                break\n",
    "                \n",
    "    return max(temp)    \n",
    "    "
   ]
  },
  {
   "cell_type": "code",
   "execution_count": 2,
   "metadata": {},
   "outputs": [
    {
     "data": {
      "text/plain": [
       "28"
      ]
     },
     "execution_count": 2,
     "metadata": {},
     "output_type": "execute_result"
    }
   ],
   "source": [
    "consecutive_max_sum([1,1,9,3,7,6,5,10], 4)"
   ]
  },
  {
   "cell_type": "code",
   "execution_count": 3,
   "metadata": {},
   "outputs": [
    {
     "data": {
      "text/plain": [
       "12"
      ]
     },
     "execution_count": 3,
     "metadata": {},
     "output_type": "execute_result"
    }
   ],
   "source": [
    "consecutive_max_sum([10,1,2,5,3,1,6,6], 2)"
   ]
  },
  {
   "cell_type": "code",
   "execution_count": 5,
   "metadata": {},
   "outputs": [
    {
     "data": {
      "text/plain": [
       "33"
      ]
     },
     "execution_count": 5,
     "metadata": {},
     "output_type": "execute_result"
    }
   ],
   "source": [
    "consecutive_max_sum([10,1,2,5,3,1,6,6,9,8,1,2,3,5,7,1,2,3,4,3,10,3,4,2,4,5,10,2,3,4,5,1,2,2,2,4,5,9,8,7,4], 5)"
   ]
  },
  {
   "cell_type": "code",
   "execution_count": null,
   "metadata": {},
   "outputs": [],
   "source": []
  }
 ],
 "metadata": {
  "kernelspec": {
   "display_name": "Python 3",
   "language": "python",
   "name": "python3"
  },
  "language_info": {
   "codemirror_mode": {
    "name": "ipython",
    "version": 3
   },
   "file_extension": ".py",
   "mimetype": "text/x-python",
   "name": "python",
   "nbconvert_exporter": "python",
   "pygments_lexer": "ipython3",
   "version": "3.6.5"
  }
 },
 "nbformat": 4,
 "nbformat_minor": 2
}
