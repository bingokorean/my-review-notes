{
 "cells": [
  {
   "cell_type": "markdown",
   "metadata": {},
   "source": [
    "# Python in codecademy"
   ]
  },
  {
   "cell_type": "markdown",
   "metadata": {},
   "source": [
    "## 1. Python Syntax\n",
    "\n",
    "1. IndentationError: expected an indented block<br>\n",
    "Properly indent the code with four spaces\n",
    "\n",
    "2. Escaping characters<br>\n",
    "'There\\'s a snake in my boot!'"
   ]
  },
  {
   "cell_type": "code",
   "execution_count": 9,
   "metadata": {
    "collapsed": false
   },
   "outputs": [
    {
     "name": "stdout",
     "output_type": "stream",
     "text": [
      "Y\n",
      "3.14\n",
      "pi is: 3.14\n"
     ]
    }
   ],
   "source": [
    "# A Single-Line Comment\n",
    "monty = True\n",
    "python = 1.234\n",
    "monty_python = python**2\n",
    "fifth_letter = \"MONTY\"[4]\n",
    "print(fifth_letter)\n",
    "pi = 3.14\n",
    "print(str(pi))\n",
    "print(\"pi is: %s\" % (str(pi)))"
   ]
  },
  {
   "cell_type": "markdown",
   "metadata": {},
   "source": [
    "## 2. String and Console Output\n",
    "\n",
    "1. String Concatenation<br>\n",
    "print \"Spam \"+\"and \"+\"eggs\"\n",
    "\n",
    "2. Explicit String Conversion<br>\n",
    "print \"The value of pi is around \" + str(3.14)\n",
    "\n",
    "3. String Formatting with % <br>\n",
    "print \"Let's not go to %s. 'Tis a silly %s.\" % (string_1, string_2)<br>\n",
    "Remember, we used the % operator to replace the %s placeholders with the variables in parentheses."
   ]
  },
  {
   "cell_type": "code",
   "execution_count": 13,
   "metadata": {
    "collapsed": false
   },
   "outputs": [
    {
     "name": "stdout",
     "output_type": "stream",
     "text": [
      "2017-01-08 14:54:48.229824\n",
      "2017\n",
      "1\n",
      "8\n",
      "2017/1/8\n",
      "14:54:48\n"
     ]
    }
   ],
   "source": [
    "from datetime import datetime\n",
    "now = datetime.now()\n",
    "print(now)\n",
    "print(now.year)\n",
    "print(now.month)\n",
    "print(now.day)\n",
    "print('%s/%s/%s' % (now.year, now.month, now.day))\n",
    "print('%s:%s:%s' % (now.hour, now.minute, now.second))"
   ]
  },
  {
   "cell_type": "markdown",
   "metadata": {},
   "source": [
    "## 3. Conditionals & Control Flow\n",
    "\n",
    "1. String Concatenation<br>\n",
    "print \"Spam \"+\"and \"+\"eggs\"\n",
    "\n",
    "2. Explicit String Conversion<br>\n",
    "print \"The value of pi is around \" + str(3.14)\n",
    "\n",
    "3. String Formatting with % <br>\n",
    "print \"Let's not go to %s. 'Tis a silly %s.\" % (string_1, string_2)<br>\n",
    "Remember, we used the % operator to replace the %s placeholders with the variables in parentheses.\n"
   ]
  },
  {
   "cell_type": "code",
   "execution_count": null,
   "metadata": {
    "collapsed": true
   },
   "outputs": [],
   "source": []
  },
  {
   "cell_type": "markdown",
   "metadata": {},
   "source": [
    "### Variable and Type (Object)"
   ]
  },
  {
   "cell_type": "code",
   "execution_count": 1,
   "metadata": {
    "collapsed": false
   },
   "outputs": [
    {
     "name": "stdout",
     "output_type": "stream",
     "text": [
      "<type 'int'>\n",
      "5764801000\n"
     ]
    }
   ],
   "source": [
    "savings = 7000\n",
    "year = 7\n",
    "bmi = savings * year ** 7\n",
    "print(type(year))\n",
    "print(bmi)"
   ]
  },
  {
   "cell_type": "code",
   "execution_count": 2,
   "metadata": {
    "collapsed": false
   },
   "outputs": [
    {
     "data": {
      "text/plain": [
       "str"
      ]
     },
     "execution_count": 2,
     "metadata": {},
     "output_type": "execute_result"
    }
   ],
   "source": [
    "x = \"hi\"\n",
    "type(x)"
   ]
  },
  {
   "cell_type": "code",
   "execution_count": 3,
   "metadata": {
    "collapsed": false
   },
   "outputs": [
    {
     "data": {
      "text/plain": [
       "bool"
      ]
     },
     "execution_count": 3,
     "metadata": {},
     "output_type": "execute_result"
    }
   ],
   "source": [
    "y = True\n",
    "type(y)"
   ]
  },
  {
   "cell_type": "code",
   "execution_count": 4,
   "metadata": {
    "collapsed": false,
    "scrolled": true
   },
   "outputs": [
    {
     "data": {
      "text/plain": [
       "'adbc'"
      ]
     },
     "execution_count": 4,
     "metadata": {},
     "output_type": "execute_result"
    }
   ],
   "source": [
    "'ad'+'bc'"
   ]
  },
  {
   "cell_type": "markdown",
   "metadata": {},
   "source": [
    "We can use add (+) only on the same types"
   ]
  },
  {
   "cell_type": "code",
   "execution_count": 5,
   "metadata": {
    "collapsed": false
   },
   "outputs": [
    {
     "name": "stdout",
     "output_type": "stream",
     "text": [
      "hi9999\n"
     ]
    }
   ],
   "source": [
    "money = 9999\n",
    "#print(\"hi\"+money)\n",
    "print(\"hi\" + str(money)) # for the same type"
   ]
  },
  {
   "cell_type": "markdown",
   "metadata": {},
   "source": [
    "### List"
   ]
  },
  {
   "cell_type": "markdown",
   "metadata": {},
   "source": [
    "A list can include all different types including list itself "
   ]
  },
  {
   "cell_type": "code",
   "execution_count": 6,
   "metadata": {
    "collapsed": true
   },
   "outputs": [],
   "source": [
    "li = [1.000, 2, \"hello\", True]"
   ]
  },
  {
   "cell_type": "code",
   "execution_count": 7,
   "metadata": {
    "collapsed": true
   },
   "outputs": [],
   "source": [
    "li2 = [[1, \"one\"], [2, \"two\"]]"
   ]
  },
  {
   "cell_type": "code",
   "execution_count": 8,
   "metadata": {
    "collapsed": false
   },
   "outputs": [
    {
     "name": "stdout",
     "output_type": "stream",
     "text": [
      "<type 'list'>\n",
      "<type 'list'>\n"
     ]
    }
   ],
   "source": [
    "print type(li)\n",
    "print type(li2)"
   ]
  },
  {
   "cell_type": "code",
   "execution_count": 9,
   "metadata": {
    "collapsed": false
   },
   "outputs": [
    {
     "name": "stdout",
     "output_type": "stream",
     "text": [
      "[3, 'aaaaa', 3]\n"
     ]
    }
   ],
   "source": [
    "li = [1+2, \"a\"*5, 3] # \"a\"*5 \n",
    "print(li)"
   ]
  },
  {
   "cell_type": "markdown",
   "metadata": {
    "collapsed": true
   },
   "source": [
    "Slicing and dicing"
   ]
  },
  {
   "cell_type": "code",
   "execution_count": 10,
   "metadata": {
    "collapsed": false
   },
   "outputs": [
    {
     "name": "stdout",
     "output_type": "stream",
     "text": [
      "[1, 2, 3] [1, 2, 3]\n"
     ]
    }
   ],
   "source": [
    "a = [1, 2, 3, 4, 5, 6, 7, 8, 9]\n",
    "print a[0:3], a[:3]"
   ]
  },
  {
   "cell_type": "markdown",
   "metadata": {},
   "source": [
    "Changing list elements"
   ]
  },
  {
   "cell_type": "code",
   "execution_count": 11,
   "metadata": {
    "collapsed": false
   },
   "outputs": [
    {
     "data": {
      "text/plain": [
       "['lisa', 1.74, 'emma', 1.68, 'dad', 1.89]"
      ]
     },
     "execution_count": 11,
     "metadata": {},
     "output_type": "execute_result"
    }
   ],
   "source": [
    "fam = [\"liz\", 1.73, \"emma\", 1.68, \"dad\", 1.89]\n",
    "fam[0:2] = [\"lisa\", 1.74] # both at once\n",
    "fam"
   ]
  },
  {
   "cell_type": "markdown",
   "metadata": {},
   "source": [
    "Adding elements"
   ]
  },
  {
   "cell_type": "code",
   "execution_count": 12,
   "metadata": {
    "collapsed": false
   },
   "outputs": [
    {
     "data": {
      "text/plain": [
       "['lisa', 1.74, 'emma', 1.68, 'dad', 1.89, 'me', 1.79]"
      ]
     },
     "execution_count": 12,
     "metadata": {},
     "output_type": "execute_result"
    }
   ],
   "source": [
    "fam_ext = fam + [\"me\", 1.79]\n",
    "fam_ext"
   ]
  },
  {
   "cell_type": "markdown",
   "metadata": {},
   "source": [
    "Delete elements from the list"
   ]
  },
  {
   "cell_type": "code",
   "execution_count": 13,
   "metadata": {
    "collapsed": false
   },
   "outputs": [
    {
     "data": {
      "text/plain": [
       "['lisa', 1.74, 1.68, 'dad', 1.89]"
      ]
     },
     "execution_count": 13,
     "metadata": {},
     "output_type": "execute_result"
    }
   ],
   "source": [
    "del(fam[2])\n",
    "fam"
   ]
  },
  {
   "cell_type": "markdown",
   "metadata": {},
   "source": [
    "Behind the scences"
   ]
  },
  {
   "cell_type": "code",
   "execution_count": 14,
   "metadata": {
    "collapsed": false
   },
   "outputs": [
    {
     "name": "stdout",
     "output_type": "stream",
     "text": [
      "y: ['a', 'z', 'c']\n",
      "x: ['a', 'z', 'c']\n"
     ]
    }
   ],
   "source": [
    "x = [\"a\", \"b\", \"c\"]\n",
    "y = x # Copy the reference, not the actual values themselves\n",
    "y[1] = \"z\"\n",
    "print \"y:\", y\n",
    "print \"x:\", x # x and y have the same reference of a list"
   ]
  },
  {
   "cell_type": "code",
   "execution_count": 15,
   "metadata": {
    "collapsed": false
   },
   "outputs": [
    {
     "name": "stdout",
     "output_type": "stream",
     "text": [
      "y: ['a', 'z', 'c']\n",
      "x: ['a', 'b', 'c']\n"
     ]
    }
   ],
   "source": [
    "x = [\"a\", \"b\", \"c\"]\n",
    "y = list(x)\n",
    "y = x[:] # or here\n",
    "y[1] = \"z\"\n",
    "print \"y:\", y\n",
    "print \"x:\", x"
   ]
  },
  {
   "cell_type": "markdown",
   "metadata": {},
   "source": [
    "### Function"
   ]
  },
  {
   "cell_type": "code",
   "execution_count": 16,
   "metadata": {
    "collapsed": false
   },
   "outputs": [
    {
     "name": "stdout",
     "output_type": "stream",
     "text": [
      "1.7\n",
      "2.0\n"
     ]
    }
   ],
   "source": [
    "print round(1.68, 1)\n",
    "print round(1.7)"
   ]
  },
  {
   "cell_type": "code",
   "execution_count": 17,
   "metadata": {
    "collapsed": false
   },
   "outputs": [
    {
     "name": "stdout",
     "output_type": "stream",
     "text": [
      "Help on built-in function round in module __builtin__:\n",
      "\n",
      "round(...)\n",
      "    round(number[, ndigits]) -> floating point number\n",
      "    \n",
      "    Round a number to a given precision in decimal digits (default 0 digits).\n",
      "    This always returns a floating point number.  Precision may be negative.\n",
      "\n"
     ]
    }
   ],
   "source": [
    "help(round)\n",
    "#?round"
   ]
  },
  {
   "cell_type": "markdown",
   "metadata": {
    "collapsed": true
   },
   "source": [
    "### Methods"
   ]
  },
  {
   "cell_type": "markdown",
   "metadata": {
    "collapsed": true
   },
   "source": [
    "All variables (everything) in python are made by object.<br>\n",
    "Object consists of str, float, list, and so on.<br>\n",
    "Object have methods associated, depending on type/ <br>\n",
    "\n",
    "Methods are functions that belong to objects.<br>\n",
    "Lists, floats, integers and booleans are types that come packaged with a bunch of useful methods."
   ]
  },
  {
   "cell_type": "code",
   "execution_count": 18,
   "metadata": {
    "collapsed": false
   },
   "outputs": [
    {
     "name": "stdout",
     "output_type": "stream",
     "text": [
      "2\n",
      "5\n"
     ]
    },
    {
     "data": {
      "text/plain": [
       "[7, 5, 5, 5, 5, 5, 4, 2, 1]"
      ]
     },
     "execution_count": 18,
     "metadata": {},
     "output_type": "execute_result"
    }
   ],
   "source": [
    "# list methods\n",
    "li = [1,2,3,4,5,5,5,5,5]\n",
    "print li.index(3)\n",
    "print li.count(5)\n",
    "li.append(7)\n",
    "li.remove(3)\n",
    "li.reverse()\n",
    "li"
   ]
  },
  {
   "cell_type": "code",
   "execution_count": 19,
   "metadata": {
    "collapsed": false
   },
   "outputs": [
    {
     "name": "stdout",
     "output_type": "stream",
     "text": [
      "Hello\n",
      "HELLO\n",
      "hellooooooooooooo\n",
      "2\n"
     ]
    }
   ],
   "source": [
    "# str methods\n",
    "string = 'hello'\n",
    "print string.capitalize()\n",
    "print string.upper()\n",
    "print string.replace('o','ooooooooooooo')\n",
    "print string.count(\"l\")"
   ]
  },
  {
   "cell_type": "markdown",
   "metadata": {
    "collapsed": true
   },
   "source": [
    "### Packages"
   ]
  },
  {
   "cell_type": "markdown",
   "metadata": {},
   "source": [
    "Functions and methods are poweful. But there are huge code in python. We will not use all of them and we have maintenance problem. That is why packages are coming. <br>\n",
    "\n",
    "Packages.\n",
    "* Directory of Python Scripts\n",
    "* Each script = module\n",
    "* The module specifies functions, methods and types\n",
    "* Thousands of packages available \n",
    "  - Numpy, Matplotlib, Sciki-learn\n"
   ]
  },
  {
   "cell_type": "code",
   "execution_count": 20,
   "metadata": {
    "collapsed": false
   },
   "outputs": [
    {
     "ename": "NameError",
     "evalue": "name 'array' is not defined",
     "output_type": "error",
     "traceback": [
      "\u001b[0;31m---------------------------------------------------------------------------\u001b[0m",
      "\u001b[0;31mNameError\u001b[0m                                 Traceback (most recent call last)",
      "\u001b[0;32m<ipython-input-20-20f729fdc61f>\u001b[0m in \u001b[0;36m<module>\u001b[0;34m()\u001b[0m\n\u001b[1;32m      1\u001b[0m \u001b[1;32mimport\u001b[0m \u001b[0mnumpy\u001b[0m\u001b[1;33m\u001b[0m\u001b[0m\n\u001b[0;32m----> 2\u001b[0;31m \u001b[0marray\u001b[0m\u001b[1;33m(\u001b[0m\u001b[1;33m[\u001b[0m\u001b[1;36m1\u001b[0m\u001b[1;33m,\u001b[0m \u001b[1;36m2\u001b[0m\u001b[1;33m,\u001b[0m \u001b[1;36m3\u001b[0m\u001b[1;33m]\u001b[0m\u001b[1;33m)\u001b[0m\u001b[1;33m\u001b[0m\u001b[0m\n\u001b[0m",
      "\u001b[0;31mNameError\u001b[0m: name 'array' is not defined"
     ]
    }
   ],
   "source": [
    "import numpy\n",
    "array([1, 2, 3])"
   ]
  },
  {
   "cell_type": "code",
   "execution_count": null,
   "metadata": {
    "collapsed": false
   },
   "outputs": [],
   "source": [
    "numpy.array([1, 2, 3])"
   ]
  },
  {
   "cell_type": "code",
   "execution_count": null,
   "metadata": {
    "collapsed": false
   },
   "outputs": [],
   "source": [
    "import numpy as np\n",
    "np.array([1, 2, 3])"
   ]
  },
  {
   "cell_type": "code",
   "execution_count": null,
   "metadata": {
    "collapsed": false
   },
   "outputs": [],
   "source": [
    "from numpy import array # selective import\n",
    "array([1, 2, 3])"
   ]
  },
  {
   "cell_type": "markdown",
   "metadata": {
    "collapsed": true
   },
   "source": [
    "from numpy import array is sometimes confusing when code is big. (Using Numpy, but not very clear). So, it is recommended to use import numpy as np in big code or if you want to show other people."
   ]
  },
  {
   "cell_type": "markdown",
   "metadata": {
    "collapsed": true
   },
   "source": [
    "However,\n",
    "General imports, like import math, make all functionality from the math package available to you. However, if you decide to only use a specific part of a package, you can always make your import more selective."
   ]
  },
  {
   "cell_type": "markdown",
   "metadata": {},
   "source": [
    "# Numpy"
   ]
  },
  {
   "cell_type": "markdown",
   "metadata": {},
   "source": [
    "List Recap\n",
    "* Powerful\n",
    "* Collection of values\n",
    "* Hold different types\n",
    "* Change, add, remove\n",
    "\n",
    "However, to analyze data, we often want to carry out operations over the entire collection values and we want to do fast. (Basic list of python can't do this)"
   ]
  },
  {
   "cell_type": "code",
   "execution_count": 21,
   "metadata": {
    "collapsed": false
   },
   "outputs": [
    {
     "ename": "TypeError",
     "evalue": "unsupported operand type(s) for ** or pow(): 'list' and 'int'",
     "output_type": "error",
     "traceback": [
      "\u001b[0;31m---------------------------------------------------------------------------\u001b[0m",
      "\u001b[0;31mTypeError\u001b[0m                                 Traceback (most recent call last)",
      "\u001b[0;32m<ipython-input-21-1a1d15806439>\u001b[0m in \u001b[0;36m<module>\u001b[0;34m()\u001b[0m\n\u001b[1;32m      1\u001b[0m \u001b[0mheight\u001b[0m \u001b[1;33m=\u001b[0m \u001b[1;33m[\u001b[0m\u001b[1;36m1.73\u001b[0m\u001b[1;33m,\u001b[0m \u001b[1;36m1.68\u001b[0m\u001b[1;33m,\u001b[0m \u001b[1;36m1.71\u001b[0m\u001b[1;33m,\u001b[0m \u001b[1;36m1.89\u001b[0m\u001b[1;33m,\u001b[0m \u001b[1;36m1.79\u001b[0m\u001b[1;33m]\u001b[0m\u001b[1;33m\u001b[0m\u001b[0m\n\u001b[1;32m      2\u001b[0m \u001b[0mweight\u001b[0m \u001b[1;33m=\u001b[0m \u001b[1;33m[\u001b[0m\u001b[1;36m65.4\u001b[0m\u001b[1;33m,\u001b[0m \u001b[1;36m59.2\u001b[0m\u001b[1;33m,\u001b[0m \u001b[1;36m63.6\u001b[0m\u001b[1;33m,\u001b[0m \u001b[1;36m88.4\u001b[0m\u001b[1;33m,\u001b[0m \u001b[1;36m68.7\u001b[0m\u001b[1;33m]\u001b[0m\u001b[1;33m\u001b[0m\u001b[0m\n\u001b[0;32m----> 3\u001b[0;31m \u001b[0mbmi\u001b[0m \u001b[1;33m=\u001b[0m \u001b[0mweight\u001b[0m \u001b[1;33m/\u001b[0m \u001b[0mheight\u001b[0m \u001b[1;33m**\u001b[0m \u001b[1;36m2\u001b[0m \u001b[1;31m# they don't know how to calculate list\u001b[0m\u001b[1;33m\u001b[0m\u001b[0m\n\u001b[0m",
      "\u001b[0;31mTypeError\u001b[0m: unsupported operand type(s) for ** or pow(): 'list' and 'int'"
     ]
    }
   ],
   "source": [
    "height = [1.73, 1.68, 1.71, 1.89, 1.79]\n",
    "weight = [65.4, 59.2, 63.6, 88.4, 68.7]\n",
    "bmi = weight / height ** 2 # they don't know how to calculate list"
   ]
  },
  {
   "cell_type": "markdown",
   "metadata": {},
   "source": [
    "Solution: Numpy\n",
    "* Numerical Python\n",
    "* Alternative to Python List: Numpy Array\n",
    "* Calculations over entire arrays\n",
    "* Easy and fast\n"
   ]
  },
  {
   "cell_type": "code",
   "execution_count": 22,
   "metadata": {
    "collapsed": false
   },
   "outputs": [
    {
     "data": {
      "text/plain": [
       "array([ 21.85171573,  20.97505669,  21.75028214,  24.7473475 ,  21.44127836])"
      ]
     },
     "execution_count": 22,
     "metadata": {},
     "output_type": "execute_result"
    }
   ],
   "source": [
    "import numpy as np\n",
    "\n",
    "height = [1.73, 1.68, 1.71, 1.89, 1.79]\n",
    "np_height = np.array(height)\n",
    "\n",
    "weight = [65.4, 59.2, 63.6, 88.4, 68.7]\n",
    "np_weight = np.array(weight)\n",
    "\n",
    "bmi = np_weight / np_height ** 2\n",
    "bmi"
   ]
  },
  {
   "cell_type": "markdown",
   "metadata": {},
   "source": [
    "### Numpy: remarks\n",
    "\n",
    "* Numpy arrays contain only one type\n",
    "* When adding, distinguish between python_list and numpy_array"
   ]
  },
  {
   "cell_type": "code",
   "execution_count": 23,
   "metadata": {
    "collapsed": true
   },
   "outputs": [],
   "source": [
    "python_list = [1, 2, 3]\n",
    "numpy_array = np.array([1, 2, 3])"
   ]
  },
  {
   "cell_type": "code",
   "execution_count": 24,
   "metadata": {
    "collapsed": false
   },
   "outputs": [
    {
     "data": {
      "text/plain": [
       "[1, 2, 3, 1, 2, 3]"
      ]
     },
     "execution_count": 24,
     "metadata": {},
     "output_type": "execute_result"
    }
   ],
   "source": [
    "python_list + python_list # Concatenate"
   ]
  },
  {
   "cell_type": "code",
   "execution_count": 25,
   "metadata": {
    "collapsed": false
   },
   "outputs": [
    {
     "data": {
      "text/plain": [
       "array([2, 4, 6])"
      ]
     },
     "execution_count": 25,
     "metadata": {},
     "output_type": "execute_result"
    }
   ],
   "source": [
    "numpy_array + numpy_array # Calculation of add"
   ]
  },
  {
   "cell_type": "markdown",
   "metadata": {},
   "source": [
    "### Numpy Subsetting"
   ]
  },
  {
   "cell_type": "code",
   "execution_count": 26,
   "metadata": {
    "collapsed": false
   },
   "outputs": [
    {
     "data": {
      "text/plain": [
       "array([ 21.85171573,  20.97505669,  21.75028214,  24.7473475 ,  21.44127836])"
      ]
     },
     "execution_count": 26,
     "metadata": {},
     "output_type": "execute_result"
    }
   ],
   "source": [
    "bmi"
   ]
  },
  {
   "cell_type": "code",
   "execution_count": 27,
   "metadata": {
    "collapsed": false
   },
   "outputs": [
    {
     "data": {
      "text/plain": [
       "20.975056689342409"
      ]
     },
     "execution_count": 27,
     "metadata": {},
     "output_type": "execute_result"
    }
   ],
   "source": [
    "bmi[1]"
   ]
  },
  {
   "cell_type": "code",
   "execution_count": 28,
   "metadata": {
    "collapsed": false
   },
   "outputs": [
    {
     "data": {
      "text/plain": [
       "array([False, False, False,  True, False], dtype=bool)"
      ]
     },
     "execution_count": 28,
     "metadata": {},
     "output_type": "execute_result"
    }
   ],
   "source": [
    "bmi > 23 "
   ]
  },
  {
   "cell_type": "code",
   "execution_count": 29,
   "metadata": {
    "collapsed": false
   },
   "outputs": [
    {
     "data": {
      "text/plain": [
       "array([ 24.7473475])"
      ]
     },
     "execution_count": 29,
     "metadata": {},
     "output_type": "execute_result"
    }
   ],
   "source": [
    "# Numpy Subsetting\n",
    "bmi[bmi > 23]"
   ]
  },
  {
   "cell_type": "markdown",
   "metadata": {},
   "source": [
    "## 2D Numpy Arrays"
   ]
  },
  {
   "cell_type": "markdown",
   "metadata": {},
   "source": [
    "ndarray type: N-dimenstional array"
   ]
  },
  {
   "cell_type": "code",
   "execution_count": 30,
   "metadata": {
    "collapsed": true
   },
   "outputs": [],
   "source": [
    "np_2d = np.array([[1.0,2.0,3.0],[4.0,5.0,6.0]])"
   ]
  },
  {
   "cell_type": "code",
   "execution_count": 31,
   "metadata": {
    "collapsed": false
   },
   "outputs": [
    {
     "data": {
      "text/plain": [
       "(2L, 3L)"
      ]
     },
     "execution_count": 31,
     "metadata": {},
     "output_type": "execute_result"
    }
   ],
   "source": [
    "np_2d.shape"
   ]
  },
  {
   "cell_type": "code",
   "execution_count": 32,
   "metadata": {
    "collapsed": false
   },
   "outputs": [
    {
     "name": "stdout",
     "output_type": "stream",
     "text": [
      "[ 1.  2.  3.]\n",
      "2.0\n",
      "2.0\n",
      "[[ 2.]\n",
      " [ 5.]]\n"
     ]
    }
   ],
   "source": [
    "print np_2d[0]\n",
    "print np_2d[0][1]\n",
    "print np_2d[0, 1]\n",
    "print np_2d[:, 1:2]"
   ]
  },
  {
   "cell_type": "markdown",
   "metadata": {},
   "source": [
    "## Numpy: Basic Statistics"
   ]
  },
  {
   "cell_type": "markdown",
   "metadata": {},
   "source": [
    "Numpy also has basic functions like sum(), sort(), ... which are also included in basic python. <br>\n",
    "However, the big difference is speed! (Enforce single data type!)\n",
    "\n"
   ]
  },
  {
   "cell_type": "code",
   "execution_count": 33,
   "metadata": {
    "collapsed": true
   },
   "outputs": [],
   "source": [
    "# Generate data\n",
    "height = np.round(np.random.normal(1.75, 0.20, 5000), 2) # distr mean, distr std, # of sample\n",
    "weight = np.round(np.random.normal(60.32, 15, 5000), 2)\n",
    "np_city = np.column_stack((height, weight))"
   ]
  },
  {
   "cell_type": "code",
   "execution_count": 34,
   "metadata": {
    "collapsed": false
   },
   "outputs": [
    {
     "name": "stdout",
     "output_type": "stream",
     "text": [
      "1.74826\n",
      "1.75\n",
      "[[ 1.          0.02466371]\n",
      " [ 0.02466371  1.        ]]\n",
      "0.200756101775\n"
     ]
    }
   ],
   "source": [
    "print np.mean(np_city[:,0])\n",
    "print np.median(np_city[:,0])\n",
    "print np.corrcoef(np_city[:,0], np_city[:,1])\n",
    "print np.std(np_city[:,0])"
   ]
  },
  {
   "cell_type": "code",
   "execution_count": null,
   "metadata": {
    "collapsed": true
   },
   "outputs": [],
   "source": []
  }
 ],
 "metadata": {
  "anaconda-cloud": {},
  "kernelspec": {
   "display_name": "Python [conda root]",
   "language": "python",
   "name": "conda-root-py"
  },
  "language_info": {
   "codemirror_mode": {
    "name": "ipython",
    "version": 3
   },
   "file_extension": ".py",
   "mimetype": "text/x-python",
   "name": "python",
   "nbconvert_exporter": "python",
   "pygments_lexer": "ipython3",
   "version": "3.5.2"
  }
 },
 "nbformat": 4,
 "nbformat_minor": 1
}
