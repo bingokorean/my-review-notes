{
 "cells": [
  {
   "cell_type": "markdown",
   "metadata": {},
   "source": [
    "## Motivation for disctionaries"
   ]
  },
  {
   "cell_type": "markdown",
   "metadata": {},
   "source": [
    "list와 대조적으로 봐서 dictionary의 장점을 살펴보면 된다.  <br>\n",
    "list와 dictionary는 모두 여러개의 object들을 sequential하게 array형태로 저장할 수 있는 변수이다. <br>\n",
    "그런데, list는 각각의 object들을 sequential한 index로 구분할 수 있고, <br>\n",
    "반면, dictionary는 각각의 object들을 naming으로 구분할 수 있다.\n",
    "   - array에서 특정 element를 불러올 때, dict를 사용하면, naming으로 indexing하기 때문에 가독성이 높아진다."
   ]
  },
  {
   "cell_type": "code",
   "execution_count": 6,
   "metadata": {
    "collapsed": false
   },
   "outputs": [
    {
     "name": "stdout",
     "output_type": "stream",
     "text": [
      "1\n",
      "2.77\n",
      "2.77\n"
     ]
    }
   ],
   "source": [
    "pop = [30.55, 2.77, 39.21]\n",
    "countries = [\"korea\", \"german\", \"mongol\"]\n",
    "# How to combine two list?\n",
    "\n",
    "# 1 Method\n",
    "ind_ger = countries.index(\"german\")\n",
    "print(ind_ger)\n",
    "print(pop[ind_ger])\n",
    "# This is not convenient, and not intuitive\n",
    "\n",
    "# 2 Method : using Dictionary\n",
    "# without using index, we want to combine them\n",
    "# dictionary is coming\n",
    "world = {\"korea\":30.55, \"german\":2.77, \"mongol\":39.21}\n",
    "print(world[\"german\"])"
   ]
  },
  {
   "cell_type": "markdown",
   "metadata": {},
   "source": [
    "흥미롭게도, 다음과 같이 key를 sequential한 숫자로 정의하면 list와 똑같이 된다."
   ]
  },
  {
   "cell_type": "code",
   "execution_count": 2,
   "metadata": {
    "collapsed": false
   },
   "outputs": [],
   "source": [
    "ann_info = {0: '/component/', 1: '/refinement of component/', 2: '/action/', 3: '/refinement of action/',\n",
    "            4: '/condition/', 5: '/priority/', 6: '/motivation/', 7: '/role/', 8: '/object/', 9: '/refinement of object/',\n",
    "            10: '/sub action/', 11: '/sub argument of action/', 12: '/sub priority/', 13: '/sub role/', 14: '/sub object/',\n",
    "            15: '/sub refinement of object/'\n",
    "            }"
   ]
  },
  {
   "cell_type": "code",
   "execution_count": 3,
   "metadata": {
    "collapsed": false
   },
   "outputs": [
    {
     "data": {
      "text/plain": [
       "'/sub action/'"
      ]
     },
     "execution_count": 3,
     "metadata": {},
     "output_type": "execute_result"
    }
   ],
   "source": [
    "ann_info[10]"
   ]
  },
  {
   "cell_type": "markdown",
   "metadata": {},
   "source": [
    "## What is the dictionaries"
   ]
  },
  {
   "cell_type": "markdown",
   "metadata": {},
   "source": [
    "Dictionary is very efficient in python. Even though it is very big, python can process fast.\n",
    "\n",
    "* dict_name[ key ]\n",
    "* result: value"
   ]
  },
  {
   "cell_type": "code",
   "execution_count": 7,
   "metadata": {
    "collapsed": true
   },
   "outputs": [],
   "source": [
    "world = {\"korea\":30.55, \"german\":2.77, \"german\":0.77, \"mongol\":39.21}"
   ]
  },
  {
   "cell_type": "code",
   "execution_count": 8,
   "metadata": {
    "collapsed": false
   },
   "outputs": [
    {
     "data": {
      "text/plain": [
       "{'german': 0.77, 'korea': 30.55, 'mongol': 39.21}"
      ]
     },
     "execution_count": 8,
     "metadata": {},
     "output_type": "execute_result"
    }
   ],
   "source": [
    "world # if duplicates, last one will win"
   ]
  },
  {
   "cell_type": "markdown",
   "metadata": {},
   "source": [
    "Keys have to be \"immutable\" objects (e.g., strings, booleans, integers, and floats). On the other hand, lists is \"mutable\" object because you can change the content after it created."
   ]
  },
  {
   "cell_type": "code",
   "execution_count": 9,
   "metadata": {
    "collapsed": true
   },
   "outputs": [],
   "source": [
    "dic = {0:\"Hello\", True:\"Hi\", \"two\":\"world\"}"
   ]
  },
  {
   "cell_type": "code",
   "execution_count": 10,
   "metadata": {
    "collapsed": false
   },
   "outputs": [
    {
     "ename": "TypeError",
     "evalue": "unhashable type: 'list'",
     "output_type": "error",
     "traceback": [
      "\u001b[0;31m---------------------------------------------------------------------------\u001b[0m",
      "\u001b[0;31mTypeError\u001b[0m                                 Traceback (most recent call last)",
      "\u001b[0;32m<ipython-input-10-8463fc8d283c>\u001b[0m in \u001b[0;36m<module>\u001b[0;34m()\u001b[0m\n\u001b[0;32m----> 1\u001b[0;31m \u001b[0mdic\u001b[0m \u001b[1;33m=\u001b[0m \u001b[1;33m{\u001b[0m\u001b[1;33m[\u001b[0m\u001b[1;34m'just'\u001b[0m\u001b[1;33m,\u001b[0m\u001b[1;34m'do'\u001b[0m\u001b[1;33m,\u001b[0m\u001b[1;34m'it'\u001b[0m\u001b[1;33m]\u001b[0m\u001b[1;33m:\u001b[0m \u001b[1;34m\"value\"\u001b[0m\u001b[1;33m}\u001b[0m\u001b[1;33m\u001b[0m\u001b[0m\n\u001b[0m",
      "\u001b[0;31mTypeError\u001b[0m: unhashable type: 'list'"
     ]
    }
   ],
   "source": [
    "dic = {['just','do','it']: \"value\"} # error because of list"
   ]
  },
  {
   "cell_type": "code",
   "execution_count": 12,
   "metadata": {
    "collapsed": false
   },
   "outputs": [
    {
     "name": "stdout",
     "output_type": "stream",
     "text": [
      "{'korea': 30.55, 'german': 0.77, 'sealand': 2.7e-05, 'mongol': 39.21}\n",
      "True\n"
     ]
    }
   ],
   "source": [
    "# Add data to dictionary\n",
    "world[\"sealand\"] = 0.000027\n",
    "print(world)\n",
    "print(\"sealand\" in world)"
   ]
  },
  {
   "cell_type": "code",
   "execution_count": 26,
   "metadata": {
    "collapsed": false
   },
   "outputs": [
    {
     "data": {
      "text/plain": [
       "{'german': 0.77, 'korea': 30.55, 'mongol': 39.21, 'sealand': 2.8e-05}"
      ]
     },
     "execution_count": 26,
     "metadata": {},
     "output_type": "execute_result"
    }
   ],
   "source": [
    "# Update data in the dictionary\n",
    "world[\"sealand\"] = 0.000028\n",
    "world"
   ]
  },
  {
   "cell_type": "code",
   "execution_count": 27,
   "metadata": {
    "collapsed": false
   },
   "outputs": [
    {
     "data": {
      "text/plain": [
       "{'german': 0.77, 'korea': 30.55, 'mongol': 39.21}"
      ]
     },
     "execution_count": 27,
     "metadata": {},
     "output_type": "execute_result"
    }
   ],
   "source": [
    "# Remove\n",
    "del(world[\"sealand\"])\n",
    "world"
   ]
  },
  {
   "cell_type": "markdown",
   "metadata": {},
   "source": [
    "## List vs. Dictionary"
   ]
  },
  {
   "cell_type": "markdown",
   "metadata": {},
   "source": [
    "List:\n",
    "   * Select, update, and remove operations, by using [ ]\n",
    "   * Indexed by range of numbers\n",
    "   * Collection of values order matters select entire subsets\n",
    "   \n",
    "Dictionary\n",
    "   * Select, update, and remove operations, by using [ ]\n",
    "   * Indexed by unique keys (=immutable objects)\n",
    "   * Lookup table with unique keys"
   ]
  },
  {
   "cell_type": "code",
   "execution_count": null,
   "metadata": {
    "collapsed": true
   },
   "outputs": [],
   "source": [
    "# Definition of dictionary\n",
    "europe = {'spain':'madrid', 'france':'paris', 'germany':'berlin', 'norway':'oslo' }\n",
    "\n",
    "# Add italy to europe\n",
    "europe['italy'] = 'rome'\n",
    "\n",
    "# Print out italy in europe\n",
    "print('italy' in europe)\n",
    "\n",
    "# Add poland to europe\n",
    "europe['poland'] = 'warsaw'\n",
    "\n",
    "# Print europe\n",
    "print(europe)"
   ]
  },
  {
   "cell_type": "markdown",
   "metadata": {
    "collapsed": true
   },
   "source": [
    "## Dictionariception\n",
    "Remember lists? They could contain anything, even other lists. Well, for dictionaries the same holds. Dictionaries can contain key:value pairs where the values are again dictionaries."
   ]
  },
  {
   "cell_type": "code",
   "execution_count": 1,
   "metadata": {
    "collapsed": false
   },
   "outputs": [
    {
     "ename": "NameError",
     "evalue": "name 'data' is not defined",
     "output_type": "error",
     "traceback": [
      "\u001b[0;31m---------------------------------------------------------------------------\u001b[0m",
      "\u001b[0;31mNameError\u001b[0m                                 Traceback (most recent call last)",
      "\u001b[0;32m<ipython-input-1-9f01fdfacf98>\u001b[0m in \u001b[0;36m<module>\u001b[0;34m()\u001b[0m\n\u001b[0;32m----> 1\u001b[0;31m \u001b[0mdata\u001b[0m\u001b[1;33m[\u001b[0m\u001b[1;34m'capital'\u001b[0m\u001b[1;33m]\u001b[0m \u001b[1;33m=\u001b[0m \u001b[1;34m'rome'\u001b[0m\u001b[1;33m\u001b[0m\u001b[0m\n\u001b[0m\u001b[1;32m      2\u001b[0m \u001b[0mdata\u001b[0m\u001b[1;33m[\u001b[0m\u001b[1;34m'population'\u001b[0m\u001b[1;33m]\u001b[0m \u001b[1;33m=\u001b[0m \u001b[1;36m59.83\u001b[0m\u001b[1;33m\u001b[0m\u001b[0m\n",
      "\u001b[0;31mNameError\u001b[0m: name 'data' is not defined"
     ]
    }
   ],
   "source": [
    "data['capital'] = 'rome'\n",
    "data['population'] = 59.83"
   ]
  },
  {
   "cell_type": "code",
   "execution_count": null,
   "metadata": {
    "collapsed": true
   },
   "outputs": [],
   "source": []
  },
  {
   "cell_type": "code",
   "execution_count": null,
   "metadata": {
    "collapsed": true
   },
   "outputs": [],
   "source": []
  },
  {
   "cell_type": "code",
   "execution_count": null,
   "metadata": {
    "collapsed": true
   },
   "outputs": [],
   "source": []
  }
 ],
 "metadata": {
  "anaconda-cloud": {},
  "kernelspec": {
   "display_name": "Python [conda root]",
   "language": "python",
   "name": "conda-root-py"
  },
  "language_info": {
   "codemirror_mode": {
    "name": "ipython",
    "version": 3
   },
   "file_extension": ".py",
   "mimetype": "text/x-python",
   "name": "python",
   "nbconvert_exporter": "python",
   "pygments_lexer": "ipython3",
   "version": "3.5.2"
  }
 },
 "nbformat": 4,
 "nbformat_minor": 2
}
