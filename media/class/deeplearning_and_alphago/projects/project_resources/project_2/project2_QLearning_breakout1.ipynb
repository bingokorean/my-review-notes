{
 "cells": [
  {
   "cell_type": "markdown",
   "metadata": {},
   "source": [
    "# QLearning_breakout1"
   ]
  },
  {
   "cell_type": "markdown",
   "metadata": {},
   "source": [
    "We train an agent to play a simple version of Breakout. There are 25 bricks in 5 rows and 5 columns. At each time, the agent can take one of 5 actions to remove the bottom brick in one of 5 columns. Unlike the original Breakout, there is no ball and thus you don't need to worry about losing a ball. A reward of 1 is given for removing a brick.\n",
    "![](./image/environment1.png)\n",
    "Figure. Example of state transition in environment 1. <br>\n",
    "In environment 1, if any one of 5 columns is cleared, then all the remaining bricks are removed and you get a reward equal to the number of removed bricks. Therefore, an optimal policy for this environment is to clear any one of 5 columns. "
   ]
  },
  {
   "cell_type": "code",
   "execution_count": 1,
   "metadata": {
    "collapsed": true
   },
   "outputs": [],
   "source": [
    "# EE488C Special Topics in EE <Deep Learning and AlphaGo>, Fall 2016\n",
    "# Information Theory & Machine Learning Lab, School of EE, KAIST\n",
    "# Wonseok Jeon and Sungik Choi (wonsjeon@kaist.ac.kr, si_choi@kaist.ac.kr)\n",
    "# written on 2016/11/23\n",
    "\n",
    "import numpy as np\n",
    "import time\n",
    "import os\n",
    "import matplotlib.pyplot as plt\n",
    "from project2_environment import environment1 as environment\n",
    "from project2_state_representation import scalar_state"
   ]
  },
  {
   "cell_type": "markdown",
   "metadata": {},
   "source": [
    "* It performs Q-learning to train an agent to play Breakout environment#1.\n",
    "* Epsilon-greedy exploration is used, where the value of epsilon is set to 1 for the first episode and then decreased linearly to 0 for the last episode.\n",
    "* The number of episodes is set to 10,000. For the i-th episode, 'num_trials[i]' is set to the number of actions taken during the episode. \n",
    "* "
   ]
  },
  {
   "cell_type": "code",
   "execution_count": null,
   "metadata": {
    "collapsed": true
   },
   "outputs": [],
   "source": [
    "# First, set the parameters\n",
    "num_rows = 5\n",
    "num_columns = 5\n",
    "num_states = 6**5\n",
    "num_actions = 5\n",
    "num_episodes = 10000\n",
    "alpha = 0.1\n",
    "gamma = 0.9\n",
    "Q = np.zeros([num_states, num_actions])\n",
    "num_trials = np.zeros([num_episodes])"
   ]
  },
  {
   "cell_type": "markdown",
   "metadata": {},
   "source": [
    "At the end of training, it will show the number of actions taken for the last episode, i.e., ‘num_trials[n_episodes-1]’. Since 𝜖𝜖=0 for the last episode, it measures the performance of the learned agent without any random exploration. If training is done well, the number of actions taken for the last episode should be 5. Due to randomness, i.e., random explorations during training, this may be higher than 5 sometimes. In that case, try to run the code again until you get 5."
   ]
  },
  {
   "cell_type": "code",
   "execution_count": 2,
   "metadata": {
    "collapsed": false
   },
   "outputs": [
    {
     "name": "stdout",
     "output_type": "stream",
     "text": [
      "Number of time steps at the end of training:  5.0\n"
     ]
    },
    {
     "data": {
      "image/png": "[encoded data removed]",
      "text/plain": [
       "<matplotlib.figure.Figure at 0x2d59f60>"
      ]
     },
     "metadata": {},
     "output_type": "display_data"
    }
   ],
   "source": [
    "for i_episode in range(num_episodes):\n",
    "    S = [5, 5, 5, 5, 5]; Ss = scalar_state(S)\n",
    "    epsilon = 1.0 - float(i_episode) / float(num_episodes - 1) # decreased linearly from 1 to 0\n",
    "    for epoch in range(10000):\n",
    "        if np.random.random() < epsilon:  # random exploration with prob. epsilon\n",
    "            A = int(np.random.randint(0, 5))\n",
    "        else:  # greedy action with random tie break\n",
    "            maxQ = np.max(Q[Ss]) \n",
    "            A = int(np.random.choice(np.argwhere(Q[Ss] == maxQ).flatten()))\n",
    "        R, Sn, T = environment(S, A)  # Observe the outputs of the state transition\n",
    "        Q[Ss, A] = (1 - alpha) * Q[Ss, A] + alpha * (\n",
    "            R + gamma * np.max(Q[scalar_state(Sn)]))  # Perform Q learning\n",
    "        if T == 1:  # If terminal state\n",
    "            num_trials[i_episode] = epoch + 1\n",
    "            break\n",
    "        S = Sn\n",
    "\n",
    "# Print the number of trials\n",
    "print \"Number of time steps at the end of training: \", num_trials[num_episodes - 1]\n",
    "# Plot the average number of time steps \n",
    "# Each data point is an average over (num_episodes / 100) episodes\n",
    "Xaxis = np.linspace(1, 100, 100, endpoint = True)\n",
    "C = np.mean(np.reshape(num_trials, [100, num_episodes / 100]), axis = 1)\n",
    "plt.plot(Xaxis, C, '.')\n",
    "plt.show()"
   ]
  },
  {
   "cell_type": "markdown",
   "metadata": {},
   "source": [
    "It also shows a plot of how the number of actions changes over training episodes. Each data point in the plot shows an average of ‘num_trials’ over (num_episodes/ 100) episodes. In Fig. 6 below, we show an example of the plot."
   ]
  },
  {
   "cell_type": "code",
   "execution_count": null,
   "metadata": {
    "collapsed": true
   },
   "outputs": [],
   "source": []
  }
 ],
 "metadata": {
  "kernelspec": {
   "display_name": "Python [conda root]",
   "language": "python",
   "name": "conda-root-py"
  },
  "language_info": {
   "codemirror_mode": {
    "name": "ipython",
    "version": 2
   },
   "file_extension": ".py",
   "mimetype": "text/x-python",
   "name": "python",
   "nbconvert_exporter": "python",
   "pygments_lexer": "ipython2",
   "version": "2.7.12"
  }
 },
 "nbformat": 4,
 "nbformat_minor": 1
}
