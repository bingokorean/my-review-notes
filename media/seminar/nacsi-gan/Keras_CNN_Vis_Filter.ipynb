{
 "cells": [
  {
   "cell_type": "code",
   "execution_count": 1,
   "metadata": {},
   "outputs": [
    {
     "name": "stderr",
     "output_type": "stream",
     "text": [
      "Using Theano backend.\n",
      "Using cuDNN version 5103 on context None\n",
      "Mapped name None to device cuda: Graphics Device (0000:07:00.0)\n"
     ]
    }
   ],
   "source": [
    "from keras.models import Model\n",
    "from keras.layers import Input, Convolution2D, ZeroPadding2D, MaxPooling2D\n",
    "import h5py\n",
    "import numpy as np\n",
    "from scipy.misc import imsave\n",
    "from keras import backend as K\n",
    "\n",
    "img_width, img_height = 128, 128"
   ]
  },
  {
   "cell_type": "code",
   "execution_count": 2,
   "metadata": {
    "collapsed": true
   },
   "outputs": [],
   "source": [
    "# build the VGG16 network\n",
    "input_img = Input(shape=(3, img_width, img_height))\n",
    "layers = ZeroPadding2D((1, 1))(input_img)\n",
    "layers = Convolution2D(64, (3, 3), activation='relu', name='conv1_1')(layers)\n",
    "layers = ZeroPadding2D((1, 1))(layers)\n",
    "layers = Convolution2D(64, (3, 3), activation='relu', name='conv1_2')(layers)\n",
    "layers = MaxPooling2D((2, 2), strides=(2, 2))(layers)\n",
    "\n",
    "layers = ZeroPadding2D((1, 1))(layers)\n",
    "layers = Convolution2D(128, (3, 3), activation='relu', name='conv2_1')(layers)\n",
    "layers = ZeroPadding2D((1, 1))(layers)\n",
    "layers = Convolution2D(128, (3, 3), activation='relu', name='conv2_2')(layers)\n",
    "layers = MaxPooling2D((2, 2), strides=(2, 2))(layers)\n",
    "\n",
    "layers = ZeroPadding2D((1, 1))(layers)\n",
    "layers = Convolution2D(256, (3, 3), activation='relu', name='conv3_1')(layers)\n",
    "layers = ZeroPadding2D((1, 1))(layers)\n",
    "layers = Convolution2D(256, (3, 3), activation='relu', name='conv3_2')(layers)\n",
    "layers = ZeroPadding2D((1, 1))(layers)\n",
    "layers = Convolution2D(256, (3, 3), activation='relu', name='conv3_3')(layers)\n",
    "layers = MaxPooling2D((2, 2), strides=(2, 2))(layers)\n",
    "\n",
    "layers = ZeroPadding2D((1, 1))(layers)\n",
    "layers = Convolution2D(512, (3, 3), activation='relu', name='conv4_1')(layers)\n",
    "layers = ZeroPadding2D((1, 1))(layers)\n",
    "layers = Convolution2D(512, (3, 3), activation='relu', name='conv4_2')(layers)\n",
    "layers = ZeroPadding2D((1, 1))(layers)\n",
    "layers = Convolution2D(512, (3, 3), activation='relu', name='conv4_3')(layers)\n",
    "layers = MaxPooling2D((2, 2), strides=(2, 2))(layers)\n",
    "\n",
    "layers = ZeroPadding2D((1, 1))(layers)\n",
    "layers = Convolution2D(512, (3, 3), activation='relu', name='conv5_1')(layers)\n",
    "layers = ZeroPadding2D((1, 1))(layers)\n",
    "layers = Convolution2D(512, (3, 3), activation='relu', name='conv5_2')(layers)\n",
    "layers = ZeroPadding2D((1, 1))(layers)\n",
    "layers = Convolution2D(512, (3, 3), activation='relu', name='conv5_3')(layers)\n",
    "last_layer = MaxPooling2D((2, 2), strides=(2, 2))(layers)\n",
    "\n",
    "\n",
    "model = Model(inputs=input_img, outputs=last_layer)\n",
    "\n",
    "# get the symbolic outputs of each \"key\" layer (we gave them unique names).\n",
    "layer_dict = dict([(layer.name, layer) for layer in model.layers])"
   ]
  },
  {
   "cell_type": "code",
   "execution_count": 3,
   "metadata": {},
   "outputs": [
    {
     "name": "stdout",
     "output_type": "stream",
     "text": [
      "Model loaded.\n"
     ]
    }
   ],
   "source": [
    "weights_path = 'vgg16_weights.h5'\n",
    "\n",
    "f = h5py.File(weights_path)\n",
    "for k in range(f.attrs['nb_layers']):\n",
    "    if k >= len(model.layers)-1:\n",
    "        # we don't look at the last (fully-connected) layers in the savefile\n",
    "        break\n",
    "    g = f['layer_{}'.format(k)]\n",
    "    weights = [g['param_{}'.format(p)] for p in range(g.attrs['nb_params'])]\n",
    "    if len(weights) == 2:\n",
    "        weights[0] = np.transpose(weights[0], (2, 3, 1, 0))\n",
    "    model.layers[k+1].set_weights(weights)\n",
    "f.close()\n",
    "print('Model loaded.')"
   ]
  },
  {
   "cell_type": "code",
   "execution_count": 4,
   "metadata": {
    "collapsed": true
   },
   "outputs": [],
   "source": [
    "# util function to convert a tensor into a valid image\n",
    "def deprocess_image(x):\n",
    "    # normalize tensor: center on 0., ensure std is 0.1\n",
    "    x -= x.mean()\n",
    "    x /= (x.std() + 1e-5)\n",
    "    x *= 0.1\n",
    "\n",
    "    # clip to [0, 1]\n",
    "    x += 0.5\n",
    "    x = np.clip(x, 0, 1)\n",
    "\n",
    "    # convert to RGB array\n",
    "    x *= 255\n",
    "    x = x.transpose((1, 2, 0))\n",
    "    x = np.clip(x, 0, 255).astype('uint8')\n",
    "    return x"
   ]
  },
  {
   "cell_type": "code",
   "execution_count": 5,
   "metadata": {
    "collapsed": true
   },
   "outputs": [],
   "source": [
    "layer_name = 'conv3_1'\n",
    "filter_index = 5  # can be any integer from 0 to 511, as there are 512 filters in that layer\n",
    "\n",
    "# build a loss function that maximizes the activation\n",
    "# of the nth filter of the layer considered\n",
    "layer_output = layer_dict[layer_name].output\n",
    "loss = K.mean(layer_output[:, filter_index, :, :])\n",
    "\n",
    "# compute the gradient of the input picture wrt this loss\n",
    "grads = K.gradients(loss, input_img)[0]\n",
    "\n",
    "# normalization trick: we normalize the gradient\n",
    "grads /= (K.sqrt(K.mean(K.square(grads))) + 1e-5)\n",
    "\n",
    "# this function returns the loss and grads given the input picture\n",
    "iterate = K.function([input_img], [loss, grads])"
   ]
  },
  {
   "cell_type": "code",
   "execution_count": 6,
   "metadata": {
    "collapsed": true
   },
   "outputs": [],
   "source": [
    "# we start from a gray image with some noise\n",
    "input_img_data = np.random.random((1, 3, img_width, img_height)) * 20 + 128.\n",
    "step = 20\n",
    "\n",
    "img = input_img_data[0]\n",
    "img = deprocess_image(img)\n",
    "imsave('%s_filter_%d_before.png' % (layer_name, filter_index), img)\n",
    "\n",
    "# run gradient ascent for 20 steps\n",
    "for i in range(20):\n",
    "    loss_value, grads_value = iterate([input_img_data])\n",
    "    input_img_data += grads_value * step\n",
    "    \n",
    "img = input_img_data[0]\n",
    "img = deprocess_image(img)\n",
    "imsave('%s_filter_%d_after.png' % (layer_name, filter_index), img)"
   ]
  },
  {
   "cell_type": "code",
   "execution_count": 7,
   "metadata": {},
   "outputs": [
    {
     "data": {
      "text/html": [
       "<img src=\"conv3_1_filter_5_before.png\"/>"
      ],
      "text/plain": [
       "<IPython.core.display.Image object>"
      ]
     },
     "execution_count": 7,
     "metadata": {},
     "output_type": "execute_result"
    }
   ],
   "source": [
    "from IPython.display import Image\n",
    "Image(url= \"conv3_1_filter_5_before.png\")"
   ]
  },
  {
   "cell_type": "code",
   "execution_count": 8,
   "metadata": {},
   "outputs": [
    {
     "data": {
      "text/html": [
       "<img src=\"conv3_1_filter_5_after.png\"/>"
      ],
      "text/plain": [
       "<IPython.core.display.Image object>"
      ]
     },
     "execution_count": 8,
     "metadata": {},
     "output_type": "execute_result"
    }
   ],
   "source": [
    "Image(url= \"conv3_1_filter_5_after.png\")"
   ]
  }
 ],
 "metadata": {
  "kernelspec": {
   "display_name": "Python 2",
   "language": "python",
   "name": "python2"
  },
  "language_info": {
   "codemirror_mode": {
    "name": "ipython",
    "version": 2
   },
   "file_extension": ".py",
   "mimetype": "text/x-python",
   "name": "python",
   "nbconvert_exporter": "python",
   "pygments_lexer": "ipython2",
   "version": "2.7.6"
  }
 },
 "nbformat": 4,
 "nbformat_minor": 1
}
