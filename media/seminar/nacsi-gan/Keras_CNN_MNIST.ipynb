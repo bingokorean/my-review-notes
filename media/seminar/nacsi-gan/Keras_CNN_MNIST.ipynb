{
 "cells": [
  {
   "cell_type": "code",
   "execution_count": 1,
   "metadata": {},
   "outputs": [
    {
     "name": "stderr",
     "output_type": "stream",
     "text": [
      "Using Theano backend.\n",
      "Using cuDNN version 5103 on context None\n",
      "Mapped name None to device cuda: Graphics Device (0000:07:00.0)\n"
     ]
    }
   ],
   "source": [
    "from keras.datasets import mnist\n",
    "from keras.utils import np_utils\n",
    "from keras.layers import Input, Dense, Dropout, Activation, Flatten, Convolution2D, ZeroPadding2D, MaxPooling2D\n",
    "from keras.models import Model\n",
    "from keras.layers import concatenate"
   ]
  },
  {
   "cell_type": "code",
   "execution_count": 2,
   "metadata": {
    "collapsed": true
   },
   "outputs": [],
   "source": [
    "batch_size = 128\n",
    "nb_classes = 10\n",
    "epochs = 12\n",
    "\n",
    "# input image dimensions\n",
    "img_rows, img_cols = 28, 28\n",
    "# number of convolutional filters to use\n",
    "nb_filters = 32\n",
    "# size of pooling area for max pooling\n",
    "pool_size = (2, 2)\n",
    "# convolution kernel size\n",
    "kernel_size = (3, 3)"
   ]
  },
  {
   "cell_type": "markdown",
   "metadata": {},
   "source": [
    "# Load"
   ]
  },
  {
   "cell_type": "code",
   "execution_count": 3,
   "metadata": {},
   "outputs": [
    {
     "name": "stdout",
     "output_type": "stream",
     "text": [
      "('X_train shape:', (60000, 1, 28, 28))\n",
      "(60000, 'train samples')\n",
      "(10000, 'test samples')\n"
     ]
    }
   ],
   "source": [
    "# the data, shuffled and split between train and test sets\n",
    "(X_train, y_train), (X_test, y_test) = mnist.load_data()\n",
    "X_train = X_train.reshape(X_train.shape[0], 1, img_rows, img_cols)\n",
    "X_test = X_test.reshape(X_test.shape[0], 1, img_rows, img_cols)\n",
    "input_shape = (1, img_rows, img_cols)\n",
    "\n",
    "X_train = X_train.astype('float32')\n",
    "X_test = X_test.astype('float32')\n",
    "X_train /= 255\n",
    "X_test /= 255\n",
    "print('X_train shape:', X_train.shape)\n",
    "print(X_train.shape[0], 'train samples')\n",
    "print(X_test.shape[0], 'test samples')\n",
    "\n",
    "# convert class vectors to binary class matrices\n",
    "Y_train = np_utils.to_categorical(y_train, nb_classes)\n",
    "Y_test = np_utils.to_categorical(y_test, nb_classes)\n"
   ]
  },
  {
   "cell_type": "markdown",
   "metadata": {},
   "source": [
    "# Design"
   ]
  },
  {
   "cell_type": "code",
   "execution_count": 4,
   "metadata": {},
   "outputs": [],
   "source": [
    "input_layer = Input(shape=(input_shape))\n",
    "\n",
    "# Network thread 1 \n",
    "layers = Convolution2D(nb_filters, kernel_size, activation='relu')(input_layer)\n",
    "layers = Convolution2D(nb_filters, kernel_size, activation='relu')(layers)\n",
    "layers = MaxPooling2D(pool_size)(layers)\n",
    "layers = Dropout(0.25)(layers)\n",
    "layers = Flatten()(layers)\n",
    "\n",
    "# Network thread 2\n",
    "layers1 = Convolution2D(nb_filters, (2,2), activation='relu')(input_layer)\n",
    "layers1 = Convolution2D(nb_filters, (2,2), activation='relu')(layers1)\n",
    "layers1 = MaxPooling2D(pool_size)(layers1)\n",
    "layers1 = Dropout(0.25)(layers1)\n",
    "layers1 = Flatten()(layers1)\n",
    "\n",
    "# Network thread 3\n",
    "layers2 = Convolution2D(nb_filters, (1,1), activation='relu')(input_layer)\n",
    "layers2 = Convolution2D(nb_filters, (1,1), activation='relu')(layers2)\n",
    "layers2 = MaxPooling2D(pool_size)(layers2)\n",
    "layers2 = Dropout(0.25)(layers2)\n",
    "layers2 = Flatten()(layers2)\n",
    "\n",
    "# Combine (just concatenate here) three network threads\n",
    "layers = concatenate([layers, layers1, layers2])\n",
    "layers = Dense(128, activation='relu')(layers)\n",
    "layers = Dropout(0.5)(layers)\n",
    "output_layer = Dense(nb_classes, activation='softmax')(layers)\n",
    "\n",
    "# Final Model Construction\n",
    "model = Model(inputs=input_layer, outputs=output_layer)"
   ]
  },
  {
   "cell_type": "markdown",
   "metadata": {},
   "source": [
    "# Train"
   ]
  },
  {
   "cell_type": "code",
   "execution_count": 5,
   "metadata": {},
   "outputs": [
    {
     "name": "stdout",
     "output_type": "stream",
     "text": [
      "Train on 60000 samples, validate on 10000 samples\n",
      "Epoch 1/12\n",
      "60000/60000 [==============================] - 6s - loss: 0.3383 - acc: 0.8971 - val_loss: 0.0849 - val_acc: 0.9742\n",
      "Epoch 2/12\n",
      "60000/60000 [==============================] - 6s - loss: 0.1247 - acc: 0.9628 - val_loss: 0.0568 - val_acc: 0.9815\n",
      "Epoch 3/12\n",
      "60000/60000 [==============================] - 6s - loss: 0.0945 - acc: 0.9724 - val_loss: 0.0464 - val_acc: 0.9850\n",
      "Epoch 4/12\n",
      "60000/60000 [==============================] - 6s - loss: 0.0783 - acc: 0.9773 - val_loss: 0.0425 - val_acc: 0.9857\n",
      "Epoch 5/12\n",
      "60000/60000 [==============================] - 6s - loss: 0.0668 - acc: 0.9807 - val_loss: 0.0371 - val_acc: 0.9874\n",
      "Epoch 6/12\n",
      "60000/60000 [==============================] - 6s - loss: 0.0591 - acc: 0.9828 - val_loss: 0.0347 - val_acc: 0.9887\n",
      "Epoch 7/12\n",
      "60000/60000 [==============================] - 6s - loss: 0.0558 - acc: 0.9835 - val_loss: 0.0328 - val_acc: 0.9888\n",
      "Epoch 8/12\n",
      "60000/60000 [==============================] - 6s - loss: 0.0535 - acc: 0.9843 - val_loss: 0.0321 - val_acc: 0.9893\n",
      "Epoch 9/12\n",
      "60000/60000 [==============================] - 6s - loss: 0.0480 - acc: 0.9856 - val_loss: 0.0327 - val_acc: 0.9896\n",
      "Epoch 10/12\n",
      "60000/60000 [==============================] - 6s - loss: 0.0462 - acc: 0.9859 - val_loss: 0.0339 - val_acc: 0.9889\n",
      "Epoch 11/12\n",
      "60000/60000 [==============================] - 6s - loss: 0.0432 - acc: 0.9874 - val_loss: 0.0317 - val_acc: 0.9898\n",
      "Epoch 12/12\n",
      "60000/60000 [==============================] - 6s - loss: 0.0430 - acc: 0.9878 - val_loss: 0.0318 - val_acc: 0.9893\n"
     ]
    },
    {
     "data": {
      "text/plain": [
       "<keras.callbacks.History at 0x7ff9f80f1610>"
      ]
     },
     "execution_count": 5,
     "metadata": {},
     "output_type": "execute_result"
    }
   ],
   "source": [
    "model.compile(loss='categorical_crossentropy',\n",
    "              optimizer='adadelta',\n",
    "              metrics=['accuracy'])\n",
    "\n",
    "model.fit(X_train, Y_train, batch_size=batch_size, epochs=epochs,\n",
    "          verbose=1, validation_data=(X_test, Y_test))\n"
   ]
  },
  {
   "cell_type": "markdown",
   "metadata": {},
   "source": [
    "# Test"
   ]
  },
  {
   "cell_type": "code",
   "execution_count": 6,
   "metadata": {},
   "outputs": [
    {
     "name": "stdout",
     "output_type": "stream",
     "text": [
      "('Test loss:', 0.031789702635592401)\n",
      "('Test accuracy:', 0.98929999999999996)\n"
     ]
    }
   ],
   "source": [
    "score = model.evaluate(X_test, Y_test, verbose=0)\n",
    "print('Test loss:', score[0])\n",
    "print('Test accuracy:', score[1])"
   ]
  }
 ],
 "metadata": {
  "kernelspec": {
   "display_name": "Python 2",
   "language": "python",
   "name": "python2"
  },
  "language_info": {
   "codemirror_mode": {
    "name": "ipython",
    "version": 2
   },
   "file_extension": ".py",
   "mimetype": "text/x-python",
   "name": "python",
   "nbconvert_exporter": "python",
   "pygments_lexer": "ipython2",
   "version": "2.7.6"
  }
 },
 "nbformat": 4,
 "nbformat_minor": 1
}
