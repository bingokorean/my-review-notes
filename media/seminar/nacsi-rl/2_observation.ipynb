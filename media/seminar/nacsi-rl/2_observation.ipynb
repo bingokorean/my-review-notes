{
 "cells": [
  {
   "cell_type": "markdown",
   "metadata": {
    "deletable": true,
    "editable": true
   },
   "source": [
    "# Basic envrionment"
   ]
  },
  {
   "cell_type": "markdown",
   "metadata": {
    "deletable": true,
    "editable": true
   },
   "source": [
    "이번 실습에서는 CartPole 환경에서 에이전트의 활동을 확인한다.\n",
    "해당 소스코드는 gym에서 가장 기본적인 형태의 소스코드이다."
   ]
  },
  {
   "cell_type": "code",
   "execution_count": 1,
   "metadata": {
    "collapsed": false,
    "deletable": true,
    "editable": true,
    "scrolled": true
   },
   "outputs": [
    {
     "name": "stderr",
     "output_type": "stream",
     "text": [
      "[2017-05-19 06:41:11,709] Making new env: CartPole-v0\n"
     ]
    },
    {
     "name": "stdout",
     "output_type": "stream",
     "text": [
      "Episode finished after 14 timesteps\n",
      " \n",
      "Episode finished after 9 timesteps\n",
      " \n",
      "Episode finished after 20 timesteps\n",
      " \n",
      "Episode finished after 10 timesteps\n",
      " \n",
      "Episode finished after 40 timesteps\n",
      " \n",
      "Episode finished after 19 timesteps\n",
      " \n",
      "Episode finished after 13 timesteps\n",
      " \n",
      "Episode finished after 13 timesteps\n",
      " \n",
      "Episode finished after 41 timesteps\n",
      " \n",
      "Episode finished after 16 timesteps\n",
      " \n",
      "Episode finished after 13 timesteps\n",
      " \n",
      "Episode finished after 13 timesteps\n",
      " \n",
      "Episode finished after 31 timesteps\n",
      " \n",
      "Episode finished after 13 timesteps\n",
      " \n",
      "Episode finished after 10 timesteps\n",
      " \n",
      "Episode finished after 31 timesteps\n",
      " \n",
      "Episode finished after 11 timesteps\n",
      " \n",
      "Episode finished after 13 timesteps\n",
      " \n",
      "Episode finished after 12 timesteps\n",
      " \n",
      "Episode finished after 30 timesteps\n",
      " \n",
      "End of all episodes\n"
     ]
    }
   ],
   "source": [
    "import gym\n",
    "from IPython.display import clear_output\n",
    "  \n",
    "#1    \n",
    "env = gym.make('CartPole-v0') \n",
    "num_episodes=20\n",
    "for i_episode in range(num_episodes):\n",
    "    #2\n",
    "    observation = env.reset()\n",
    "    for t in range(500):\n",
    "        # Render into buffer.        \n",
    "        action = env.action_space.sample() # random action        \n",
    "        observation, reward, done, info = env.step(action) # next step        \n",
    "        if done:\n",
    "            print(\"Episode finished after {} timesteps\".format(t+1))\n",
    "            print \" \"\n",
    "            break\n",
    "print \"End of all episodes\"\n",
    "env.close()"
   ]
  },
  {
   "cell_type": "code",
   "execution_count": null,
   "metadata": {
    "collapsed": true,
    "deletable": true,
    "editable": true
   },
   "outputs": [],
   "source": []
  }
 ],
 "metadata": {
  "kernelspec": {
   "display_name": "Python 2",
   "language": "python",
   "name": "python2"
  },
  "language_info": {
   "codemirror_mode": {
    "name": "ipython",
    "version": 2
   },
   "file_extension": ".py",
   "mimetype": "text/x-python",
   "name": "python",
   "nbconvert_exporter": "python",
   "pygments_lexer": "ipython2",
   "version": "2.7.6"
  }
 },
 "nbformat": 4,
 "nbformat_minor": 0
}
