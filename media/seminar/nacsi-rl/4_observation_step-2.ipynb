{
 "cells": [
  {
   "cell_type": "markdown",
   "metadata": {
    "deletable": true,
    "editable": true
   },
   "source": [
    "#Environment observation step by step 2"
   ]
  },
  {
   "cell_type": "markdown",
   "metadata": {
    "deletable": true,
    "editable": true
   },
   "source": [
    "## The typical imports"
   ]
  },
  {
   "cell_type": "code",
   "execution_count": 1,
   "metadata": {
    "collapsed": true,
    "deletable": true,
    "editable": true
   },
   "outputs": [],
   "source": [
    "import gym\n",
    "import numpy as np"
   ]
  },
  {
   "cell_type": "markdown",
   "metadata": {
    "deletable": true,
    "editable": true
   },
   "source": [
    "# Space of the observed variable"
   ]
  },
  {
   "cell_type": "code",
   "execution_count": 2,
   "metadata": {
    "collapsed": false,
    "deletable": true,
    "editable": true,
    "scrolled": false
   },
   "outputs": [
    {
     "name": "stderr",
     "output_type": "stream",
     "text": [
      "[2017-05-19 06:52:03,075] Making new env: CartPole-v0\n",
      "[2017-05-19 06:52:03,089] Making new env: Acrobot-v1\n",
      "[2017-05-19 06:52:03,093] Making new env: Assault-v0\n",
      "[2017-05-19 06:52:03,127] Making new env: Bowling-v0\n",
      "[2017-05-19 06:52:03,157] Making new env: Freeway-v0\n",
      "[2017-05-19 06:52:03,203] Making new env: CartPole-v0\n"
     ]
    },
    {
     "name": "stdout",
     "output_type": "stream",
     "text": [
      "('-----------------', 'CartPole-v0', '-----------------')\n",
      "Action space\n",
      "Discrete(2)\n",
      "\n",
      "Observation space\n",
      "Box(4,)\n",
      "\n",
      "\n",
      "\n",
      "('-----------------', 'Acrobot-v1', '-----------------')\n",
      "Action space\n",
      "Discrete(3)\n",
      "\n",
      "Observation space\n",
      "Box(6,)\n",
      "\n",
      "\n",
      "\n",
      "('-----------------', 'Assault-v0', '-----------------')\n",
      "Action space\n",
      "Discrete(7)\n",
      "\n",
      "Observation space\n",
      "Box(250, 160, 3)\n",
      "\n",
      "\n",
      "\n",
      "('-----------------', 'Bowling-v0', '-----------------')\n",
      "Action space\n",
      "Discrete(6)\n",
      "\n",
      "Observation space\n",
      "Box(210, 160, 3)\n",
      "\n",
      "\n",
      "\n",
      "('-----------------', 'Freeway-v0', '-----------------')\n",
      "Action space\n",
      "Discrete(3)\n",
      "\n",
      "Observation space\n",
      "Box(210, 160, 3)\n",
      "\n",
      "\n",
      "\n",
      "('-----------------', 'CartPole-v0', '-----------------')\n",
      "Action space\n",
      "Discrete(2)\n",
      "\n",
      "Observation space\n",
      "Box(4,)\n",
      "\n",
      "\n",
      "\n"
     ]
    }
   ],
   "source": [
    "# test env list: Acrobot-v1, Assault-v0, Bowling-v0, Freeway-v0, CartPole-v0\n",
    "envlist = ['CartPole-v0','Acrobot-v1', 'Assault-v0', 'Bowling-v0', 'Freeway-v0', 'CartPole-v0']\n",
    "for name in envlist:\n",
    "    env = gym.make(name)\n",
    "    print('-----------------',name,'-----------------')\n",
    "    print \"Action space\"\n",
    "    print(env.action_space) # cart pole 문제에서는 discrete 하다. \n",
    "    print \"\"\n",
    "    print \"Observation space\"\n",
    "    print(env.observation_space)\n",
    "    print('\\n\\n')"
   ]
  },
  {
   "cell_type": "markdown",
   "metadata": {
    "deletable": true,
    "editable": true
   },
   "source": [
    "The **Discrete** space allows a fixed range of non-negative numbers, so in this case valid actions are either 0 or 1. \n",
    "\n",
    "The **Box** space represents an n-dimensional box, so valid observations will be an array of 4 numbers. We can also check the Box's bounds"
   ]
  },
  {
   "cell_type": "code",
   "execution_count": 3,
   "metadata": {
    "collapsed": false,
    "deletable": true,
    "editable": true,
    "scrolled": false
   },
   "outputs": [
    {
     "name": "stdout",
     "output_type": "stream",
     "text": [
      "Upper bound\n",
      "[  4.80000000e+00   3.40282347e+38   4.18879020e-01   3.40282347e+38]\n",
      "Lower bound\n",
      "[ -4.80000000e+00  -3.40282347e+38  -4.18879020e-01  -3.40282347e+38]\n"
     ]
    }
   ],
   "source": [
    "print \"Upper bound\"\n",
    "print(env.observation_space.high)\n",
    "print \"Lower bound\"\n",
    "print(env.observation_space.low)"
   ]
  },
  {
   "cell_type": "markdown",
   "metadata": {
    "deletable": true,
    "editable": true
   },
   "source": [
    "**-4.8~4.8, -inf~inf, -4.18~4.18, -inf~inf**"
   ]
  }
 ],
 "metadata": {
  "kernelspec": {
   "display_name": "Python 2",
   "language": "python",
   "name": "python2"
  },
  "language_info": {
   "codemirror_mode": {
    "name": "ipython",
    "version": 2
   },
   "file_extension": ".py",
   "mimetype": "text/x-python",
   "name": "python",
   "nbconvert_exporter": "python",
   "pygments_lexer": "ipython2",
   "version": "2.7.6"
  }
 },
 "nbformat": 4,
 "nbformat_minor": 0
}
