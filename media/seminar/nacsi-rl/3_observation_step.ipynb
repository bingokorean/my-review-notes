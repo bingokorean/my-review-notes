{
 "cells": [
  {
   "cell_type": "markdown",
   "metadata": {
    "deletable": true,
    "editable": true
   },
   "source": [
    "# Environment observation step by step"
   ]
  },
  {
   "cell_type": "markdown",
   "metadata": {
    "deletable": true,
    "editable": true
   },
   "source": [
    "## The typical imports"
   ]
  },
  {
   "cell_type": "code",
   "execution_count": 1,
   "metadata": {
    "collapsed": true,
    "deletable": true,
    "editable": true
   },
   "outputs": [],
   "source": [
    "import gym\n",
    "import numpy as np\n",
    "from IPython.display import clear_output\n",
    "from IPython.display import Image"
   ]
  },
  {
   "cell_type": "markdown",
   "metadata": {
    "deletable": true,
    "editable": true
   },
   "source": [
    "# Observing the environment"
   ]
  },
  {
   "cell_type": "markdown",
   "metadata": {
    "deletable": true,
    "editable": true
   },
   "source": [
    "--**Observation (object)**: 환경 관찰을 나타내는 환경 별 객체. 예를 들어, 카메라의 픽셀 데이터, 로봇의 관절 각 및 조인트 속도 또는 보드 게임의 보드 상태. \n",
    "\n",
    "--**Reward (float)**: 이전 행동으로 얻은 보상. 크기는 환경에 따라 다르지만 목표는 항상 총 보상을 늘리는 것입니다.\n",
    "\n",
    "--**Done (boolean)**: 환경을 재시작 할지 여부를 판단하는 정보. 대부분의 (전부는 아니지만) 작업은 에피소드로 나누어지고, True 상태는 에피소드가 종료되었음을 나타냅니다.\n",
    "\n",
    "--**Info (dict)**: 디버깅에 유용한 정보를 담고 있습니다. 때로는 학습에 유용 할 수 있습니다 (예를 들어, 환경의 마지막 상태 변경 뒤에 원시 확률이 포함될 수 있음). 그러나 공식적인 평가에 해당 정보를 사용할 수 없습니다.\n"
   ]
  },
  {
   "cell_type": "code",
   "execution_count": null,
   "metadata": {
    "collapsed": false,
    "deletable": true,
    "editable": true
   },
   "outputs": [
    {
     "data": {
      "image/png": "[encoded data removed]",
      "text/plain": [
       "<IPython.core.display.Image object>"
      ]
     },
     "execution_count": 2,
     "metadata": {},
     "output_type": "execute_result"
    }
   ],
   "source": [
    "Image(filename='rlloop.png')"
   ]
  },
  {
   "cell_type": "code",
   "execution_count": null,
   "metadata": {
    "collapsed": false,
    "deletable": true,
    "editable": true,
    "scrolled": false
   },
   "outputs": [
    {
     "name": "stdout",
     "output_type": "stream",
     "text": [
      "-Observations\n",
      "[ 0.04548144  0.02791026  0.02618891  0.00813001]\n",
      "-Selected action\n",
      "0\n",
      "-Reward\n",
      "1.0\n",
      "-End condition\n",
      "False\n",
      "-Info\n",
      "{}\n",
      "\n",
      "-Observations\n",
      "[ 0.04603964 -0.1675773   0.02635151  0.30895946]\n",
      "-Selected action\n",
      "1\n",
      "-Reward\n",
      "1.0\n",
      "-End condition\n",
      "False\n",
      "-Info\n",
      "{}\n",
      "\n",
      "-Observations\n",
      "[ 0.0426881   0.02715947  0.0325307   0.02470216]\n",
      "-Selected action\n",
      "1\n",
      "-Reward\n",
      "1.0\n",
      "-End condition\n",
      "False\n",
      "-Info\n",
      "{}\n",
      "\n",
      "-Observations\n",
      "[ 0.04323129  0.22180017  0.03302474 -0.25754207]\n",
      "-Selected action\n",
      "0\n",
      "-Reward\n",
      "1.0\n",
      "-End condition\n",
      "False\n",
      "-Info\n",
      "{}\n",
      "\n",
      "-Observations\n",
      "[ 0.04766729  0.02622268  0.0278739   0.04537171]\n",
      "-Selected action\n",
      "1\n",
      "-Reward\n",
      "1.0\n",
      "-End condition\n",
      "False\n",
      "-Info\n",
      "{}\n",
      "\n",
      "-Observations\n",
      "[ 0.04819174  0.22093407  0.02878133 -0.23838806]\n",
      "-Selected action\n",
      "1\n",
      "-Reward\n",
      "1.0\n",
      "-End condition\n",
      "False\n",
      "-Info\n",
      "{}\n",
      "\n",
      "-Observations\n",
      "[ 0.05261043  0.41563328  0.02401357 -0.52185538]\n",
      "-Selected action\n",
      "1\n",
      "-Reward\n",
      "1.0\n",
      "-End condition\n",
      "False\n",
      "-Info\n",
      "{}\n",
      "\n",
      "-Observations\n",
      "[ 0.06092309  0.61040914  0.01357646 -0.80687562]\n",
      "-Selected action\n",
      "1\n",
      "-Reward\n",
      "1.0\n",
      "-End condition\n",
      "False\n",
      "-Info\n",
      "{}\n",
      "\n",
      "-Observations\n",
      "[ 0.07313127  0.8053424  -0.00256105 -1.09525721]\n",
      "-Selected action\n",
      "1\n",
      "-Reward\n",
      "1.0\n",
      "-End condition\n",
      "False\n",
      "-Info\n",
      "{}\n",
      "\n",
      "-Observations\n",
      "[ 0.08923812  1.00049799 -0.02446619 -1.38874259]\n",
      "-Selected action\n",
      "1\n",
      "-Reward\n",
      "1.0\n",
      "-End condition\n",
      "False\n",
      "-Info\n",
      "{}\n",
      "\n",
      "-Observations\n",
      "[ 0.10924808  1.19591609 -0.05224105 -1.68897436]\n",
      "-Selected action\n",
      "1\n",
      "-Reward\n",
      "1.0\n",
      "-End condition\n",
      "False\n",
      "-Info\n",
      "{}\n",
      "\n",
      "-Observations\n",
      "[ 0.1331664   1.39160153 -0.08602053 -1.99745395]\n",
      "-Selected action\n",
      "0\n",
      "-Reward\n",
      "1.0\n",
      "-End condition\n",
      "False\n",
      "-Info\n",
      "{}\n",
      "\n",
      "-Observations\n",
      "[ 0.16099843  1.19747759 -0.12596961 -1.73260355]\n",
      "-Selected action\n",
      "0\n",
      "-Reward\n",
      "1.0\n",
      "-End condition\n",
      "False\n",
      "-Info\n",
      "{}\n",
      "\n",
      "-Observations\n",
      "[ 0.18494799  1.00399868 -0.16062168 -1.48162199]\n",
      "-Selected action\n",
      "1\n",
      "-Reward\n",
      "1.0\n",
      "-End condition\n",
      "False\n",
      "-Info\n",
      "{}\n",
      "\n",
      "-Observations\n",
      "[ 0.20502796  1.20067415 -0.19025412 -1.81985778]\n",
      "-Selected action\n",
      "0\n",
      "-Reward\n",
      "1.0\n",
      "-End condition\n",
      "True\n",
      "-Info\n",
      "{}\n",
      "\n",
      "Episode finished after 15 timesteps\n"
     ]
    }
   ],
   "source": [
    "env = gym.make('CartPole-v0') #environment load\n",
    "num_episodes=10 #total episode\n",
    "for i_episode in range(num_episodes):\n",
    "    observation = env.reset() #initialize environment\n",
    "    clear_output()\n",
    "    for t in range(500): \n",
    "        print \"-Observations\"\n",
    "        print (observation)\n",
    "        action = env.action_space.sample() # random action\n",
    "        print \"-Selected action\"\n",
    "        print (action)\n",
    "        observation, reward, done, info = env.step(action) # get observation information\n",
    "        print \"-Reward\"\n",
    "        print (reward)\n",
    "        print \"-End condition\"\n",
    "        print (done)\n",
    "        print \"-Info\"\n",
    "        print (info)\n",
    "        print \"\"\n",
    "        if done: #if terminated\n",
    "            print(\"Episode finished after {} timesteps\".format(t+1))\n",
    "            raw_input(\"Enter to proceed\")\n",
    "            break      \n",
    "env.close()"
   ]
  },
  {
   "cell_type": "code",
   "execution_count": null,
   "metadata": {
    "collapsed": false,
    "deletable": true,
    "editable": true,
    "scrolled": true
   },
   "outputs": [],
   "source": [
    "\n"
   ]
  }
 ],
 "metadata": {
  "kernelspec": {
   "display_name": "Python 2",
   "language": "python",
   "name": "python2"
  },
  "language_info": {
   "codemirror_mode": {
    "name": "ipython",
    "version": 2
   },
   "file_extension": ".py",
   "mimetype": "text/x-python",
   "name": "python",
   "nbconvert_exporter": "python",
   "pygments_lexer": "ipython2",
   "version": "2.7.6"
  }
 },
 "nbformat": 4,
 "nbformat_minor": 0
}
