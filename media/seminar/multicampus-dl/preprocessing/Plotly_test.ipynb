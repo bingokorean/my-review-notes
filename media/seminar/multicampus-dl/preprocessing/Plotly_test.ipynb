{
 "cells": [
  {
   "cell_type": "markdown",
   "metadata": {},
   "source": [
    "# Plotly\n",
    "- An online analytics and data visualization tool (from Wikipedia)\n",
    "- It makes **interactive**, publication-quality graph online\n",
    "- Plotly for Python is open source, free, and self-hosted!"
   ]
  },
  {
   "cell_type": "markdown",
   "metadata": {
    "collapsed": true
   },
   "source": [
    "## 0. Install plotly and cufflinks\n",
    "The conda repository doesn't have `plotly` and `cufflinks`.\n",
    "\n",
    "You should install these packages using **`pip`**.\n",
    "\n",
    "```{.python}\n",
    "pip install plotly\n",
    "pip install cufflinks\n",
    "```"
   ]
  },
  {
   "cell_type": "code",
   "execution_count": 4,
   "metadata": {
    "collapsed": true
   },
   "outputs": [],
   "source": [
    "import plotly.plotly as py\n",
    "import cufflinks as cf\n",
    "import pandas as pd\n",
    "import numpy as np"
   ]
  },
  {
   "cell_type": "code",
   "execution_count": 2,
   "metadata": {
    "collapsed": false
   },
   "outputs": [
    {
     "data": {
      "text/html": [
       "<div>\n",
       "<table border=\"1\" class=\"dataframe\">\n",
       "  <thead>\n",
       "    <tr style=\"text-align: right;\">\n",
       "      <th></th>\n",
       "      <th>XJS.YS</th>\n",
       "      <th>BSY.IO</th>\n",
       "      <th>KLQ.HR</th>\n",
       "      <th>PUQ.XI</th>\n",
       "      <th>YXE.YF</th>\n",
       "    </tr>\n",
       "  </thead>\n",
       "  <tbody>\n",
       "    <tr>\n",
       "      <th>2015-01-01</th>\n",
       "      <td>-1.800852</td>\n",
       "      <td>-1.052679</td>\n",
       "      <td>0.351939</td>\n",
       "      <td>-1.474294</td>\n",
       "      <td>0.836846</td>\n",
       "    </tr>\n",
       "    <tr>\n",
       "      <th>2015-01-02</th>\n",
       "      <td>-1.948883</td>\n",
       "      <td>-2.232455</td>\n",
       "      <td>-1.645968</td>\n",
       "      <td>-2.853176</td>\n",
       "      <td>0.137209</td>\n",
       "    </tr>\n",
       "    <tr>\n",
       "      <th>2015-01-03</th>\n",
       "      <td>-1.392748</td>\n",
       "      <td>-2.545839</td>\n",
       "      <td>-1.130329</td>\n",
       "      <td>-3.393802</td>\n",
       "      <td>0.351267</td>\n",
       "    </tr>\n",
       "    <tr>\n",
       "      <th>2015-01-04</th>\n",
       "      <td>-2.486061</td>\n",
       "      <td>-1.811037</td>\n",
       "      <td>-0.275082</td>\n",
       "      <td>-2.681730</td>\n",
       "      <td>-0.301964</td>\n",
       "    </tr>\n",
       "    <tr>\n",
       "      <th>2015-01-05</th>\n",
       "      <td>-1.956760</td>\n",
       "      <td>-1.107267</td>\n",
       "      <td>0.231802</td>\n",
       "      <td>-1.682268</td>\n",
       "      <td>-0.462243</td>\n",
       "    </tr>\n",
       "  </tbody>\n",
       "</table>\n",
       "</div>"
      ],
      "text/plain": [
       "              XJS.YS    BSY.IO    KLQ.HR    PUQ.XI    YXE.YF\n",
       "2015-01-01 -1.800852 -1.052679  0.351939 -1.474294  0.836846\n",
       "2015-01-02 -1.948883 -2.232455 -1.645968 -2.853176  0.137209\n",
       "2015-01-03 -1.392748 -2.545839 -1.130329 -3.393802  0.351267\n",
       "2015-01-04 -2.486061 -1.811037 -0.275082 -2.681730 -0.301964\n",
       "2015-01-05 -1.956760 -1.107267  0.231802 -1.682268 -0.462243"
      ]
     },
     "execution_count": 2,
     "metadata": {},
     "output_type": "execute_result"
    }
   ],
   "source": [
    "df = cf.datagen.lines()\n",
    "df.head()"
   ]
  },
  {
   "cell_type": "code",
   "execution_count": 10,
   "metadata": {
    "collapsed": false
   },
   "outputs": [
    {
     "name": "stdout",
     "output_type": "stream",
     "text": [
      "1.12.8\n"
     ]
    }
   ],
   "source": [
    "from plotly import __version__\n",
    "from plotly.offline import download_plotlyjs, init_notebook_mode, plot, iplot\n",
    "\n",
    "print(__version__) # requires version >= 1.9.0"
   ]
  }
 ],
 "metadata": {
  "anaconda-cloud": {},
  "kernelspec": {
   "display_name": "Python [conda root]",
   "language": "python",
   "name": "conda-root-py"
  },
  "language_info": {
   "codemirror_mode": {
    "name": "ipython",
    "version": 3
   },
   "file_extension": ".py",
   "mimetype": "text/x-python",
   "name": "python",
   "nbconvert_exporter": "python",
   "pygments_lexer": "ipython3",
   "version": "3.5.2"
  }
 },
 "nbformat": 4,
 "nbformat_minor": 0
}
