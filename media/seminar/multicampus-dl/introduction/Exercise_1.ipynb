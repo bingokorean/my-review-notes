{
 "cells": [
  {
   "cell_type": "markdown",
   "metadata": {},
   "source": [
    "# Exercise 1: 소수 판별기\n",
    "- 특정 자연수를 입력으로 넣었을 때, 이 자연수가 소수(1과 자기 자신만을 약수로 갖는 수)인지 아닌지를 판별하는 함수를 만들어보세요.\n",
    "- 소수의 예: 2, 3, 5, 7, 11,..."
   ]
  },
  {
   "cell_type": "code",
   "execution_count": 72,
   "metadata": {
    "collapsed": false
   },
   "outputs": [],
   "source": [
    "def is_prime(x):\n",
    "    result = ''\n",
    "    t = 'It is a prime number.'\n",
    "    f = 'It is not a prime number.'\n",
    "    if type(x) != int:\n",
    "        result = f\n",
    "    elif x < 2:\n",
    "        result = f      \n",
    "    elif x == 2:\n",
    "        result = t       \n",
    "    else:                   \n",
    "        for i in range(2,x): \n",
    "            if x % i == 0:   \n",
    "                result = f\n",
    "            else:\n",
    "                result = t\n",
    "    return result"
   ]
  },
  {
   "cell_type": "code",
   "execution_count": 73,
   "metadata": {
    "collapsed": false
   },
   "outputs": [
    {
     "data": {
      "text/plain": [
       "'It is a prime number.'"
      ]
     },
     "execution_count": 73,
     "metadata": {},
     "output_type": "execute_result"
    }
   ],
   "source": [
    "is_prime(7)"
   ]
  },
  {
   "cell_type": "code",
   "execution_count": 74,
   "metadata": {
    "collapsed": false
   },
   "outputs": [
    {
     "data": {
      "text/plain": [
       "'It is a prime number.'"
      ]
     },
     "execution_count": 74,
     "metadata": {},
     "output_type": "execute_result"
    }
   ],
   "source": [
    "is_prime(100)"
   ]
  },
  {
   "cell_type": "code",
   "execution_count": 75,
   "metadata": {
    "collapsed": false
   },
   "outputs": [
    {
     "data": {
      "text/plain": [
       "'It is not a prime number.'"
      ]
     },
     "execution_count": 75,
     "metadata": {},
     "output_type": "execute_result"
    }
   ],
   "source": [
    "is_prime(-4)"
   ]
  },
  {
   "cell_type": "code",
   "execution_count": 76,
   "metadata": {
    "collapsed": false
   },
   "outputs": [
    {
     "data": {
      "text/plain": [
       "'It is not a prime number.'"
      ]
     },
     "execution_count": 76,
     "metadata": {},
     "output_type": "execute_result"
    }
   ],
   "source": [
    "is_prime('HELLO')"
   ]
  },
  {
   "cell_type": "markdown",
   "metadata": {},
   "source": [
    "# Exercise 2: 과일가게 매출\n",
    "- 과일가게에는 3가지 종류(apple, banana, orange)의 과일을 팔고 있습니다.\n",
    "- 각 과일의 재고는 총 10개씩 있으며, 가격은 각각 1000원, 500원, 700원입니다."
   ]
  },
  {
   "cell_type": "markdown",
   "metadata": {},
   "source": [
    "- 1) 위의 정보를 dictionary로 만들어서 모든 과일을 다 팔았을 때의 가격을 계산해보세요."
   ]
  },
  {
   "cell_type": "code",
   "execution_count": 81,
   "metadata": {
    "collapsed": false
   },
   "outputs": [
    {
     "name": "stdout",
     "output_type": "stream",
     "text": [
      "22000\n"
     ]
    }
   ],
   "source": [
    "fruits= ['apple', 'banana', 'orange']\n",
    "num = {'apple':10, 'banana':10, 'orange':10}\n",
    "price = {'apple':1000, 'banana':500, 'orange':700}\n",
    "\n",
    "sum = 0\n",
    "\n",
    "for fruit in fruits:\n",
    "    sum += num.get(fruit) * price.get(fruit)\n",
    "    \n",
    "print(sum)"
   ]
  },
  {
   "cell_type": "markdown",
   "metadata": {},
   "source": [
    "- 2) 임의의 과일 재고 dictionary와 가격 dictionary가 입력되었을 때, 모든 과일의 가격 총합을 계산하는 함수를 만들어보세요."
   ]
  },
  {
   "cell_type": "code",
   "execution_count": 78,
   "metadata": {
    "collapsed": false
   },
   "outputs": [],
   "source": [
    "def total(num, price):\n",
    "    fruits_num = list(num.keys())\n",
    "    fruits_price = list(price.keys())\n",
    "    sum = 0\n",
    "    if(fruits_num != fruits_price):\n",
    "        sum = 'Check your data!'\n",
    "    else:\n",
    "        for fruit in fruits_num:\n",
    "            sum += num.get(fruit) * price.get(fruit)\n",
    "    return sum"
   ]
  },
  {
   "cell_type": "code",
   "execution_count": 83,
   "metadata": {
    "collapsed": false
   },
   "outputs": [
    {
     "name": "stdout",
     "output_type": "stream",
     "text": [
      "Check your data\n"
     ]
    }
   ],
   "source": [
    "num = {'apple':10, 'banana':10, 'orange':10, 'melon':10}\n",
    "price = {'apple':1000, 'banana':500, 'orange':700, 'melon':2000}\n",
    "\n",
    "total_sum = total(num, price)\n",
    "print(total_sum)"
   ]
  },
  {
   "cell_type": "code",
   "execution_count": 84,
   "metadata": {
    "collapsed": false
   },
   "outputs": [
    {
     "name": "stdout",
     "output_type": "stream",
     "text": [
      "0 : <class 'int'>\n",
      "hello : <class 'str'>\n"
     ]
    }
   ],
   "source": [
    "a = 0\n",
    "print(a, ':', type(a))\n",
    "a = 'hello'\n",
    "print(a, ':', type(a))"
   ]
  }
 ],
 "metadata": {
  "anaconda-cloud": {},
  "kernelspec": {
   "display_name": "Python [conda root]",
   "language": "python",
   "name": "conda-root-py"
  },
  "language_info": {
   "codemirror_mode": {
    "name": "ipython",
    "version": 3
   },
   "file_extension": ".py",
   "mimetype": "text/x-python",
   "name": "python",
   "nbconvert_exporter": "python",
   "pygments_lexer": "ipython3",
   "version": "3.5.2"
  }
 },
 "nbformat": 4,
 "nbformat_minor": 0
}
