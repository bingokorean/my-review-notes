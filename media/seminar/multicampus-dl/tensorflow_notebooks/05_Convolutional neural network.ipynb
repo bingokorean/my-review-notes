{
 "cells": [
  {
   "cell_type": "markdown",
   "metadata": {},
   "source": [
    "# Convolutional Neural Network"
   ]
  },
  {
   "cell_type": "code",
   "execution_count": 1,
   "metadata": {
    "collapsed": true
   },
   "outputs": [],
   "source": [
    "import tensorflow as tf\n",
    "from tensorflow.examples.tutorials.mnist import input_data\n",
    "import numpy as np\n",
    "import matplotlib.pyplot as plt\n",
    "%matplotlib inline"
   ]
  },
  {
   "cell_type": "markdown",
   "metadata": {},
   "source": [
    "## function for variables"
   ]
  },
  {
   "cell_type": "code",
   "execution_count": 2,
   "metadata": {
    "collapsed": true
   },
   "outputs": [],
   "source": [
    "def init_weights(shape):\n",
    "    return tf.Variable(tf.truncated_normal(shape, stddev=0.01))"
   ]
  },
  {
   "cell_type": "markdown",
   "metadata": {},
   "source": [
    "## function for model construction"
   ]
  },
  {
   "cell_type": "markdown",
   "metadata": {},
   "source": [
    "## tf.nn.conv2d(input, filter, strides, padding)\n",
    "* input tensor shape: [batch, in_height, in_width, in_channels]\n",
    "* filter tensor shape: [filter_height, filter_width, in_channels, out_channels]\n",
    "* stride tensor: input의 각 dimension에 대한 sliding window의 stride\n",
    "* padding: \"SAME\" or \"Valid\"\n",
    "\n",
    "## tf.nn.max_pool(value, ksize, strides, padding)\n",
    "* value: A 4-D Tensor with shape [batch, height, width, channels] and type tf.float32.\n",
    "* ksize: A list of ints that has length >= 4. The size of the window for each dimension of the input tensor.\n",
    "* strides: A list of ints that has length >= 4. The stride of the sliding window for each dimension of the input tensor.\n",
    "* padding: \"SAME\" or \"Valid\"\n",
    "\n",
    "## tf.nn.relu(features)\n",
    "* max(features, 0)\n",
    "\n",
    "## tf.nn.dropout(x, keep_prob)\n",
    "* keep_prob: dropout probability"
   ]
  },
  {
   "cell_type": "code",
   "execution_count": 3,
   "metadata": {
    "collapsed": true
   },
   "outputs": [],
   "source": [
    "def model(X, w, w2, w3, w4, w_o, p_keep_conv, p_keep_hidden):\n",
    "    l1a = tf.nn.relu(tf.nn.conv2d(X, w,                       \n",
    "                        strides=[1, 1, 1, 1], padding='SAME'))\n",
    "    # l1a output shape=(?, input_height, input_width, number_of_channels_layer1)\n",
    "    l1 = tf.nn.max_pool(l1a, ksize=[1, 2, 2, 1],              \n",
    "                        strides=[1, 2, 2, 1], padding='SAME')\n",
    "    # l1 output shape=(?, input_height/2, input_width/2, number_of_channels_layer1)\n",
    "    l1 = tf.nn.dropout(l1, p_keep_conv)\n",
    "    \n",
    "    l2a = tf.nn.relu(tf.nn.conv2d(l1, w2,                     \n",
    "                        strides=[1, 1, 1, 1], padding='SAME'))\n",
    "    # l2a output shape=(?, input_height/2, input_width/2, number_of_channels_layer2)\n",
    "    l2 = tf.nn.max_pool(l2a, ksize=[1, 2, 2, 1],              \n",
    "                        strides=[1, 2, 2, 1], padding='SAME')\n",
    "    # l2 shape=(?, input_height/4, input_width/4, number_of_channels_layer2)\n",
    "    l2 = tf.nn.dropout(l2, p_keep_conv)\n",
    "\n",
    "    l3a = tf.nn.relu(tf.nn.conv2d(l2, w3,                     \n",
    "                        strides=[1, 1, 1, 1], padding='SAME'))\n",
    "    # l3a shape=(?, input_height/4, input_width/4, number_of_channels_layer3)\n",
    "    l3 = tf.nn.max_pool(l3a, ksize=[1, 2, 2, 1],              \n",
    "                        strides=[1, 2, 2, 1], padding='SAME')\n",
    "    # l3 shape=(?, input_height/8, input_width/8, number_of_channels_layer3)\n",
    "    l3 = tf.reshape(l3, [-1, w4.get_shape().as_list()[0]])\n",
    "    # flatten to (?, input_height/8 * input_width/8 * number_of_channels_layer3)\n",
    "    l3 = tf.nn.dropout(l3, p_keep_conv)\n",
    "\n",
    "    l4 = tf.nn.relu(tf.matmul(l3, w4))\n",
    "    #fully connected_layer\n",
    "    l4 = tf.nn.dropout(l4, p_keep_hidden)\n",
    "    \n",
    "    pyx = tf.matmul(l4, w_o)\n",
    "    return pyx\n"
   ]
  },
  {
   "cell_type": "markdown",
   "metadata": {},
   "source": [
    "## Preparing data"
   ]
  },
  {
   "cell_type": "code",
   "execution_count": 4,
   "metadata": {
    "collapsed": false,
    "scrolled": true
   },
   "outputs": [
    {
     "name": "stdout",
     "output_type": "stream",
     "text": [
      "Extracting MNIST_data/train-images-idx3-ubyte.gz\n",
      "Extracting MNIST_data/train-labels-idx1-ubyte.gz\n",
      "Extracting MNIST_data/t10k-images-idx3-ubyte.gz\n",
      "Extracting MNIST_data/t10k-labels-idx1-ubyte.gz\n"
     ]
    }
   ],
   "source": [
    "mnist = input_data.read_data_sets(\"MNIST_data/\", one_hot=False)\n",
    "X_trn, Y_trn, X_test, Y_test = mnist.train.images, mnist.train.labels, mnist.test.images, mnist.test.labels\n",
    "X_trn = X_trn.reshape(-1, 28, 28, 1)  # 28x28x1 input img\n",
    "X_test = X_test.reshape(-1, 28, 28, 1)  # 28x28x1 input img"
   ]
  },
  {
   "cell_type": "markdown",
   "metadata": {},
   "source": [
    "## make placeholder for inputs and labels"
   ]
  },
  {
   "cell_type": "code",
   "execution_count": 5,
   "metadata": {
    "collapsed": true
   },
   "outputs": [],
   "source": [
    "X = tf.placeholder(tf.float32, [None, 28, 28, 1])\n",
    "Y = tf.placeholder(tf.int32, [None])"
   ]
  },
  {
   "cell_type": "markdown",
   "metadata": {},
   "source": [
    "## weight variable 와 Model 만들기\n",
    "### convlution + max pooling layer\n",
    "* 첫번째 convolution + max pooling layer: 3 X 3  Convolution, 2 * 2 max pooling, channel_in: 1, channel_out: 32\n",
    "* 두번째 convolution + max pooling layer: 3 X 3  Convolution, 2 * 2 max pooling, channel_in: 32, channel_out: 64\n",
    "* 세번째 convolution + max pooling layer: 3 X 3  Convolution, 2 * 2 max pooling, channel_in: 64, channel_out: 128\n",
    "\n",
    "### fully connected layer\n",
    "* flatten input layer to the fully connected layer\n",
    "* hidden layer unit: 625\n",
    "* output layer: number of classes (10)\n",
    "\n",
    "### dropout\n",
    "* convolution layer dropout\n",
    "* fully connected layer dropout"
   ]
  },
  {
   "cell_type": "code",
   "execution_count": 6,
   "metadata": {
    "collapsed": false
   },
   "outputs": [],
   "source": [
    "w = init_weights([3, 3, 1, 32])       \n",
    "w2 = init_weights([3, 3, 32, 64])     \n",
    "w3 = init_weights([3, 3, 64, 128])    \n",
    "w4 = init_weights([128 * 4 * 4, 625]) \n",
    "w_o = init_weights([625, 10])\n",
    "\n",
    "p_keep_conv = tf.placeholder(tf.float32)\n",
    "p_keep_hidden = tf.placeholder(tf.float32)\n",
    "py_x = model(X, w, w2, w3, w4, w_o, p_keep_conv, p_keep_hidden)"
   ]
  },
  {
   "cell_type": "markdown",
   "metadata": {},
   "source": [
    "## loss function"
   ]
  },
  {
   "cell_type": "code",
   "execution_count": 7,
   "metadata": {
    "collapsed": false
   },
   "outputs": [],
   "source": [
    "loss = tf.reduce_mean(tf.nn.sparse_softmax_cross_entropy_with_logits(py_x, Y))"
   ]
  },
  {
   "cell_type": "markdown",
   "metadata": {},
   "source": [
    "## Training operator\n",
    "#### tf.train.AdagradOptimizer"
   ]
  },
  {
   "cell_type": "code",
   "execution_count": 8,
   "metadata": {
    "collapsed": false
   },
   "outputs": [],
   "source": [
    "train_op = tf.train.AdagradOptimizer(learning_rate=0.05).minimize(loss)"
   ]
  },
  {
   "cell_type": "markdown",
   "metadata": {},
   "source": [
    "## Accuracy 계산\n",
    "### tensorflow를 통해서 accuracy를 계산"
   ]
  },
  {
   "cell_type": "code",
   "execution_count": 9,
   "metadata": {
    "collapsed": true
   },
   "outputs": [],
   "source": [
    "correct = tf.nn.in_top_k(py_x, Y, 1)\n",
    "accuracy = tf.reduce_mean(tf.cast(correct, tf.float32))"
   ]
  },
  {
   "cell_type": "markdown",
   "metadata": {},
   "source": [
    "## Session initialize 및 training"
   ]
  },
  {
   "cell_type": "code",
   "execution_count": 10,
   "metadata": {
    "collapsed": false,
    "scrolled": true
   },
   "outputs": [
    {
     "name": "stdout",
     "output_type": "stream",
     "text": [
      "epoch: 0 test accuracy 0.1004\n",
      "epoch: 1 test accuracy 0.0998\n",
      "epoch: 2 test accuracy 0.0988\n",
      "epoch: 3 test accuracy 0.0980\n",
      "epoch: 4 test accuracy 0.8526\n",
      "epoch: 5 test accuracy 0.9617\n",
      "epoch: 6 test accuracy 0.9764\n",
      "epoch: 7 test accuracy 0.9797\n",
      "epoch: 8 test accuracy 0.9812\n",
      "epoch: 9 test accuracy 0.9861\n",
      "epoch: 10 test accuracy 0.9851\n",
      "epoch: 11 test accuracy 0.9881\n",
      "epoch: 12 test accuracy 0.9869\n",
      "epoch: 13 test accuracy 0.9886\n",
      "epoch: 14 test accuracy 0.9901\n",
      "epoch: 15 test accuracy 0.9898\n",
      "epoch: 16 test accuracy 0.9898\n",
      "epoch: 17 test accuracy 0.9900\n",
      "epoch: 18 test accuracy 0.9887\n",
      "epoch: 19 test accuracy 0.9898\n",
      "epoch: 20 test accuracy 0.9900\n",
      "epoch: 21 test accuracy 0.9893\n",
      "epoch: 22 test accuracy 0.9901\n",
      "epoch: 23 test accuracy 0.9901\n",
      "epoch: 24 test accuracy 0.9900\n",
      "epoch: 25 test accuracy 0.9903\n",
      "epoch: 26 test accuracy 0.9891\n",
      "epoch: 27 test accuracy 0.9904\n",
      "epoch: 28 test accuracy 0.9898\n",
      "epoch: 29 test accuracy 0.9906\n",
      "epoch: 30 test accuracy 0.9907\n",
      "epoch: 31 test accuracy 0.9908\n",
      "epoch: 32 test accuracy 0.9896\n",
      "epoch: 33 test accuracy 0.9908\n",
      "epoch: 34 test accuracy 0.9903\n",
      "epoch: 35 test accuracy 0.9886\n",
      "epoch: 36 test accuracy 0.9913\n",
      "epoch: 37 test accuracy 0.9913\n",
      "epoch: 38 test accuracy 0.9899\n",
      "epoch: 39 test accuracy 0.9907\n",
      "epoch: 40 test accuracy 0.9904\n",
      "epoch: 41 test accuracy 0.9909\n",
      "epoch: 42 test accuracy 0.9905\n",
      "epoch: 43 test accuracy 0.9908\n",
      "epoch: 44 test accuracy 0.9910\n",
      "epoch: 45 test accuracy 0.9906\n",
      "epoch: 46 test accuracy 0.9915\n",
      "epoch: 47 test accuracy 0.9909\n",
      "epoch: 48 test accuracy 0.9909\n",
      "epoch: 49 test accuracy 0.9915\n"
     ]
    }
   ],
   "source": [
    "trn_loss_list = list()\n",
    "test_loss_list = list()\n",
    "test_accuracy_list = list()\n",
    "batch_size = 128\n",
    "with tf.Session() as sess:    \n",
    "    tf.initialize_all_variables().run()\n",
    "\n",
    "    for i in range(50):\n",
    "        trn_loss = 0\n",
    "        for start, end in zip(range(0, len(X_trn), batch_size), range(batch_size, len(X_trn)+1, batch_size)):\n",
    "            tmp_loss, _ = sess.run([loss, train_op], feed_dict={X: X_trn[start:end], Y: Y_trn[start:end],\n",
    "                                         p_keep_conv: 1.0, p_keep_hidden: 0.8})\n",
    "            trn_loss += tmp_loss\n",
    "        trn_loss_list.append(trn_loss / (len(X_trn) // batch_size)\n",
    "            \n",
    "        test_loss, test_acc = sess.run([loss, accuracy], feed_dict={X: X_test, Y: Y_test,\n",
    "                                                p_keep_conv: 1.0, p_keep_hidden: 1.0})\n",
    "        test_loss_list.append(test_loss)\n",
    "        test_accuracy_list.append(test_acc)\n",
    "        print(\"epoch: {} test accuracy {:0.4f}\".format(i, test_acc))"
   ]
  },
  {
   "cell_type": "markdown",
   "metadata": {},
   "source": [
    "## Loss plot"
   ]
  },
  {
   "cell_type": "code",
   "execution_count": 11,
   "metadata": {
    "collapsed": false
   },
   "outputs": [
    {
     "data": {
      "text/plain": [
       "<matplotlib.text.Text at 0x7f665c00f6d8>"
      ]
     },
     "execution_count": 11,
     "metadata": {},
     "output_type": "execute_result"
    },
    {
     "data": {
      "image/png": "[encoded data removed]",
      "text/plain": [
       "<matplotlib.figure.Figure at 0x7f665bff8780>"
      ]
     },
     "metadata": {},
     "output_type": "display_data"
    }
   ],
   "source": [
    "x = np.arange(50)\n",
    "plt.plot(x, trn_loss_list)\n",
    "plt.plot(x, test_loss_list)\n",
    "plt.title(\"cross entropy loss\")\n",
    "plt.legend([\"train loss\", \"test_loss\"])\n",
    "plt.xlabel(\"epoch\")\n",
    "plt.ylabel(\"cross entropy\")"
   ]
  },
  {
   "cell_type": "code",
   "execution_count": 12,
   "metadata": {
    "collapsed": false
   },
   "outputs": [
    {
     "data": {
      "text/plain": [
       "<matplotlib.text.Text at 0x7f664ea86940>"
      ]
     },
     "execution_count": 12,
     "metadata": {},
     "output_type": "execute_result"
    },
    {
     "data": {
      "image/png": "[encoded data removed]",
      "text/plain": [
       "<matplotlib.figure.Figure at 0x7f665c026588>"
      ]
     },
     "metadata": {},
     "output_type": "display_data"
    }
   ],
   "source": [
    "x = np.arange(50)\n",
    "plt.plot(x, test_accuracy_list)\n",
    "plt.title(\"prediction accuracy\")\n",
    "plt.xlabel(\"epoch\")\n",
    "plt.ylabel(\"accuracy\")"
   ]
  }
 ],
 "metadata": {
  "anaconda-cloud": {},
  "kernelspec": {
   "display_name": "Python [tensorflow]",
   "language": "python",
   "name": "Python [tensorflow]"
  },
  "language_info": {
   "codemirror_mode": {
    "name": "ipython",
    "version": 3
   },
   "file_extension": ".py",
   "mimetype": "text/x-python",
   "name": "python",
   "nbconvert_exporter": "python",
   "pygments_lexer": "ipython3",
   "version": "3.5.2"
  }
 },
 "nbformat": 4,
 "nbformat_minor": 0
}
