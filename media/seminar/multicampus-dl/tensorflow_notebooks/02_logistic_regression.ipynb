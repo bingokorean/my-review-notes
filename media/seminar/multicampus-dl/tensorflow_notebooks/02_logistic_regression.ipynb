{
 "cells": [
  {
   "cell_type": "markdown",
   "metadata": {},
   "source": [
    "# Logistic Regression"
   ]
  },
  {
   "cell_type": "code",
   "execution_count": 1,
   "metadata": {
    "collapsed": true
   },
   "outputs": [],
   "source": [
    "import tensorflow as tf\n",
    "from tensorflow.examples.tutorials.mnist import input_data\n",
    "import numpy as np\n",
    "import matplotlib.pyplot as plt\n",
    "%matplotlib inline"
   ]
  },
  {
   "cell_type": "markdown",
   "metadata": {},
   "source": [
    "## function for variables"
   ]
  },
  {
   "cell_type": "code",
   "execution_count": 2,
   "metadata": {
    "collapsed": true
   },
   "outputs": [],
   "source": [
    "def init_weights(shape):\n",
    "    return tf.Variable(tf.random_normal(shape, stddev=0.01))"
   ]
  },
  {
   "cell_type": "code",
   "execution_count": 3,
   "metadata": {
    "collapsed": true
   },
   "outputs": [],
   "source": [
    "?tf.random_normal"
   ]
  },
  {
   "cell_type": "markdown",
   "metadata": {},
   "source": [
    "## function for model construction"
   ]
  },
  {
   "cell_type": "code",
   "execution_count": 4,
   "metadata": {
    "collapsed": true
   },
   "outputs": [],
   "source": [
    "def model(X, w):\n",
    "    return tf.matmul(X, w)"
   ]
  },
  {
   "cell_type": "code",
   "execution_count": 5,
   "metadata": {
    "collapsed": false,
    "scrolled": true
   },
   "outputs": [
    {
     "name": "stdout",
     "output_type": "stream",
     "text": [
      "Extracting MNIST_data/train-images-idx3-ubyte.gz\n",
      "Extracting MNIST_data/train-labels-idx1-ubyte.gz\n",
      "Extracting MNIST_data/t10k-images-idx3-ubyte.gz\n",
      "Extracting MNIST_data/t10k-labels-idx1-ubyte.gz\n"
     ]
    }
   ],
   "source": [
    "mnist = input_data.read_data_sets(\"MNIST_data/\", one_hot=True)\n",
    "X_trn, Y_trn, X_test, Y_test = mnist.train.images, mnist.train.labels, mnist.test.images, mnist.test.labels"
   ]
  },
  {
   "cell_type": "markdown",
   "metadata": {},
   "source": [
    "## make placeholder for inputs and labels\n",
    "### shape of the placeholder for X: [batch_size, input_dimension]\n",
    "### shape of the placeholder for Y: [batch_size, num_labels]\n",
    "#### (softmax_cross_entropy_with_logits 이용시)\n",
    "### 따로 batch_size를 정해주지 않을 경우 None이라고 하면 input되는 개수를 인식함"
   ]
  },
  {
   "cell_type": "code",
   "execution_count": 6,
   "metadata": {
    "collapsed": true
   },
   "outputs": [],
   "source": [
    "X = tf.placeholder(tf.float32, [None, 784]) \n",
    "Y = tf.placeholder(tf.float32, [None, 10]) \n",
    "#softmax_cross_entropy_with_logits에는 float32이용"
   ]
  },
  {
   "cell_type": "markdown",
   "metadata": {},
   "source": [
    "## weight variable 와 Model 만들기"
   ]
  },
  {
   "cell_type": "code",
   "execution_count": 7,
   "metadata": {
    "collapsed": false
   },
   "outputs": [],
   "source": [
    "w = init_weights([784, 10])\n",
    "py_x = model(X, w)"
   ]
  },
  {
   "cell_type": "markdown",
   "metadata": {},
   "source": [
    "## loss function\n",
    "### tf.nn.softmax_cross_entropy_with_logits: \n",
    "### model output에 softmax계산을 내부적으로 해주고, 이에 대하여 one-hot coding된 label에 대해서 cross entropy를 계산한다."
   ]
  },
  {
   "cell_type": "code",
   "execution_count": 8,
   "metadata": {
    "collapsed": false
   },
   "outputs": [],
   "source": [
    "loss = tf.reduce_mean(tf.nn.softmax_cross_entropy_with_logits(py_x, Y))"
   ]
  },
  {
   "cell_type": "markdown",
   "metadata": {},
   "source": [
    "## Training operator"
   ]
  },
  {
   "cell_type": "code",
   "execution_count": 9,
   "metadata": {
    "collapsed": false
   },
   "outputs": [],
   "source": [
    "train_op = tf.train.GradientDescentOptimizer(learning_rate=0.05).minimize(loss)"
   ]
  },
  {
   "cell_type": "markdown",
   "metadata": {},
   "source": [
    "## Accuracy 계산을 위해서 class prediction"
   ]
  },
  {
   "cell_type": "code",
   "execution_count": 10,
   "metadata": {
    "collapsed": true
   },
   "outputs": [],
   "source": [
    "predict_op = tf.argmax(py_x, 1)"
   ]
  },
  {
   "cell_type": "markdown",
   "metadata": {},
   "source": [
    "## Session initialize 및 training"
   ]
  },
  {
   "cell_type": "code",
   "execution_count": 11,
   "metadata": {
    "collapsed": false,
    "scrolled": true
   },
   "outputs": [
    {
     "name": "stdout",
     "output_type": "stream",
     "text": [
      "epoch 0, accuracy : 0.8846\n",
      "epoch 1, accuracy : 0.8964\n",
      "epoch 2, accuracy : 0.9031\n",
      "epoch 3, accuracy : 0.9075\n",
      "epoch 4, accuracy : 0.9098\n",
      "epoch 5, accuracy : 0.9106\n",
      "epoch 6, accuracy : 0.9119\n",
      "epoch 7, accuracy : 0.913\n",
      "epoch 8, accuracy : 0.9143\n",
      "epoch 9, accuracy : 0.9152\n",
      "epoch 10, accuracy : 0.9162\n",
      "epoch 11, accuracy : 0.9167\n",
      "epoch 12, accuracy : 0.9172\n",
      "epoch 13, accuracy : 0.9172\n",
      "epoch 14, accuracy : 0.9174\n",
      "epoch 15, accuracy : 0.9179\n",
      "epoch 16, accuracy : 0.9181\n",
      "epoch 17, accuracy : 0.9188\n",
      "epoch 18, accuracy : 0.919\n",
      "epoch 19, accuracy : 0.9193\n",
      "epoch 20, accuracy : 0.9191\n",
      "epoch 21, accuracy : 0.9195\n",
      "epoch 22, accuracy : 0.9202\n",
      "epoch 23, accuracy : 0.9205\n",
      "epoch 24, accuracy : 0.9209\n",
      "epoch 25, accuracy : 0.9206\n",
      "epoch 26, accuracy : 0.9206\n",
      "epoch 27, accuracy : 0.9208\n",
      "epoch 28, accuracy : 0.921\n",
      "epoch 29, accuracy : 0.9214\n",
      "epoch 30, accuracy : 0.9215\n",
      "epoch 31, accuracy : 0.9215\n",
      "epoch 32, accuracy : 0.9216\n",
      "epoch 33, accuracy : 0.9215\n",
      "epoch 34, accuracy : 0.9212\n",
      "epoch 35, accuracy : 0.9214\n",
      "epoch 36, accuracy : 0.9216\n",
      "epoch 37, accuracy : 0.9219\n",
      "epoch 38, accuracy : 0.9218\n",
      "epoch 39, accuracy : 0.9219\n",
      "epoch 40, accuracy : 0.9218\n",
      "epoch 41, accuracy : 0.9219\n",
      "epoch 42, accuracy : 0.922\n",
      "epoch 43, accuracy : 0.9221\n",
      "epoch 44, accuracy : 0.9222\n",
      "epoch 45, accuracy : 0.9221\n",
      "epoch 46, accuracy : 0.9221\n",
      "epoch 47, accuracy : 0.9222\n",
      "epoch 48, accuracy : 0.9221\n",
      "epoch 49, accuracy : 0.9221\n",
      "epoch 50, accuracy : 0.9221\n",
      "epoch 51, accuracy : 0.922\n",
      "epoch 52, accuracy : 0.9219\n",
      "epoch 53, accuracy : 0.922\n",
      "epoch 54, accuracy : 0.9224\n",
      "epoch 55, accuracy : 0.9224\n",
      "epoch 56, accuracy : 0.9226\n",
      "epoch 57, accuracy : 0.9227\n",
      "epoch 58, accuracy : 0.9226\n",
      "epoch 59, accuracy : 0.9227\n",
      "epoch 60, accuracy : 0.9229\n",
      "epoch 61, accuracy : 0.923\n",
      "epoch 62, accuracy : 0.9229\n",
      "epoch 63, accuracy : 0.923\n",
      "epoch 64, accuracy : 0.9231\n",
      "epoch 65, accuracy : 0.9235\n",
      "epoch 66, accuracy : 0.9236\n",
      "epoch 67, accuracy : 0.9235\n",
      "epoch 68, accuracy : 0.9235\n",
      "epoch 69, accuracy : 0.9234\n",
      "epoch 70, accuracy : 0.9234\n",
      "epoch 71, accuracy : 0.9234\n",
      "epoch 72, accuracy : 0.9236\n",
      "epoch 73, accuracy : 0.9236\n",
      "epoch 74, accuracy : 0.9235\n",
      "epoch 75, accuracy : 0.9235\n",
      "epoch 76, accuracy : 0.9236\n",
      "epoch 77, accuracy : 0.9236\n",
      "epoch 78, accuracy : 0.9236\n",
      "epoch 79, accuracy : 0.9236\n",
      "epoch 80, accuracy : 0.9238\n",
      "epoch 81, accuracy : 0.9238\n",
      "epoch 82, accuracy : 0.9238\n",
      "epoch 83, accuracy : 0.9238\n",
      "epoch 84, accuracy : 0.9236\n",
      "epoch 85, accuracy : 0.9236\n",
      "epoch 86, accuracy : 0.9236\n",
      "epoch 87, accuracy : 0.9236\n",
      "epoch 88, accuracy : 0.9236\n",
      "epoch 89, accuracy : 0.9235\n",
      "epoch 90, accuracy : 0.9234\n",
      "epoch 91, accuracy : 0.9234\n",
      "epoch 92, accuracy : 0.9234\n",
      "epoch 93, accuracy : 0.9234\n",
      "epoch 94, accuracy : 0.9233\n",
      "epoch 95, accuracy : 0.9234\n",
      "epoch 96, accuracy : 0.9234\n",
      "epoch 97, accuracy : 0.9237\n",
      "epoch 98, accuracy : 0.9238\n",
      "epoch 99, accuracy : 0.924\n"
     ]
    }
   ],
   "source": [
    "trn_loss_list = list()\n",
    "test_loss_list = list()\n",
    "batch_size = 128\n",
    "with tf.Session() as sess:    \n",
    "    tf.initialize_all_variables().run()\n",
    "\n",
    "    for i in range(100):\n",
    "        trn_loss = 0\n",
    "        for start, end in zip(range(0, len(X_trn), batch_size), range(batch_size, len(X_trn)+1, batch_size)):\n",
    "            loss_tmp, _ = sess.run([loss, train_op], feed_dict={X: X_trn[start:end], Y: Y_trn[start:end]})\n",
    "            trn_loss += loss_tmp\n",
    "        trn_loss_list.append(trn_loss / (len(X_trn) // batch_size))\n",
    "        test_loss, prediction = sess.run([loss, predict_op], feed_dict={X: X_test, Y: Y_test})\n",
    "        test_loss_list.append(test_loss)\n",
    "        print(\"epoch {}, accuracy : {}\".format(i, np.mean(np.argmax(Y_test, axis=1) ==prediction)))"
   ]
  },
  {
   "cell_type": "markdown",
   "metadata": {},
   "source": [
    "## Loss plot"
   ]
  },
  {
   "cell_type": "code",
   "execution_count": 12,
   "metadata": {
    "collapsed": false,
    "scrolled": true
   },
   "outputs": [
    {
     "data": {
      "text/plain": [
       "<matplotlib.text.Text at 0x7f42f9ec0c18>"
      ]
     },
     "execution_count": 12,
     "metadata": {},
     "output_type": "execute_result"
    },
    {
     "data": {
      "image/png": "[encoded data removed]",
      "text/plain": [
       "<matplotlib.figure.Figure at 0x7f42f9e8a898>"
      ]
     },
     "metadata": {},
     "output_type": "display_data"
    }
   ],
   "source": [
    "x = np.arange(100)\n",
    "plt.plot(x, trn_loss_list)\n",
    "plt.plot(x, test_loss_list)\n",
    "plt.title(\"cross entropy loss\")\n",
    "plt.legend([\"train loss\", \"test_loss\"])\n",
    "plt.xlabel(\"epoch\")\n",
    "plt.ylabel(\"cross entropy\")"
   ]
  }
 ],
 "metadata": {
  "anaconda-cloud": {},
  "kernelspec": {
   "display_name": "Python [tensorflow]",
   "language": "python",
   "name": "Python [tensorflow]"
  },
  "language_info": {
   "codemirror_mode": {
    "name": "ipython",
    "version": 3
   },
   "file_extension": ".py",
   "mimetype": "text/x-python",
   "name": "python",
   "nbconvert_exporter": "python",
   "pygments_lexer": "ipython3",
   "version": "3.5.2"
  }
 },
 "nbformat": 4,
 "nbformat_minor": 0
}
