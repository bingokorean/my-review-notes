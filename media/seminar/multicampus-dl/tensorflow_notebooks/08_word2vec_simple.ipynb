{
 "cells": [
  {
   "cell_type": "markdown",
   "metadata": {},
   "source": [
    "# Recurrent Neural Network"
   ]
  },
  {
   "cell_type": "code",
   "execution_count": 1,
   "metadata": {
    "collapsed": false
   },
   "outputs": [],
   "source": [
    "import collections\n",
    "import numpy as np\n",
    "import tensorflow as tf\n",
    "import matplotlib.pyplot as plt\n",
    "import pandas as pd\n",
    "import re\n",
    "%matplotlib inline"
   ]
  },
  {
   "cell_type": "markdown",
   "metadata": {},
   "source": [
    "## Configuration"
   ]
  },
  {
   "cell_type": "code",
   "execution_count": 2,
   "metadata": {
    "collapsed": true
   },
   "outputs": [],
   "source": [
    "batch_size = 20\n",
    "embedding_size = 2\n",
    "num_sampled = 15"
   ]
  },
  {
   "cell_type": "markdown",
   "metadata": {},
   "source": [
    "## Movie Review Text data"
   ]
  },
  {
   "cell_type": "code",
   "execution_count": 3,
   "metadata": {
    "collapsed": false
   },
   "outputs": [],
   "source": [
    "sentences = pd.read_csv(\"./data/review_text.csv\", header=None)\n",
    "sentences = sentences.values.ravel().tolist()"
   ]
  },
  {
   "cell_type": "markdown",
   "metadata": {},
   "source": [
    "## Preprocessing"
   ]
  },
  {
   "cell_type": "code",
   "execution_count": 4,
   "metadata": {
    "collapsed": false
   },
   "outputs": [],
   "source": [
    "sentences = [re.sub('[^a-z ]+',' ',x.lower()) for x in sentences]"
   ]
  },
  {
   "cell_type": "markdown",
   "metadata": {},
   "source": [
    "## Sentences to words and word count"
   ]
  },
  {
   "cell_type": "code",
   "execution_count": 5,
   "metadata": {
    "collapsed": false
   },
   "outputs": [],
   "source": [
    "words = \" \".join(sentences).split()\n",
    "count = collections.Counter(words)"
   ]
  },
  {
   "cell_type": "code",
   "execution_count": 6,
   "metadata": {
    "collapsed": false,
    "scrolled": true
   },
   "outputs": [
    {
     "name": "stdout",
     "output_type": "stream",
     "text": [
      "Word count [('the', 331252), ('and', 160303), ('a', 159888), ('of', 143549), ('to', 132402)]\n"
     ]
    }
   ],
   "source": [
    "print (\"Word count\", count.most_common()[:5])"
   ]
  },
  {
   "cell_type": "markdown",
   "metadata": {},
   "source": [
    "## Build Dictionary"
   ]
  },
  {
   "cell_type": "code",
   "execution_count": 7,
   "metadata": {
    "collapsed": false,
    "scrolled": true
   },
   "outputs": [
    {
     "name": "stdout",
     "output_type": "stream",
     "text": [
      "Sample data [36421, 34991, 23241, 47544, 15981, 2809, 12532, 26073, 37873, 50223, 9571, 37360, 31726, 68423, 50223, 52612, 37788, 32464, 842, 6642, 43700, 15386, 37788, 32464, 11066, 62334, 36443, 38922, 51246, 35817, 71540, 69168, 17228, 58650, 56915, 32464, 23241, 62323, 31726, 59976, 37527, 1685, 47544, 50557, 60534, 22686, 27453, 1685, 63853, 32464, 44481, 31726, 71166, 1685, 47058, 56503, 31726, 21830, 1685, 41805, 31726, 25138, 5173, 20003, 15386, 4769, 59557, 6642, 38192, 31432, 50223, 40118, 37527, 67371, 15266, 49975, 37527, 67371, 70393, 8270, 37527, 67371, 17142, 66554, 7749, 37527, 67371, 18081, 36421, 11132, 2809, 21446, 61720, 62908, 1685, 47544, 23241, 50013, 48607, 3694, 32834, 64482, 32834, 23241, 60596, 30924, 44049, 1685, 14175, 16003, 12836, 28729, 11036, 32834, 1685, 56560, 50223, 1685, 28106, 14356, 34991, 22154, 37788, 32464, 47419, 23241, 33239, 50223, 63466, 42733, 31726, 9100, 54141] ['naturally', 'in', 'a', 'film', 'who', 's', 'main', 'themes', 'are', 'of', 'mortality', 'nostalgia', 'and', 'loss', 'of', 'innocence', 'it', 'is', 'perhaps', 'not', 'surprising', 'that', 'it', 'is', 'rated', 'more', 'highly', 'by', 'older', 'viewers', 'than', 'younger', 'ones', 'however', 'there', 'is', 'a', 'craftsmanship', 'and', 'completeness', 'to', 'the', 'film', 'which', 'anyone', 'can', 'enjoy', 'the', 'pace', 'is', 'steady', 'and', 'constant', 'the', 'characters', 'full', 'and', 'engaging', 'the', 'relationships', 'and', 'interactions', 'natural', 'showing', 'that', 'you', 'do', 'not', 'need', 'floods', 'of', 'tears', 'to', 'show', 'emotion', 'screams', 'to', 'show', 'fear', 'shouting', 'to', 'show', 'dispute', 'or', 'violence', 'to', 'show', 'anger', 'naturally', 'joyce', 's', 'short', 'story', 'lends', 'the', 'film', 'a', 'ready', 'made', 'structure', 'as', 'perfect', 'as', 'a', 'polished', 'diamond', 'but', 'the', 'small', 'changes', 'huston', 'makes', 'such', 'as', 'the', 'inclusion', 'of', 'the', 'poem', 'fit', 'in', 'neatly', 'it', 'is', 'truly', 'a', 'masterpiece', 'of', 'tact', 'subtlety', 'and', 'overwhelming', 'beauty']\n"
     ]
    }
   ],
   "source": [
    "idx_to_word = {idx:w for idx, w in enumerate(count.keys())}\n",
    "word_to_idx = {w: i for i, w in idx_to_word.items()} \n",
    "voc_size = len(word_to_idx)\n",
    "data = [[word_to_idx[word] for word in sentence.split()] for sentence in sentences]\n",
    "\n",
    "print('Sample data', data[0], [idx_to_word[t] for t in data[0]])"
   ]
  },
  {
   "cell_type": "markdown",
   "metadata": {},
   "source": [
    "## Training data: CBOW"
   ]
  },
  {
   "cell_type": "code",
   "execution_count": 8,
   "metadata": {
    "collapsed": false
   },
   "outputs": [
    {
     "name": "stdout",
     "output_type": "stream",
     "text": [
      "CBOW pairs : [[[36421, 23241], 34991], [[34991, 47544], 23241], [[23241, 15981], 47544], [[47544, 2809], 15981], [[15981, 12532], 2809], [[2809, 26073], 12532], [[12532, 37873], 26073], [[26073, 50223], 37873], [[37873, 9571], 50223], [[50223, 37360], 9571]]\n"
     ]
    }
   ],
   "source": [
    "cbow_pairs = []\n",
    "for sentence in data:\n",
    "    for i in range(1, len(sentence)-1):\n",
    "        cbow_pairs.append([[sentence[i-1], sentence[i+1]], sentence[i]])\n",
    "print(\"CBOW pairs :\" , cbow_pairs[:10])"
   ]
  },
  {
   "cell_type": "markdown",
   "metadata": {},
   "source": [
    "## Training data: Skip gram"
   ]
  },
  {
   "cell_type": "code",
   "execution_count": 9,
   "metadata": {
    "collapsed": false,
    "scrolled": true
   },
   "outputs": [
    {
     "name": "stdout",
     "output_type": "stream",
     "text": [
      "Skip gram pairs : [[34991, 36421], [34991, 23241], [23241, 34991], [23241, 47544], [47544, 23241], [47544, 15981], [15981, 47544], [15981, 2809], [2809, 15981], [2809, 12532]]\n"
     ]
    }
   ],
   "source": [
    "skip_gram_pairs = []\n",
    "for sentence in data:\n",
    "    for i in range(1, len(sentence)-1):\n",
    "        skip_gram_pairs.append([sentence[i], sentence[i-1]])\n",
    "        skip_gram_pairs.append([sentence[i], sentence[i+1]])\n",
    "print(\"Skip gram pairs :\" , skip_gram_pairs[:10])"
   ]
  },
  {
   "cell_type": "markdown",
   "metadata": {},
   "source": [
    "## Generate Batch"
   ]
  },
  {
   "cell_type": "code",
   "execution_count": 10,
   "metadata": {
    "collapsed": true
   },
   "outputs": [],
   "source": [
    "def generate_batch(size):\n",
    "    assert size < len(skip_gram_pairs)\n",
    "    x_data=[]\n",
    "    y_data = []\n",
    "    r = np.random.choice(range(len(skip_gram_pairs)), size, replace=False)\n",
    "    for i in r:\n",
    "        x_data.append(skip_gram_pairs[i][0])  # n dim\n",
    "        y_data.append([skip_gram_pairs[i][1]])  # n, 1 dim\n",
    "    return x_data, y_data"
   ]
  },
  {
   "cell_type": "code",
   "execution_count": 11,
   "metadata": {
    "collapsed": false
   },
   "outputs": [
    {
     "name": "stdout",
     "output_type": "stream",
     "text": [
      "Batches (x, y) ([4494, 22247, 51855], [[29633], [50167], [31726]])\n"
     ]
    }
   ],
   "source": [
    "print ('Batches (x, y)', generate_batch(3))"
   ]
  },
  {
   "cell_type": "markdown",
   "metadata": {},
   "source": [
    "## Input, Label Variable 만들기"
   ]
  },
  {
   "cell_type": "code",
   "execution_count": 12,
   "metadata": {
    "collapsed": true
   },
   "outputs": [],
   "source": [
    "# Input data\n",
    "train_inputs = tf.placeholder(tf.int32, shape=[batch_size])\n",
    "# need to shape [batch_size, 1] for nn.nce_loss\n",
    "train_labels = tf.placeholder(tf.int32, shape=[batch_size, 1])"
   ]
  },
  {
   "cell_type": "code",
   "execution_count": 13,
   "metadata": {
    "collapsed": false
   },
   "outputs": [],
   "source": [
    "# Look up embeddings for inputs.\n",
    "embeddings = tf.Variable(\n",
    "    tf.random_uniform([voc_size, embedding_size], -1.0, 1.0))\n",
    "embed = tf.nn.embedding_lookup(embeddings, train_inputs) # lookup table"
   ]
  },
  {
   "cell_type": "code",
   "execution_count": 14,
   "metadata": {
    "collapsed": true
   },
   "outputs": [],
   "source": [
    "# Construct the variables for the NCE loss\n",
    "nce_weights = tf.Variable(\n",
    "    tf.random_uniform([voc_size, embedding_size],-1.0, 1.0))\n",
    "nce_biases = tf.Variable(tf.zeros([voc_size]))"
   ]
  },
  {
   "cell_type": "markdown",
   "metadata": {},
   "source": [
    "## loss function과 optimizer"
   ]
  },
  {
   "cell_type": "code",
   "execution_count": 15,
   "metadata": {
    "collapsed": true
   },
   "outputs": [],
   "source": [
    "loss = tf.reduce_mean(\n",
    "  tf.nn.nce_loss(nce_weights, nce_biases, embed, train_labels,\n",
    "                 num_sampled, voc_size))\n",
    "\n",
    "train_op = tf.train.AdamOptimizer(1e-1).minimize(loss)"
   ]
  },
  {
   "cell_type": "code",
   "execution_count": 16,
   "metadata": {
    "collapsed": false,
    "scrolled": true
   },
   "outputs": [
    {
     "name": "stdout",
     "output_type": "stream",
     "text": [
      "Loss at  0 81.5753\n",
      "Loss at  10 80.3171\n",
      "Loss at  20 77.0485\n",
      "Loss at  30 76.4306\n",
      "Loss at  40 88.266\n",
      "Loss at  50 72.395\n",
      "Loss at  60 73.5544\n",
      "Loss at  70 60.7777\n",
      "Loss at  80 60.3849\n",
      "Loss at  90 59.1671\n",
      "Loss at  100 77.3924\n",
      "Loss at  110 70.7755\n",
      "Loss at  120 57.8257\n",
      "Loss at  130 67.0192\n",
      "Loss at  140 93.3969\n",
      "Loss at  150 70.3723\n",
      "Loss at  160 47.5134\n",
      "Loss at  170 84.9768\n",
      "Loss at  180 79.7238\n",
      "Loss at  190 63.7816\n"
     ]
    }
   ],
   "source": [
    "loss_trn = list()\n",
    "with tf.Session() as sess:\n",
    "    # Initializing all variables\n",
    "    sess.run(tf.initialize_all_variables())\n",
    "\n",
    "    for step in range(200):\n",
    "        batch_inputs, batch_labels = generate_batch(batch_size)\n",
    "        _, loss_val = sess.run([train_op, loss],\n",
    "                feed_dict={train_inputs: batch_inputs, train_labels: batch_labels})\n",
    "        loss_trn.append(loss_val)\n",
    "        if step % 10 == 0:\n",
    "            print(\"Loss at \", step, loss_val) # Report the loss\n",
    "\n",
    "    # Final embeddings are ready for you to use. Need to normalize for practical use\n",
    "    trained_embeddings = sess.run(embeddings)"
   ]
  },
  {
   "cell_type": "markdown",
   "metadata": {},
   "source": [
    "## Training loss plot"
   ]
  },
  {
   "cell_type": "code",
   "execution_count": 17,
   "metadata": {
    "collapsed": false
   },
   "outputs": [
    {
     "data": {
      "text/plain": [
       "[<matplotlib.lines.Line2D at 0x7ff3141a1b38>]"
      ]
     },
     "execution_count": 17,
     "metadata": {},
     "output_type": "execute_result"
    },
    {
     "data": {
      "image/png": "[encoded data removed]",
      "text/plain": [
       "<matplotlib.figure.Figure at 0x7ff31f775278>"
      ]
     },
     "metadata": {},
     "output_type": "display_data"
    }
   ],
   "source": [
    "plt.plot(loss_trn)"
   ]
  },
  {
   "cell_type": "markdown",
   "metadata": {},
   "source": [
    "## Distributed Representations of words"
   ]
  },
  {
   "cell_type": "code",
   "execution_count": 18,
   "metadata": {
    "collapsed": false
   },
   "outputs": [
    {
     "data": {
      "image/png": "[encoded data removed]",
      "text/plain": [
       "<matplotlib.figure.Figure at 0x7ff31423d128>"
      ]
     },
     "metadata": {},
     "output_type": "display_data"
    }
   ],
   "source": [
    "labels = [\"queen\", \"king\", \"boy\", \"girl\", \"uncle\", \"aunt\", \"female\", \"male\"] # Show top 10 words\n",
    "for i, label in enumerate(labels):\n",
    "    x, y = trained_embeddings[i,:]\n",
    "    plt.scatter(x, y)\n",
    "    plt.annotate(label, xy=(x, y), xytext=(5, 2),\n",
    "        textcoords='offset points', ha='right', va='bottom')"
   ]
  }
 ],
 "metadata": {
  "anaconda-cloud": {},
  "kernelspec": {
   "display_name": "Python [tensorflow]",
   "language": "python",
   "name": "Python [tensorflow]"
  },
  "language_info": {
   "codemirror_mode": {
    "name": "ipython",
    "version": 3
   },
   "file_extension": ".py",
   "mimetype": "text/x-python",
   "name": "python",
   "nbconvert_exporter": "python",
   "pygments_lexer": "ipython3",
   "version": "3.5.2"
  }
 },
 "nbformat": 4,
 "nbformat_minor": 0
}
