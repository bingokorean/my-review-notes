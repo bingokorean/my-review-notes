{
 "cells": [
  {
   "cell_type": "code",
   "execution_count": 1,
   "metadata": {
    "collapsed": false
   },
   "outputs": [],
   "source": [
    "import tensorflow as tf\n",
    "import numpy as np\n",
    "import matplotlib.pyplot as plt\n",
    "%matplotlib inline "
   ]
  },
  {
   "cell_type": "markdown",
   "metadata": {},
   "source": [
    "# Multiplication"
   ]
  },
  {
   "cell_type": "code",
   "execution_count": 2,
   "metadata": {
    "collapsed": false
   },
   "outputs": [
    {
     "name": "stdout",
     "output_type": "stream",
     "text": [
      "2.0 should equal 2.0\n",
      "9.0 should equal 9.0\n"
     ]
    }
   ],
   "source": [
    "sess = tf.Session()\n",
    "a = tf.placeholder(tf.float32)\n",
    "b = tf.placeholder(tf.float32)\n",
    "y = tf.mul(a, b)\n",
    "print(\"{:.1f} should equal 2.0\".format(sess.run(y, feed_dict={a: 1, b: 2})))\n",
    "print(\"{:.1f} should equal 9.0\".format(sess.run(y, feed_dict={a: 3, b: 3})))"
   ]
  },
  {
   "cell_type": "markdown",
   "metadata": {},
   "source": [
    "# Simple Linear Regression"
   ]
  },
  {
   "cell_type": "markdown",
   "metadata": {},
   "source": [
    "## Training data Generation"
   ]
  },
  {
   "cell_type": "code",
   "execution_count": 3,
   "metadata": {
    "collapsed": false
   },
   "outputs": [],
   "source": [
    "num_sample = 20\n",
    "X_trn = np.linspace(0, 1, num_sample)\n",
    "Weight = 2\n",
    "Bias = -1.0\n",
    "noise_level = 0.1\n",
    "Y_true = X_trn * Weight + Bias\n",
    "Y_trn = Y_true + np.random.randn(*X_trn.shape) * noise_level"
   ]
  },
  {
   "cell_type": "code",
   "execution_count": 4,
   "metadata": {
    "collapsed": false
   },
   "outputs": [
    {
     "data": {
      "image/png": "[encoded data removed]",
      "text/plain": [
       "<matplotlib.figure.Figure at 0x7f115d427ef0>"
      ]
     },
     "metadata": {},
     "output_type": "display_data"
    }
   ],
   "source": [
    "plt.figure(1)\n",
    "plt.plot(X_trn, Y_true, \"ro\", label = \"True data\")\n",
    "plt.plot(X_trn, Y_trn, \"bo\", label = \"Training data\")\n",
    "plt.show()"
   ]
  },
  {
   "cell_type": "markdown",
   "metadata": {},
   "source": [
    "## 모델 만들기"
   ]
  },
  {
   "cell_type": "code",
   "execution_count": 5,
   "metadata": {
    "collapsed": false
   },
   "outputs": [],
   "source": [
    "X = tf.placeholder(tf.float32)\n",
    "Y = tf.placeholder(tf.float32)\n",
    "W = tf.Variable(0.0)\n",
    "b = tf.Variable(0.0)\n",
    "Y_model = tf.mul(X, W) + b"
   ]
  },
  {
   "cell_type": "markdown",
   "metadata": {},
   "source": [
    "## Loss function 만들기"
   ]
  },
  {
   "cell_type": "code",
   "execution_count": 6,
   "metadata": {
    "collapsed": false
   },
   "outputs": [],
   "source": [
    "loss = tf.reduce_mean(tf.square(Y - Y_model))"
   ]
  },
  {
   "cell_type": "markdown",
   "metadata": {},
   "source": [
    "## training Opimizer 만들기"
   ]
  },
  {
   "cell_type": "code",
   "execution_count": 7,
   "metadata": {
    "collapsed": true
   },
   "outputs": [],
   "source": [
    "train_op = tf.train.AdagradOptimizer(learning_rate=0.1).minimize(loss)"
   ]
  },
  {
   "cell_type": "code",
   "execution_count": 8,
   "metadata": {
    "collapsed": false,
    "scrolled": true
   },
   "outputs": [
    {
     "name": "stdout",
     "output_type": "stream",
     "text": [
      "Weight: 0.0748, Bias: -0.0016\n",
      "loss: 0.3395\n",
      "Weight: 1.3874, Bias: -0.6901\n",
      "loss: 0.0433\n",
      "Weight: 1.7218, Bias: -0.8610\n",
      "loss: 0.0189\n",
      "Weight: 1.8553, Bias: -0.9292\n",
      "loss: 0.0150\n",
      "Weight: 1.9106, Bias: -0.9574\n",
      "loss: 0.0143\n",
      "Weight: 1.9337, Bias: -0.9691\n",
      "loss: 0.0142\n",
      "Weight: 1.9433, Bias: -0.9740\n",
      "loss: 0.0141\n",
      "Weight: 1.9473, Bias: -0.9761\n",
      "loss: 0.0141\n",
      "Weight: 1.9489, Bias: -0.9769\n",
      "loss: 0.0141\n",
      "Weight: 1.9496, Bias: -0.9773\n",
      "loss: 0.0141\n"
     ]
    }
   ],
   "source": [
    "sess.run(tf.initialize_all_variables())\n",
    "for i in range(1000):\n",
    "    sess.run(train_op, feed_dict={X: X_trn, Y: Y_trn})\n",
    "    if i % 100 == 0:\n",
    "        print(\"Weight: {:0.4f}, Bias: {:0.4f}\".format(*sess.run([W, b])))\n",
    "        print(\"loss: {:0.4f}\".format(sess.run(loss, feed_dict={X: X_trn, Y: Y_trn})))"
   ]
  },
  {
   "cell_type": "code",
   "execution_count": 9,
   "metadata": {
    "collapsed": false
   },
   "outputs": [],
   "source": [
    "W, b = sess.run([W, b])"
   ]
  },
  {
   "cell_type": "code",
   "execution_count": 10,
   "metadata": {
    "collapsed": true
   },
   "outputs": [],
   "source": [
    "sess.close()"
   ]
  },
  {
   "cell_type": "code",
   "execution_count": 11,
   "metadata": {
    "collapsed": false
   },
   "outputs": [],
   "source": [
    "Y_pred = np.dot(X_trn, W) + b"
   ]
  },
  {
   "cell_type": "code",
   "execution_count": 12,
   "metadata": {
    "collapsed": false
   },
   "outputs": [
    {
     "data": {
      "image/png": "[encoded data removed]",
      "text/plain": [
       "<matplotlib.figure.Figure at 0x7f1118180160>"
      ]
     },
     "metadata": {},
     "output_type": "display_data"
    }
   ],
   "source": [
    "plt.figure(1)\n",
    "plt.plot(X_trn, Y_true, \"ro\", label = \"True data\")\n",
    "plt.plot(X_trn, Y_trn, \"bo\", label = \"Training data\")\n",
    "plt.plot(X_trn, Y_pred, \"k-\", label = \"Prediction\")\n",
    "plt.show()"
   ]
  },
  {
   "cell_type": "code",
   "execution_count": null,
   "metadata": {
    "collapsed": true
   },
   "outputs": [],
   "source": []
  }
 ],
 "metadata": {
  "anaconda-cloud": {},
  "kernelspec": {
   "display_name": "Python [tensorflow]",
   "language": "python",
   "name": "Python [tensorflow]"
  },
  "language_info": {
   "codemirror_mode": {
    "name": "ipython",
    "version": 3
   },
   "file_extension": ".py",
   "mimetype": "text/x-python",
   "name": "python",
   "nbconvert_exporter": "python",
   "pygments_lexer": "ipython3",
   "version": "3.5.2"
  }
 },
 "nbformat": 4,
 "nbformat_minor": 0
}
